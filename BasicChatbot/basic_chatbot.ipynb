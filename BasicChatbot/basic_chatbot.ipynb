{
 "cells": [
  {
   "cell_type": "code",
   "execution_count": 1,
   "id": "59f3ea96",
   "metadata": {},
   "outputs": [],
   "source": [
    "## Build a basic chatbot with Langgraph\n",
    "\n",
    "from typing import Annotated\n",
    "from typing_extensions import TypedDict\n",
    "from langgraph.graph import StateGraph, START, END\n",
    "from langgraph.graph.message import add_messages\n",
    "\n",
    "class State(TypedDict):\n",
    "    ## messages have the type list. the add messages function in the annotation defines how this state key should be updated\n",
    "    ## in this case it append message to the list instead of overwriting it\n",
    "    messages:Annotated[list,add_messages]\n"
   ]
  },
  {
   "cell_type": "code",
   "execution_count": 2,
   "id": "d4f69eb7",
   "metadata": {},
   "outputs": [
    {
     "data": {
      "text/plain": [
       "True"
      ]
     },
     "execution_count": 2,
     "metadata": {},
     "output_type": "execute_result"
    }
   ],
   "source": [
    "import os\n",
    "from dotenv import load_dotenv\n",
    "load_dotenv()"
   ]
  },
  {
   "cell_type": "code",
   "execution_count": 3,
   "id": "6942694b",
   "metadata": {},
   "outputs": [],
   "source": [
    "os.environ['GROQ_API_KEY']=os.environ['GROQ_API_KEY']\n",
    "os.environ['TAVILY_API_KEY']=os.environ['TAVILY_API_KEY']"
   ]
  },
  {
   "cell_type": "code",
   "execution_count": 20,
   "id": "878523c8",
   "metadata": {},
   "outputs": [
    {
     "data": {
      "text/plain": [
       "ChatGroq(client=<groq.resources.chat.completions.Completions object at 0x7f256fe4ac10>, async_client=<groq.resources.chat.completions.AsyncCompletions object at 0x7f256fe4b610>, model_name='openai/gpt-oss-20b', model_kwargs={}, groq_api_key=SecretStr('**********'))"
      ]
     },
     "execution_count": 20,
     "metadata": {},
     "output_type": "execute_result"
    }
   ],
   "source": [
    "from langchain_groq import ChatGroq\n",
    "from langchain.chat_models import init_chat_model\n",
    "\n",
    "llm=ChatGroq(model='openai/gpt-oss-20b')\n",
    "llm"
   ]
  },
  {
   "cell_type": "code",
   "execution_count": 21,
   "id": "ae0a8c1f",
   "metadata": {},
   "outputs": [],
   "source": [
    "def chatbot(state:State):\n",
    "    return {'messages':[llm.invoke(state['messages'])]}\n",
    "\n",
    "graph_builder=StateGraph(State)\n",
    "graph_builder.add_node('llmchatbot',chatbot)\n",
    "\n",
    "graph_builder.add_edge(START,'llmchatbot')\n",
    "graph_builder.add_edge('llmchatbot',END)\n",
    "\n",
    "graph_builder=graph_builder.compile()\n"
   ]
  },
  {
   "cell_type": "code",
   "execution_count": 22,
   "id": "27d261e0",
   "metadata": {},
   "outputs": [
    {
     "data": {
      "text/plain": [
       "'Hello! How can I help you today?'"
      ]
     },
     "execution_count": 22,
     "metadata": {},
     "output_type": "execute_result"
    }
   ],
   "source": [
    "response=graph_builder.invoke({'messages':'hi'})\n",
    "response['messages'][-1].content"
   ]
  },
  {
   "cell_type": "code",
   "execution_count": 23,
   "id": "b842e24f",
   "metadata": {},
   "outputs": [
    {
     "name": "stdout",
     "output_type": "stream",
     "text": [
      "Hello! I'm doing great, thanks for asking. How about you—how’s your day going?\n"
     ]
    }
   ],
   "source": [
    "for event in graph_builder.stream({'messages':'Hi How are you?'}):\n",
    "    for value in event.values():\n",
    "        print(value['messages'][-1].content)"
   ]
  },
  {
   "cell_type": "code",
   "execution_count": null,
   "id": "186feb4b",
   "metadata": {},
   "outputs": [
    {
     "data": {
      "text/plain": [
       "{'query': 'what is langgraph?',\n",
       " 'follow_up_questions': None,\n",
       " 'answer': None,\n",
       " 'images': [],\n",
       " 'results': [{'url': 'https://www.ibm.com/think/topics/langgraph',\n",
       "   'title': 'What is LangGraph?',\n",
       "   'content': 'LangGraph isan open source AI agent frameworkfor building, deploying, and managing complex generative AI workflows, using graph-based architectures.',\n",
       "   'score': 0.94956195,\n",
       "   'raw_content': None},\n",
       "  {'url': 'https://www.geeksforgeeks.org/machine-learning/what-is-langgraph/',\n",
       "   'title': 'What is LangGraph?',\n",
       "   'content': 'LangGraph is an open-source framework built by LangChain that streamlines the creation and management of AI agent workflows. By treating workflows as interconnected nodes and edges, LangGraph offers a scalable, transparent and developer-friendly way to design advanced AI systems ranging from simple chatbots to multi-agent system. * ****Enhanced decision-making:**** Models relationships between nodes, enabling AI agents to learn from past actions and feedback. * ****langgraph:**** Framework for building graph-based AI workflows. * Build the workflow graph using LangGraph, adding nodes for classification and response, connecting them with edges and compiling the app. * Send each input through the workflow graph and returns the bot’s response, either a greeting or an AI-powered answer.',\n",
       "   'score': 0.9459663,\n",
       "   'raw_content': None}],\n",
       " 'response_time': 1.0,\n",
       " 'request_id': '41a9f2a4-c637-448a-9f28-16556bf87578'}"
      ]
     },
     "execution_count": 24,
     "metadata": {},
     "output_type": "execute_result"
    }
   ],
   "source": [
    "## chatbot with tools\n",
    "from langchain_tavily import TavilySearch\n",
    "\n",
    "tool=TavilySearch(max_results=2)\n",
    "tool.invoke('what is langgraph?')"
   ]
  },
  {
   "cell_type": "code",
   "execution_count": 29,
   "id": "1417b270",
   "metadata": {},
   "outputs": [],
   "source": [
    "## custom functon\n",
    "from langchain_core.tools import tool \n",
    "\n",
    "@tool\n",
    "def multiply(a: int, b: int) -> int:\n",
    "    \"\"\"Multiplies two numbers, a and b.\"\"\"\n",
    "    return a * b\n",
    "\n",
    "# Instantiate the pre-built tool\n",
    "web_search_tool = TavilySearch(max_results=2)\n",
    "\n",
    "# The tools list contains the actual instantiated/decorated tool objects\n",
    "tools = [web_search_tool, multiply]\n",
    "\n",
    "# Bind the model (This line is now correct)\n",
    "llm_with_tools = llm.bind_tools(tools)"
   ]
  },
  {
   "cell_type": "code",
   "execution_count": 30,
   "id": "f12a1e88",
   "metadata": {},
   "outputs": [],
   "source": [
    "## Stategraph\n",
    "from langgraph.graph import StateGraph,START,END\n",
    "from langgraph.prebuilt import ToolNode\n",
    "from langgraph.prebuilt import tools_condition\n",
    "\n",
    "def tool_calling_llm(state:State):\n",
    "    return{'messages':llm_with_tools.invoke(state['messages'])}\n",
    "\n",
    "\n",
    "builder=StateGraph(State)\n",
    "builder.add_node('tool_calling_llm',tool_calling_llm)\n",
    "builder.add_node('tools',ToolNode(tools))\n",
    "\n",
    "builder.add_edge(START,'tool_calling_llm')\n",
    "builder.add_conditional_edges('tool_calling_llm',tools_condition,{'tools':'tools',END:END})\n",
    "builder.add_edge('tools',END)\n",
    "\n",
    "graph=builder.compile()"
   ]
  },
  {
   "cell_type": "code",
   "execution_count": 32,
   "id": "7ddd21a1",
   "metadata": {},
   "outputs": [
    {
     "data": {
      "text/plain": [
       "'{\"query\": \"latest AI news\", \"follow_up_questions\": null, \"answer\": null, \"images\": [], \"results\": [{\"url\": \"https://www.finextra.com/blogposting/29509/data-led-innovation-with-ai-transforming-financial-services\", \"title\": \"Data-Led Innovation with AI: Transforming Financial Services: By Erica Andersen - Finextra Research\", \"score\": 0.61140573, \"published_date\": \"Sun, 05 Oct 2025 08:52:37 GMT\", \"content\": \"Following 2\\\\n\\\\nOpinions 65\\\\n\\\\nFollowUnfollow)\\\\n\\\\n### The AI Tsunami: Is Assistive Intelligence the Way to Navigate the Waves of Innovation in Finance?\\\\n\\\\n28 September\\\\n\\\\n### Data Sovereignty and AI: Building a Secure and Compliant Future for Financial Institutions\\\\n\\\\n21 September\\\\n\\\\n### Reshaping and Optimizing Finance with AI: A New Era of Cost Savings and Efficiency\\\\n\\\\n14 September\\\\n\\\\n### Demystifying the Data Deluge: Unlocking Actionable Insights in Financial Markets\\\\n\\\\n07 September [...] Increased Efficiency:Banks have reduced operational costs by automating manual processes and streamlining workflows. \\\\n   Improved Customer Satisfaction:Financial institutions have enhanced customer experience through personalized recommendations and proactive support. \\\\n   Reduced Fraud Losses:Companies have significantly decreased losses due to fraud by deploying advanced AI-powered detection systems. [...] Enhanced Investment Returns:Hedge funds and investment firms have improved portfolio performance through AI-driven trading strategies. \\\\n   Faster Loan Approvals:Lending institutions have accelerated loan approval times and reduced credit risk with AI-powered credit scoring models.\", \"raw_content\": null}, {\"url\": \"https://gizmodo.com/what-past-education-tech-failures-can-teach-us-about-the-future-of-ai-in-schools-2000667517\", \"title\": \"What Past Education Tech Failures Can Teach Us About the Future of AI in Schools - Gizmodo\", \"score\": 0.59796065, \"published_date\": \"Sun, 05 Oct 2025 11:00:22 GMT\", \"content\": \"### Wikimedia Is Making Its Data AI-Friendly\\\\n\\\\nThe non-profit behind Wikipedia released today a new database designed for AI models.\\\\n\\\\nArtificial Intelligence    Bruce Gil\\\\n\\\\n### Meta Will Use AI Chat History to Serve You Even More Targeted Ads\\\\n\\\\nYou thought your social media feed was eerily personalized? Get ready for more. And there\\'s no way to opt-out.\\\\n\\\\nArtificial Intelligence    Ece Yildirim\\\\n\\\\nJoin our Newsletters \\\\n\\\\nLatest \\\\n\\\\nTech News\", \"raw_content\": null}], \"response_time\": 0.9, \"request_id\": \"83e92f3e-2570-456e-9d0c-a57c9dc3a815\"}'"
      ]
     },
     "execution_count": 32,
     "metadata": {},
     "output_type": "execute_result"
    }
   ],
   "source": [
    "response=graph.invoke({'messages':'What is the recent ai news'})\n",
    "response['messages'][-1].content"
   ]
  },
  {
   "cell_type": "code",
   "execution_count": 33,
   "id": "ecb90c47",
   "metadata": {},
   "outputs": [
    {
     "name": "stdout",
     "output_type": "stream",
     "text": [
      "================================\u001b[1m Human Message \u001b[0m=================================\n",
      "\n",
      "What is the recent ai news\n",
      "==================================\u001b[1m Ai Message \u001b[0m==================================\n",
      "Tool Calls:\n",
      "  tavily_search (fc_b7f1746f-1177-4cb7-ac92-a93b55e821a9)\n",
      " Call ID: fc_b7f1746f-1177-4cb7-ac92-a93b55e821a9\n",
      "  Args:\n",
      "    query: latest AI news\n",
      "    search_depth: advanced\n",
      "    time_range: day\n",
      "    topic: news\n",
      "=================================\u001b[1m Tool Message \u001b[0m=================================\n",
      "Name: tavily_search\n",
      "\n",
      "{\"query\": \"latest AI news\", \"follow_up_questions\": null, \"answer\": null, \"images\": [], \"results\": [{\"url\": \"https://www.finextra.com/blogposting/29509/data-led-innovation-with-ai-transforming-financial-services\", \"title\": \"Data-Led Innovation with AI: Transforming Financial Services: By Erica Andersen - Finextra Research\", \"score\": 0.61140573, \"published_date\": \"Sun, 05 Oct 2025 08:52:37 GMT\", \"content\": \"Following 2\\n\\nOpinions 65\\n\\nFollowUnfollow)\\n\\n### The AI Tsunami: Is Assistive Intelligence the Way to Navigate the Waves of Innovation in Finance?\\n\\n28 September\\n\\n### Data Sovereignty and AI: Building a Secure and Compliant Future for Financial Institutions\\n\\n21 September\\n\\n### Reshaping and Optimizing Finance with AI: A New Era of Cost Savings and Efficiency\\n\\n14 September\\n\\n### Demystifying the Data Deluge: Unlocking Actionable Insights in Financial Markets\\n\\n07 September [...] Increased Efficiency:Banks have reduced operational costs by automating manual processes and streamlining workflows. \\n   Improved Customer Satisfaction:Financial institutions have enhanced customer experience through personalized recommendations and proactive support. \\n   Reduced Fraud Losses:Companies have significantly decreased losses due to fraud by deploying advanced AI-powered detection systems. [...] Enhanced Investment Returns:Hedge funds and investment firms have improved portfolio performance through AI-driven trading strategies. \\n   Faster Loan Approvals:Lending institutions have accelerated loan approval times and reduced credit risk with AI-powered credit scoring models.\", \"raw_content\": null}, {\"url\": \"https://gizmodo.com/what-past-education-tech-failures-can-teach-us-about-the-future-of-ai-in-schools-2000667517\", \"title\": \"What Past Education Tech Failures Can Teach Us About the Future of AI in Schools - Gizmodo\", \"score\": 0.59796065, \"published_date\": \"Sun, 05 Oct 2025 11:00:22 GMT\", \"content\": \"### Wikimedia Is Making Its Data AI-Friendly\\n\\nThe non-profit behind Wikipedia released today a new database designed for AI models.\\n\\nArtificial Intelligence    Bruce Gil\\n\\n### Meta Will Use AI Chat History to Serve You Even More Targeted Ads\\n\\nYou thought your social media feed was eerily personalized? Get ready for more. And there's no way to opt-out.\\n\\nArtificial Intelligence    Ece Yildirim\\n\\nJoin our Newsletters \\n\\nLatest \\n\\nTech News\", \"raw_content\": null}], \"response_time\": 0.9, \"request_id\": \"83e92f3e-2570-456e-9d0c-a57c9dc3a815\"}\n"
     ]
    }
   ],
   "source": [
    "for m in response['messages']:\n",
    "    m.pretty_print()"
   ]
  },
  {
   "cell_type": "code",
   "execution_count": 34,
   "id": "e5e30a2c",
   "metadata": {},
   "outputs": [
    {
     "data": {
      "text/plain": [
       "'46'"
      ]
     },
     "execution_count": 34,
     "metadata": {},
     "output_type": "execute_result"
    }
   ],
   "source": [
    "response=graph.invoke({'messages':'What is 2 multiplied 23'})\n",
    "response['messages'][-1].content"
   ]
  },
  {
   "cell_type": "code",
   "execution_count": 37,
   "id": "febf398c",
   "metadata": {},
   "outputs": [
    {
     "name": "stdout",
     "output_type": "stream",
     "text": [
      "================================\u001b[1m Human Message \u001b[0m=================================\n",
      "\n",
      "What is 2 multiplied by 23 and then multiply 10\n",
      "==================================\u001b[1m Ai Message \u001b[0m==================================\n",
      "\n",
      "2 × 23 = 46, and 46 × 10 = **460**.\n"
     ]
    }
   ],
   "source": [
    "response=graph.invoke({'messages':'What is 2 multiplied by 23 and then multiply 10'})\n",
    "for m in response['messages']:\n",
    "    m.pretty_print()"
   ]
  },
  {
   "cell_type": "code",
   "execution_count": 39,
   "id": "9f0f68e9",
   "metadata": {},
   "outputs": [
    {
     "name": "stdout",
     "output_type": "stream",
     "text": [
      "================================\u001b[1m Human Message \u001b[0m=================================\n",
      "\n",
      "Give me the recent ai news and then multiply 2  by 10\n",
      "==================================\u001b[1m Ai Message \u001b[0m==================================\n",
      "Tool Calls:\n",
      "  tavily_search (fc_fb76d5d9-49e5-4372-a09b-342db66981ad)\n",
      " Call ID: fc_fb76d5d9-49e5-4372-a09b-342db66981ad\n",
      "  Args:\n",
      "    query: recent AI news\n",
      "    search_depth: advanced\n",
      "    topic: news\n",
      "=================================\u001b[1m Tool Message \u001b[0m=================================\n",
      "Name: tavily_search\n",
      "\n",
      "{\"query\": \"recent AI news\", \"follow_up_questions\": null, \"answer\": null, \"images\": [], \"results\": [{\"url\": \"https://www.artificialintelligence-news.com/news/the-rise-of-algorithmic-agriculture-ai-steps-in/\", \"title\": \"The rise of algorithmic agriculture? AI steps in - AI News\", \"score\": 0.7746691, \"published_date\": \"Tue, 30 Sep 2025 16:53:15 GMT\", \"content\": \"### The value gap from AI investments is widening dangerously fast\\n\\nSeptember 30, 2025\\n\\n### Inside Huawei’s Shanghai acoustics lab: Where automotive sound engineering meets science\\n\\nSeptember 30, 2025\\n\\n### Rising AI demands push Asia Pacific data centres to adapt, says Vertiv\\n\\nSeptember 30, 2025\\n\\n### Reply’s pre-built AI apps aim to fast-track AI adoption\\n\\nSeptember 30, 2025\\n\\n## Join our Community [...] ### Innovative machine learning uses transforming business applications\\n\\n17438 view(s)\\n\\nArtificial Intelligence, Interviews, Natural Language Processing (NLP), World of Work\\n\\n### Stefano Somenzi, Athics: On no-code AI and deploying conversational bots\\n\\n16354 view(s)\\n\\nSee all\\n\\n## Latest\\n\\nView All Latest\\n\\nAI Hardware & Chips\\n\\nSeptember 30, 2025\\n\\n# Rising AI demands push Asia Pacific data centres to adapt, says Vertiv\\n\\nFinance AI\\n\\nSeptember 30, 2025 [...] # Reply’s pre-built AI apps aim to fast-track AI adoption\\n\\nOpen-Source & Democratised AI\\n\\nSeptember 29, 2025\\n\\n# Huawei details open-source AI development roadmap at Huawei Connect 2025\\n\\nManage Cookie Consent\", \"raw_content\": null}, {\"url\": \"https://www.shopify.com/blog/the-future-of-artificial-intelligence\", \"title\": \"The Future of Artificial Intelligence: Impacts and Risks (2025) - Shopify\", \"score\": 0.68191797, \"published_date\": \"Fri, 03 Oct 2025 18:11:44 GMT\", \"content\": \"As artificial intelligence becomes more capable of performing tasks humans previously handled, the bottom rung of the career ladder is disappearing. Data from the Federal Reserve Bank of New York indicates that the unemployment rate among recent college graduates has climbed 30% since 2022—likely at the hands of AI (in combination with widespread tech layoffs and economic downturn). With companies like Mechanize and Figure AI openly seeking to replace human workers with AI that can mimic human [...] Try it now\\n\\n## The state of artificial intelligence today\\n\\nWith two Nobel Prizes honoring AI-related discoveries in 2024, more than 950 AI medical devices approved by the FDA in 2025, and over 150,000 autonomous car rides given per week, artificial intelligence has never been more enmeshed in daily human life than it is today. Here’s the state of AI:\\n\\n### Business owners are recalibrating how to use AI [...] From the introduction of AI hallucination insurance to advancing computing paradigms like neuromorphic computing (which mimics the neural structures of the human brain), new AI evolutions are brewing. Here are some of the most pressing:\\n\\n### AI agents are becoming more autonomous\", \"raw_content\": null}], \"response_time\": 1.14, \"request_id\": \"3d86e921-187e-4222-91ce-3643f3376325\"}\n"
     ]
    }
   ],
   "source": [
    "response=graph.invoke({'messages':'Give me the recent ai news and then multiply 2  by 10'})\n",
    "for m in response['messages']:\n",
    "    m.pretty_print()"
   ]
  },
  {
   "cell_type": "code",
   "execution_count": 40,
   "id": "d9f58510",
   "metadata": {},
   "outputs": [],
   "source": [
    "## ReAct agent architecture\n",
    "from langgraph.graph import StateGraph,START,END\n",
    "from langgraph.prebuilt import ToolNode\n",
    "from langgraph.prebuilt import tools_condition\n",
    "\n",
    "def tool_calling_llm(state:State):\n",
    "    return{'messages':llm_with_tools.invoke(state['messages'])}\n",
    "\n",
    "\n",
    "builder=StateGraph(State)\n",
    "builder.add_node('tool_calling_llm',tool_calling_llm)\n",
    "builder.add_node('tools',ToolNode(tools))\n",
    "\n",
    "builder.add_edge(START,'tool_calling_llm')\n",
    "builder.add_conditional_edges('tool_calling_llm',tools_condition)\n",
    "builder.add_edge('tools','tool_calling_llm')\n",
    "builder.add_edge('tool_calling_llm',END)\n",
    "\n",
    "graph=builder.compile()"
   ]
  },
  {
   "cell_type": "code",
   "execution_count": 41,
   "id": "09da432a",
   "metadata": {},
   "outputs": [
    {
     "name": "stdout",
     "output_type": "stream",
     "text": [
      "================================\u001b[1m Human Message \u001b[0m=================================\n",
      "\n",
      "Give me the recent ai news and then multiply 2  by 10\n",
      "==================================\u001b[1m Ai Message \u001b[0m==================================\n",
      "Tool Calls:\n",
      "  tavily_search (fc_47771860-c4a5-4103-a73e-a90b7da0238d)\n",
      " Call ID: fc_47771860-c4a5-4103-a73e-a90b7da0238d\n",
      "  Args:\n",
      "    query: recent AI news\n",
      "    search_depth: advanced\n",
      "    time_range: week\n",
      "    topic: general\n",
      "=================================\u001b[1m Tool Message \u001b[0m=================================\n",
      "Name: tavily_search\n",
      "\n",
      "{\"query\": \"recent AI news\", \"follow_up_questions\": null, \"answer\": null, \"images\": [], \"results\": [{\"url\": \"https://hai.stanford.edu/ai-index/2025-ai-index-report\", \"title\": \"The 2025 AI Index Report | Stanford HAI\", \"content\": \"In 2024, U.S. federal agencies introduced 59 AI-related regulations—more than double the number in 2023—and issued by twice as many agencies. Globally, legislative mentions of AI rose 21.3% across 75 countries since 2023, marking a ninefold increase since 2016. Alongside growing attention, governments are investing at scale: Canada pledged $2.4 billion, China launched a $47.5 billion semiconductor fund, France committed €109 billion, India pledged $1.25 billion, and Saudi Arabia’s Project [...] ### 2. AI is increasingly embedded in everyday life.\\n\\nFrom healthcare to transportation, AI is rapidly moving from the lab to daily life. In 2023, the FDA approved 223 AI-enabled medical devices, up from just six in 2015. On the roads, self-driving cars are no longer experimental: Waymo, one of the largest U.S. operators, provides over 150,000 autonomous rides each week, while Baidu’s affordable Apollo Go robotaxi fleet now serves numerous cities across China. [...] In 2024, U.S. private AI investment grew to $109.1 billion—nearly 12 times China’s $9.3 billion and 24 times the U.K.’s $4.5 billion. Generative AI saw particularly strong momentum, attracting $33.9 billion globally in private investment—an 18.7% increase from 2023. AI business usage is also accelerating: 78% of organizations reported using AI in 2024, up from 55% the year before. Meanwhile, a growing body of research confirms that AI boosts productivity and, in most cases, helps narrow skill\", \"score\": 0.68090034, \"raw_content\": null}, {\"url\": \"https://techcrunch.com/category/artificial-intelligence/\", \"title\": \"AI News & Artificial Intelligence\", \"content\": \"Ted Cruz blocks bill that would extend privacy protections to all Americans\\n\\n### OpenAI is launching the Sora app, its own TikTok competitor, alongside the Sora 2 model\\n\\nOpenAI is launching the Sora app, its own TikTok competitor, alongside the Sora 2 model\\n\\n### AI recruiter Alex raises $17M to automate initial job interviews\\n\\nAI recruiter Alex raises $17M to automate initial job interviews\\n\\n### Vibe-coding startup Anything nabs a $100M valuation after hitting $2M ARR in its first two weeks [...] Aravind Srinivas, co-founder and chief executive officer of Perplexity, during TechCrunch Disrupt in San Francisco, California, US, on Wednesday, Oct. 30, 2024.\\n\\n### Perplexity’s Comet AI browser now free; Max users get new ‘background assistant’\\n\\nSophia Kianni and Phoebe Gates\\n\\n### Phoebe Gates and Sophia Kianni share the playbook for scaling consumer AI and winning Gen Z at TechCrunch Disrupt 2025\\n\\nrender of trophy atop stack of dollar bills [...] ### Sam Altman says Sora will add ‘granular,’ opt-in copyright controls\\n\\nOpenAI acquisition of Roi\\n\\n### With its latest acqui-hire, OpenAI is doubling down on personalized consumer AI\\n\\n### Sources: Naveen Rao’s new AI hardware startup targets $5B valuation with backing from a16z\\n\\nOpenAI CEO Sam Altman speaks during the OpenAI DevDay event on November 06, 2023 in San Francisco, California.\\n\\n### What to expect at OpenAI’s DevDay 2025, and how to watch it\", \"score\": 0.6565047, \"raw_content\": null}], \"response_time\": 4.99, \"request_id\": \"a8e660d2-094e-45c8-8407-55acd774e26c\"}\n",
      "==================================\u001b[1m Ai Message \u001b[0m==================================\n",
      "\n",
      "**Recent AI News (past week)**  \n",
      "\n",
      "| Source | Highlight | Key Take‑away |\n",
      "|--------|-----------|---------------|\n",
      "| **Stanford HAI – 2025 AI Index Report** | U.S. federal agencies issued 59 AI‑related regulations in 2024, doubling 2023’s count. 75 countries now mention AI in legislation, a 21.3 % rise. | Governments worldwide are ramping up both regulation and investment—Canada pledged $2.4 B, China launched a $47.5 B semiconductor fund, France €109 B, India $1.25 B, Saudi Arabia’s Project Horizon. |\n",
      "| **TechCrunch – AI Section** | *OpenAI launches the Sora app*, a TikTok‑style video‑generation tool, and the new Sora 2 model. | OpenAI is expanding generative‑AI consumer offerings and tightening copyright controls. |\n",
      "|  | *AI recruiter “Alex” raises $17 M* to automate initial job interviews. | AI is increasingly used to streamline hiring workflows. |\n",
      "|  | *Perplexity’s Comet AI browser goes free*; users get a “background assistant”. | Free consumer AI tools are gaining traction and expanding feature sets. |\n",
      "|  | *Vibe‑coding startup “Anything” hits $100 M valuation after $2 M ARR in two weeks*. | Startups in AI‑powered coding tools are attracting rapid investment. |\n",
      "\n",
      "**Bottom line:** 2024 is a boom year for AI regulation, investment, and consumer product launches—especially from OpenAI, Perplexity, and emerging coding‑AI firms.\n",
      "\n",
      "---\n",
      "\n",
      "### Multiplication\n",
      "\n",
      "2 × 10 = **20**\n"
     ]
    }
   ],
   "source": [
    "response=graph.invoke({'messages':'Give me the recent ai news and then multiply 2  by 10'})\n",
    "for m in response['messages']:\n",
    "    m.pretty_print()"
   ]
  },
  {
   "cell_type": "code",
   "execution_count": 42,
   "id": "b9fba28c",
   "metadata": {},
   "outputs": [
    {
     "name": "stdout",
     "output_type": "stream",
     "text": [
      "================================\u001b[1m Human Message \u001b[0m=================================\n",
      "\n",
      "Hello my name is nancy\n",
      "==================================\u001b[1m Ai Message \u001b[0m==================================\n",
      "\n",
      "Hello Nancy! 👋 How can I help you today?\n"
     ]
    }
   ],
   "source": [
    "## Adding memory in agentic graph\n",
    "\n",
    "response=graph.invoke({'messages':'Hello my name is nancy'})\n",
    "for m in response['messages']:\n",
    "    m.pretty_print()"
   ]
  },
  {
   "cell_type": "code",
   "execution_count": 43,
   "id": "69d20c04",
   "metadata": {},
   "outputs": [
    {
     "name": "stdout",
     "output_type": "stream",
     "text": [
      "================================\u001b[1m Human Message \u001b[0m=================================\n",
      "\n",
      "What is my name?\n",
      "==================================\u001b[1m Ai Message \u001b[0m==================================\n",
      "\n",
      "I’m sorry, but I don’t have any information about your name. If you tell me, I’ll remember it for the rest of this conversation.\n"
     ]
    }
   ],
   "source": [
    "response=graph.invoke({'messages':'What is my name?'})\n",
    "for m in response['messages']:\n",
    "    m.pretty_print()"
   ]
  },
  {
   "cell_type": "code",
   "execution_count": 50,
   "id": "8a68830b",
   "metadata": {},
   "outputs": [],
   "source": [
    "## ReAct agent architecture\n",
    "from langgraph.graph import StateGraph,START,END\n",
    "from langgraph.prebuilt import ToolNode\n",
    "from langgraph.prebuilt import tools_condition\n",
    "from langgraph.checkpoint.memory import MemorySaver\n",
    "\n",
    "memory=MemorySaver()\n",
    "\n",
    "def tool_calling_llm(state:State):\n",
    "    return{'messages':llm_with_tools.invoke(state['messages'])}\n",
    "\n",
    "\n",
    "builder=StateGraph(State)\n",
    "builder.add_node('tool_calling_llm',tool_calling_llm)\n",
    "builder.add_node('tools',ToolNode(tools))\n",
    "\n",
    "builder.add_edge(START,'tool_calling_llm')\n",
    "builder.add_conditional_edges('tool_calling_llm',tools_condition)\n",
    "builder.add_edge('tools','tool_calling_llm')\n",
    "builder.add_edge('tool_calling_llm',END)\n",
    "\n",
    "graph=builder.compile(checkpointer=memory)"
   ]
  },
  {
   "cell_type": "code",
   "execution_count": 51,
   "id": "fa6288ec",
   "metadata": {},
   "outputs": [
    {
     "data": {
      "text/plain": [
       "{'messages': [HumanMessage(content='Hi my name is Nancy', additional_kwargs={}, response_metadata={}, id='ec52001f-268e-48be-a3b4-8cdbfa9bf0e9'),\n",
       "  AIMessage(content='Hello Nancy! How can I help you today?', additional_kwargs={'reasoning_content': 'User says: \"Hi my name is Nancy\". Probably respond politely. No request. Just greeting.'}, response_metadata={'token_usage': {'completion_tokens': 40, 'prompt_tokens': 1389, 'total_tokens': 1429, 'completion_time': 0.040403234, 'prompt_time': 0.013105484, 'queue_time': 0.089222645, 'total_time': 0.053508718, 'prompt_tokens_details': {'cached_tokens': 1280}}, 'model_name': 'openai/gpt-oss-20b', 'system_fingerprint': 'fp_80501ff3a1', 'service_tier': 'on_demand', 'finish_reason': 'stop', 'logprobs': None}, id='run--fae8c5ad-433a-4c50-8aa0-3fc57077c886-0', usage_metadata={'input_tokens': 1389, 'output_tokens': 40, 'total_tokens': 1429})]}"
      ]
     },
     "execution_count": 51,
     "metadata": {},
     "output_type": "execute_result"
    }
   ],
   "source": [
    "config={'configurable':{'thread_id':'1'}}\n",
    "\n",
    "response=graph.invoke({'messages':'Hi my name is Nancy'},config=config)\n",
    "\n",
    "response"
   ]
  },
  {
   "cell_type": "code",
   "execution_count": 52,
   "id": "3c5b7a29",
   "metadata": {},
   "outputs": [
    {
     "data": {
      "text/plain": [
       "{'messages': [HumanMessage(content='Hi my name is Nancy', additional_kwargs={}, response_metadata={}, id='ec52001f-268e-48be-a3b4-8cdbfa9bf0e9'),\n",
       "  AIMessage(content='Hello Nancy! How can I help you today?', additional_kwargs={'reasoning_content': 'User says: \"Hi my name is Nancy\". Probably respond politely. No request. Just greeting.'}, response_metadata={'token_usage': {'completion_tokens': 40, 'prompt_tokens': 1389, 'total_tokens': 1429, 'completion_time': 0.040403234, 'prompt_time': 0.013105484, 'queue_time': 0.089222645, 'total_time': 0.053508718, 'prompt_tokens_details': {'cached_tokens': 1280}}, 'model_name': 'openai/gpt-oss-20b', 'system_fingerprint': 'fp_80501ff3a1', 'service_tier': 'on_demand', 'finish_reason': 'stop', 'logprobs': None}, id='run--fae8c5ad-433a-4c50-8aa0-3fc57077c886-0', usage_metadata={'input_tokens': 1389, 'output_tokens': 40, 'total_tokens': 1429}),\n",
       "  HumanMessage(content='What is my name?', additional_kwargs={}, response_metadata={}, id='28971c1b-5264-464a-83f9-81f5187fed5b'),\n",
       "  AIMessage(content='Your name is Nancy.', additional_kwargs={'reasoning_content': 'User says name Nancy. They ask \"What is my name?\" We answer Nancy.'}, response_metadata={'token_usage': {'completion_tokens': 32, 'prompt_tokens': 1414, 'total_tokens': 1446, 'completion_time': 0.03549669, 'prompt_time': 0.077009268, 'queue_time': 0.087720863, 'total_time': 0.112505958}, 'model_name': 'openai/gpt-oss-20b', 'system_fingerprint': 'fp_3d587a02fb', 'service_tier': 'on_demand', 'finish_reason': 'stop', 'logprobs': None}, id='run--00134582-a06e-418e-8828-a8286b966984-0', usage_metadata={'input_tokens': 1414, 'output_tokens': 32, 'total_tokens': 1446})]}"
      ]
     },
     "execution_count": 52,
     "metadata": {},
     "output_type": "execute_result"
    }
   ],
   "source": [
    "response=graph.invoke({'messages':'What is my name?'},config=config)\n",
    "\n",
    "response"
   ]
  },
  {
   "cell_type": "code",
   "execution_count": 55,
   "id": "d13cdb8e",
   "metadata": {},
   "outputs": [
    {
     "data": {
      "image/png": "[encoded data removed]",
      "text/plain": [
       "<IPython.core.display.Image object>"
      ]
     },
     "metadata": {},
     "output_type": "display_data"
    }
   ],
   "source": [
    "## Streaming\n",
    "from IPython.display import Image,display\n",
    "\n",
    "memory=MemorySaver()\n",
    "\n",
    "def superbot(state:State):\n",
    "    return {'messages':[llm.invoke(state['messages'])]}\n",
    "\n",
    "builder=StateGraph(State)\n",
    "builder.add_node('SuperBot',superbot)\n",
    "builder.add_edge(START,'SuperBot')\n",
    "builder.add_edge('SuperBot',END)\n",
    "\n",
    "graph=builder.compile(checkpointer=memory)\n",
    "display(Image(graph.get_graph().draw_mermaid_png()))"
   ]
  },
  {
   "cell_type": "code",
   "execution_count": 56,
   "id": "6cff16cf",
   "metadata": {},
   "outputs": [
    {
     "data": {
      "text/plain": [
       "{'messages': [HumanMessage(content='Hi my name is Nancy and i like singing', additional_kwargs={}, response_metadata={}, id='d564595f-3a0e-4658-991e-e9a2c15004e0'),\n",
       "  AIMessage(content='Hey Nancy! 🎤 It’s great to meet a fellow music lover. What kind of singing do you enjoy the most? Do you have a favorite genre or artist that inspires you? If you’re up for it, I’d love to hear more about your musical journey!', additional_kwargs={'reasoning_content': 'The user says \"Hi my name is Nancy and i like singing\". They didn\\'t ask a question. We should respond with a friendly greeting, perhaps ask about their singing. The instructions: we must respond as ChatGPT. We should be friendly, maybe ask about what kind of singing, favorite songs, etc. There\\'s no conflict. So we can respond accordingly.'}, response_metadata={'token_usage': {'completion_tokens': 137, 'prompt_tokens': 80, 'total_tokens': 217, 'completion_time': 0.136357679, 'prompt_time': 0.003897529, 'queue_time': 0.086996398, 'total_time': 0.140255208}, 'model_name': 'openai/gpt-oss-20b', 'system_fingerprint': 'fp_77f8660d1d', 'service_tier': 'on_demand', 'finish_reason': 'stop', 'logprobs': None}, id='run--70fbe21d-a085-4408-8ba0-aea5cfbc97c7-0', usage_metadata={'input_tokens': 80, 'output_tokens': 137, 'total_tokens': 217})]}"
      ]
     },
     "execution_count": 56,
     "metadata": {},
     "output_type": "execute_result"
    }
   ],
   "source": [
    "config={'configurable':{'thread_id':'1'}}\n",
    "\n",
    "response=graph.invoke({'messages':'Hi my name is Nancy and i like singing'},config=config)\n",
    "\n",
    "response"
   ]
  },
  {
   "cell_type": "markdown",
   "id": "9cac1f03",
   "metadata": {},
   "source": [
    "## Streaming\n",
    "\n",
    "Methods: stream() and astream()\n",
    "\n",
    "- These methods are sync and async methods for streaming back results\n",
    "\n",
    "Additional parameters in streaming modes for graph state\n",
    "\n",
    "- values: This streams the full state of the graph after each node is called\n",
    "\n",
    "- updates: This stream updates to the state of the graph after each node is called."
   ]
  },
  {
   "cell_type": "code",
   "execution_count": 57,
   "id": "daaadb69",
   "metadata": {},
   "outputs": [
    {
     "name": "stdout",
     "output_type": "stream",
     "text": [
      "{'SuperBot': {'messages': [AIMessage(content='Hi Nancy! 🎤 It’s great to meet someone who loves singing. What kind of music do you enjoy the most? Do you have a favorite genre, artist, or song that you’re always humming? I’d love to hear more about your musical tastes!', additional_kwargs={'reasoning_content': 'We need to respond to Nancy, who says \"Hi, my name is Nancy and I like singing\". We should greet and respond. The user didn\\'t ask a question. We can respond with friendly tone, ask about her singing, maybe ask what kind of songs she likes. The system says we can provide information, but also we can ask about preferences. So respond accordingly.'}, response_metadata={'token_usage': {'completion_tokens': 138, 'prompt_tokens': 81, 'total_tokens': 219, 'completion_time': 0.136757744, 'prompt_time': 0.004377143, 'queue_time': 0.085275097, 'total_time': 0.141134887}, 'model_name': 'openai/gpt-oss-20b', 'system_fingerprint': 'fp_c5a89987dc', 'service_tier': 'on_demand', 'finish_reason': 'stop', 'logprobs': None}, id='run--4d4151e1-8e94-4a4f-91f6-5c15d1848c25-0', usage_metadata={'input_tokens': 81, 'output_tokens': 138, 'total_tokens': 219})]}}\n"
     ]
    }
   ],
   "source": [
    "config={'configurable':{'thread_id':'3'}}\n",
    "\n",
    "for chunk in graph.stream({'messages':'Hi, my name is Nancy and I like singing'},config,stream_mode='updates'):\n",
    "    print(chunk)"
   ]
  },
  {
   "cell_type": "code",
   "execution_count": 58,
   "id": "b8598adb",
   "metadata": {},
   "outputs": [
    {
     "name": "stdout",
     "output_type": "stream",
     "text": [
      "{'messages': [HumanMessage(content='Hi, my name is Nancy and I like singing', additional_kwargs={}, response_metadata={}, id='5c324881-dca4-4d36-b65d-ebdad9805663'), AIMessage(content='Hi Nancy! 🎤 It’s great to meet someone who loves singing. What kind of music do you enjoy the most? Do you have a favorite genre, artist, or song that you’re always humming? I’d love to hear more about your musical tastes!', additional_kwargs={'reasoning_content': 'We need to respond to Nancy, who says \"Hi, my name is Nancy and I like singing\". We should greet and respond. The user didn\\'t ask a question. We can respond with friendly tone, ask about her singing, maybe ask what kind of songs she likes. The system says we can provide information, but also we can ask about preferences. So respond accordingly.'}, response_metadata={'token_usage': {'completion_tokens': 138, 'prompt_tokens': 81, 'total_tokens': 219, 'completion_time': 0.136757744, 'prompt_time': 0.004377143, 'queue_time': 0.085275097, 'total_time': 0.141134887}, 'model_name': 'openai/gpt-oss-20b', 'system_fingerprint': 'fp_c5a89987dc', 'service_tier': 'on_demand', 'finish_reason': 'stop', 'logprobs': None}, id='run--4d4151e1-8e94-4a4f-91f6-5c15d1848c25-0', usage_metadata={'input_tokens': 81, 'output_tokens': 138, 'total_tokens': 219}), HumanMessage(content='Hi, my name is Nancy and I like singing', additional_kwargs={}, response_metadata={}, id='0a51b70c-44e1-4f82-9ab8-1aff89eda614')]}\n",
      "{'messages': [HumanMessage(content='Hi, my name is Nancy and I like singing', additional_kwargs={}, response_metadata={}, id='5c324881-dca4-4d36-b65d-ebdad9805663'), AIMessage(content='Hi Nancy! 🎤 It’s great to meet someone who loves singing. What kind of music do you enjoy the most? Do you have a favorite genre, artist, or song that you’re always humming? I’d love to hear more about your musical tastes!', additional_kwargs={'reasoning_content': 'We need to respond to Nancy, who says \"Hi, my name is Nancy and I like singing\". We should greet and respond. The user didn\\'t ask a question. We can respond with friendly tone, ask about her singing, maybe ask what kind of songs she likes. The system says we can provide information, but also we can ask about preferences. So respond accordingly.'}, response_metadata={'token_usage': {'completion_tokens': 138, 'prompt_tokens': 81, 'total_tokens': 219, 'completion_time': 0.136757744, 'prompt_time': 0.004377143, 'queue_time': 0.085275097, 'total_time': 0.141134887}, 'model_name': 'openai/gpt-oss-20b', 'system_fingerprint': 'fp_c5a89987dc', 'service_tier': 'on_demand', 'finish_reason': 'stop', 'logprobs': None}, id='run--4d4151e1-8e94-4a4f-91f6-5c15d1848c25-0', usage_metadata={'input_tokens': 81, 'output_tokens': 138, 'total_tokens': 219}), HumanMessage(content='Hi, my name is Nancy and I like singing', additional_kwargs={}, response_metadata={}, id='0a51b70c-44e1-4f82-9ab8-1aff89eda614'), AIMessage(content='Hey Nancy! 🎶 It’s awesome that you love singing. What kind of music do you usually sing—pop, jazz, classical, or something else? Do you have a favorite song or artist you’re always belting out? I’d love to hear more about your musical world!', additional_kwargs={'reasoning_content': 'User says: \"Hi, my name is Nancy and I like singing\". They repeated. Probably want a response. We should respond politely, maybe ask about singing preferences. No policy issues.'}, response_metadata={'token_usage': {'completion_tokens': 106, 'prompt_tokens': 154, 'total_tokens': 260, 'completion_time': 0.113125559, 'prompt_time': 0.007488147, 'queue_time': 0.089806131, 'total_time': 0.120613706}, 'model_name': 'openai/gpt-oss-20b', 'system_fingerprint': 'fp_3d587a02fb', 'service_tier': 'on_demand', 'finish_reason': 'stop', 'logprobs': None}, id='run--8c442b28-2cab-4844-bbeb-e7bf9ab93b59-0', usage_metadata={'input_tokens': 154, 'output_tokens': 106, 'total_tokens': 260})]}\n"
     ]
    }
   ],
   "source": [
    "config={'configurable':{'thread_id':'3'}}\n",
    "\n",
    "for chunk in graph.stream({'messages':'Hi, my name is Nancy and I like singing'},config,stream_mode='values'):\n",
    "    print(chunk)"
   ]
  },
  {
   "cell_type": "code",
   "execution_count": 59,
   "id": "ce6e3c80",
   "metadata": {},
   "outputs": [
    {
     "name": "stdout",
     "output_type": "stream",
     "text": [
      "{'SuperBot': {'messages': [AIMessage(content='Hi Nancy! 🎤 That’s awesome—what kind of music do you enjoy singing the most? Do you have a favorite artist or a go‑to karaoke song?', additional_kwargs={'reasoning_content': 'User says: \"Hi, my name is Nancy and I like singing\". We should respond in a friendly manner. The user didn\\'t ask a question. We can ask about singing, maybe about favorite singers, or what style. We need to be concise, friendly. Let\\'s respond.'}, response_metadata={'token_usage': {'completion_tokens': 100, 'prompt_tokens': 81, 'total_tokens': 181, 'completion_time': 0.098583761, 'prompt_time': 0.003788178, 'queue_time': 0.087678176, 'total_time': 0.102371939}, 'model_name': 'openai/gpt-oss-20b', 'system_fingerprint': 'fp_3d587a02fb', 'service_tier': 'on_demand', 'finish_reason': 'stop', 'logprobs': None}, id='run--e913d4fb-1ee2-41a3-883f-3a7e8bc20f9b-0', usage_metadata={'input_tokens': 81, 'output_tokens': 100, 'total_tokens': 181})]}}\n"
     ]
    }
   ],
   "source": [
    "config={'configurable':{'thread_id':'4'}}\n",
    "\n",
    "for chunk in graph.stream({'messages':'Hi, my name is Nancy and I like singing'},config,stream_mode='updates'):\n",
    "    print(chunk)"
   ]
  },
  {
   "cell_type": "code",
   "execution_count": 60,
   "id": "32baa453",
   "metadata": {},
   "outputs": [
    {
     "name": "stdout",
     "output_type": "stream",
     "text": [
      "{'messages': [HumanMessage(content='Hi, my name is Nancy and I like singing', additional_kwargs={}, response_metadata={}, id='fd44320d-d7ae-4c88-9bb7-d0153f591552'), AIMessage(content='Hi Nancy! 🎤 That’s awesome—what kind of music do you enjoy singing the most? Do you have a favorite artist or a go‑to karaoke song?', additional_kwargs={'reasoning_content': 'User says: \"Hi, my name is Nancy and I like singing\". We should respond in a friendly manner. The user didn\\'t ask a question. We can ask about singing, maybe about favorite singers, or what style. We need to be concise, friendly. Let\\'s respond.'}, response_metadata={'token_usage': {'completion_tokens': 100, 'prompt_tokens': 81, 'total_tokens': 181, 'completion_time': 0.098583761, 'prompt_time': 0.003788178, 'queue_time': 0.087678176, 'total_time': 0.102371939}, 'model_name': 'openai/gpt-oss-20b', 'system_fingerprint': 'fp_3d587a02fb', 'service_tier': 'on_demand', 'finish_reason': 'stop', 'logprobs': None}, id='run--e913d4fb-1ee2-41a3-883f-3a7e8bc20f9b-0', usage_metadata={'input_tokens': 81, 'output_tokens': 100, 'total_tokens': 181}), HumanMessage(content='I also like football', additional_kwargs={}, response_metadata={}, id='9ba91f92-44d7-4ad9-b136-00501c7e6d35')]}\n",
      "{'messages': [HumanMessage(content='Hi, my name is Nancy and I like singing', additional_kwargs={}, response_metadata={}, id='fd44320d-d7ae-4c88-9bb7-d0153f591552'), AIMessage(content='Hi Nancy! 🎤 That’s awesome—what kind of music do you enjoy singing the most? Do you have a favorite artist or a go‑to karaoke song?', additional_kwargs={'reasoning_content': 'User says: \"Hi, my name is Nancy and I like singing\". We should respond in a friendly manner. The user didn\\'t ask a question. We can ask about singing, maybe about favorite singers, or what style. We need to be concise, friendly. Let\\'s respond.'}, response_metadata={'token_usage': {'completion_tokens': 100, 'prompt_tokens': 81, 'total_tokens': 181, 'completion_time': 0.098583761, 'prompt_time': 0.003788178, 'queue_time': 0.087678176, 'total_time': 0.102371939}, 'model_name': 'openai/gpt-oss-20b', 'system_fingerprint': 'fp_3d587a02fb', 'service_tier': 'on_demand', 'finish_reason': 'stop', 'logprobs': None}, id='run--e913d4fb-1ee2-41a3-883f-3a7e8bc20f9b-0', usage_metadata={'input_tokens': 81, 'output_tokens': 100, 'total_tokens': 181}), HumanMessage(content='I also like football', additional_kwargs={}, response_metadata={}, id='9ba91f92-44d7-4ad9-b136-00501c7e6d35'), AIMessage(content='That’s a great combo—music and football can make for a pretty energetic vibe!  \\n- Are you a fan of any particular team or league?  \\n- Do you play any sports yourself, or just enjoy watching the games?  \\n- And maybe you have a favorite chant or anthem you like to sing during matches?  \\n\\nLet me know, and we can dive deeper into either topic!', additional_kwargs={'reasoning_content': 'User says they like football. We can respond accordingly. We should keep conversation friendly.'}, response_metadata={'token_usage': {'completion_tokens': 105, 'prompt_tokens': 129, 'total_tokens': 234, 'completion_time': 0.104554069, 'prompt_time': 0.006244787, 'queue_time': 0.089768915, 'total_time': 0.110798856}, 'model_name': 'openai/gpt-oss-20b', 'system_fingerprint': 'fp_3d587a02fb', 'service_tier': 'on_demand', 'finish_reason': 'stop', 'logprobs': None}, id='run--3f3bec9a-d943-4438-be30-5ef8b2db7d02-0', usage_metadata={'input_tokens': 129, 'output_tokens': 105, 'total_tokens': 234})]}\n"
     ]
    }
   ],
   "source": [
    "config={'configurable':{'thread_id':'4'}}\n",
    "\n",
    "for chunk in graph.stream({'messages':'I also like football'},config,stream_mode='values'):\n",
    "    print(chunk)"
   ]
  },
  {
   "cell_type": "code",
   "execution_count": 61,
   "id": "192dcb7e",
   "metadata": {},
   "outputs": [
    {
     "name": "stdout",
     "output_type": "stream",
     "text": [
      "{'SuperBot': {'messages': [AIMessage(content='Sounds like you’ve got a solid mix of rhythm and rivalry! 🎶⚽️\\n\\n### Quick Questions to Get the Ball Rolling\\n1. **Which league or team do you follow most?**  \\n   (Premier League, La Liga, MLS, national teams… anything?)\\n2. **Do you prefer watching the game or playing it yourself?**  \\n   (Soccer, American football, rugby…?)\\n3. **Got a favorite football chant or stadium anthem?**  \\n   (Some fans can sing the entire halftime show!)\\n4. **What’s the best match you’ve ever watched or played in?**  \\n   (A goal, a comeback, a nail‑biter… tell me the story!)\\n\\nFeel free to pick any of these or throw in your own topic—happy to keep the conversation moving!', additional_kwargs={'reasoning_content': 'The user repeats same statement \"I also like football\". They might want to continue conversation about football. They want to talk about football. We need to respond acknowledging. Provide engaging questions. Also keep conversation friendly.'}, response_metadata={'token_usage': {'completion_tokens': 219, 'prompt_tokens': 221, 'total_tokens': 440, 'completion_time': 0.21605856, 'prompt_time': 0.01075539, 'queue_time': 0.089706465, 'total_time': 0.22681395}, 'model_name': 'openai/gpt-oss-20b', 'system_fingerprint': 'fp_77f8660d1d', 'service_tier': 'on_demand', 'finish_reason': 'stop', 'logprobs': None}, id='run--f483fafd-a960-4911-a5c1-1b102d120062-0', usage_metadata={'input_tokens': 221, 'output_tokens': 219, 'total_tokens': 440})]}}\n"
     ]
    }
   ],
   "source": [
    "config={'configurable':{'thread_id':'4'}}\n",
    "\n",
    "for chunk in graph.stream({'messages':'I also like football'},config,stream_mode='updates'):\n",
    "    print(chunk)"
   ]
  },
  {
   "cell_type": "code",
   "execution_count": 63,
   "id": "59b2ebb3",
   "metadata": {},
   "outputs": [
    {
     "name": "stdout",
     "output_type": "stream",
     "text": [
      "{'event': 'on_chain_start', 'data': {'input': {'messages': 'Hi my name is nancy and I like singing'}}, 'name': 'LangGraph', 'tags': [], 'run_id': '62d57d40-f78b-4164-b605-06e64e20e462', 'metadata': {'thread_id': '5'}, 'parent_ids': []}\n",
      "{'event': 'on_chain_start', 'data': {'input': {'messages': [HumanMessage(content='Hi my name is nancy and I like singing', additional_kwargs={}, response_metadata={}, id='3f287582-e7b1-48ff-974d-e0ad58915108')]}}, 'name': 'SuperBot', 'tags': ['graph:step:1'], 'run_id': '03ff2746-ab75-4258-86d7-aa727dd584ee', 'metadata': {'thread_id': '5', 'langgraph_step': 1, 'langgraph_node': 'SuperBot', 'langgraph_triggers': ('branch:to:SuperBot',), 'langgraph_path': ('__pregel_pull', 'SuperBot'), 'langgraph_checkpoint_ns': 'SuperBot:b278b9ab-9e84-57fd-c6f1-041147194797'}, 'parent_ids': ['62d57d40-f78b-4164-b605-06e64e20e462']}\n",
      "{'event': 'on_chat_model_start', 'data': {'input': {'messages': [[HumanMessage(content='Hi my name is nancy and I like singing', additional_kwargs={}, response_metadata={}, id='3f287582-e7b1-48ff-974d-e0ad58915108')]]}}, 'name': 'ChatGroq', 'tags': ['seq:step:1'], 'run_id': 'b8123484-feb3-41f0-b757-fb0d3c7a7f0b', 'metadata': {'thread_id': '5', 'langgraph_step': 1, 'langgraph_node': 'SuperBot', 'langgraph_triggers': ('branch:to:SuperBot',), 'langgraph_path': ('__pregel_pull', 'SuperBot'), 'langgraph_checkpoint_ns': 'SuperBot:b278b9ab-9e84-57fd-c6f1-041147194797', 'checkpoint_ns': 'SuperBot:b278b9ab-9e84-57fd-c6f1-041147194797', 'ls_provider': 'groq', 'ls_model_name': 'openai/gpt-oss-20b', 'ls_model_type': 'chat', 'ls_temperature': 0.7}, 'parent_ids': ['62d57d40-f78b-4164-b605-06e64e20e462', '03ff2746-ab75-4258-86d7-aa727dd584ee']}\n",
      "{'event': 'on_chat_model_stream', 'data': {'chunk': AIMessageChunk(content='', additional_kwargs={}, response_metadata={}, id='run--b8123484-feb3-41f0-b757-fb0d3c7a7f0b')}, 'run_id': 'b8123484-feb3-41f0-b757-fb0d3c7a7f0b', 'name': 'ChatGroq', 'tags': ['seq:step:1'], 'metadata': {'thread_id': '5', 'langgraph_step': 1, 'langgraph_node': 'SuperBot', 'langgraph_triggers': ('branch:to:SuperBot',), 'langgraph_path': ('__pregel_pull', 'SuperBot'), 'langgraph_checkpoint_ns': 'SuperBot:b278b9ab-9e84-57fd-c6f1-041147194797', 'checkpoint_ns': 'SuperBot:b278b9ab-9e84-57fd-c6f1-041147194797', 'ls_provider': 'groq', 'ls_model_name': 'openai/gpt-oss-20b', 'ls_model_type': 'chat', 'ls_temperature': 0.7}, 'parent_ids': ['62d57d40-f78b-4164-b605-06e64e20e462', '03ff2746-ab75-4258-86d7-aa727dd584ee']}\n",
      "{'event': 'on_chat_model_stream', 'data': {'chunk': AIMessageChunk(content='', additional_kwargs={'reasoning_content': 'User'}, response_metadata={}, id='run--b8123484-feb3-41f0-b757-fb0d3c7a7f0b')}, 'run_id': 'b8123484-feb3-41f0-b757-fb0d3c7a7f0b', 'name': 'ChatGroq', 'tags': ['seq:step:1'], 'metadata': {'thread_id': '5', 'langgraph_step': 1, 'langgraph_node': 'SuperBot', 'langgraph_triggers': ('branch:to:SuperBot',), 'langgraph_path': ('__pregel_pull', 'SuperBot'), 'langgraph_checkpoint_ns': 'SuperBot:b278b9ab-9e84-57fd-c6f1-041147194797', 'checkpoint_ns': 'SuperBot:b278b9ab-9e84-57fd-c6f1-041147194797', 'ls_provider': 'groq', 'ls_model_name': 'openai/gpt-oss-20b', 'ls_model_type': 'chat', 'ls_temperature': 0.7}, 'parent_ids': ['62d57d40-f78b-4164-b605-06e64e20e462', '03ff2746-ab75-4258-86d7-aa727dd584ee']}\n",
      "{'event': 'on_chat_model_stream', 'data': {'chunk': AIMessageChunk(content='', additional_kwargs={'reasoning_content': ' says'}, response_metadata={}, id='run--b8123484-feb3-41f0-b757-fb0d3c7a7f0b')}, 'run_id': 'b8123484-feb3-41f0-b757-fb0d3c7a7f0b', 'name': 'ChatGroq', 'tags': ['seq:step:1'], 'metadata': {'thread_id': '5', 'langgraph_step': 1, 'langgraph_node': 'SuperBot', 'langgraph_triggers': ('branch:to:SuperBot',), 'langgraph_path': ('__pregel_pull', 'SuperBot'), 'langgraph_checkpoint_ns': 'SuperBot:b278b9ab-9e84-57fd-c6f1-041147194797', 'checkpoint_ns': 'SuperBot:b278b9ab-9e84-57fd-c6f1-041147194797', 'ls_provider': 'groq', 'ls_model_name': 'openai/gpt-oss-20b', 'ls_model_type': 'chat', 'ls_temperature': 0.7}, 'parent_ids': ['62d57d40-f78b-4164-b605-06e64e20e462', '03ff2746-ab75-4258-86d7-aa727dd584ee']}\n",
      "{'event': 'on_chat_model_stream', 'data': {'chunk': AIMessageChunk(content='', additional_kwargs={'reasoning_content': ':'}, response_metadata={}, id='run--b8123484-feb3-41f0-b757-fb0d3c7a7f0b')}, 'run_id': 'b8123484-feb3-41f0-b757-fb0d3c7a7f0b', 'name': 'ChatGroq', 'tags': ['seq:step:1'], 'metadata': {'thread_id': '5', 'langgraph_step': 1, 'langgraph_node': 'SuperBot', 'langgraph_triggers': ('branch:to:SuperBot',), 'langgraph_path': ('__pregel_pull', 'SuperBot'), 'langgraph_checkpoint_ns': 'SuperBot:b278b9ab-9e84-57fd-c6f1-041147194797', 'checkpoint_ns': 'SuperBot:b278b9ab-9e84-57fd-c6f1-041147194797', 'ls_provider': 'groq', 'ls_model_name': 'openai/gpt-oss-20b', 'ls_model_type': 'chat', 'ls_temperature': 0.7}, 'parent_ids': ['62d57d40-f78b-4164-b605-06e64e20e462', '03ff2746-ab75-4258-86d7-aa727dd584ee']}\n",
      "{'event': 'on_chat_model_stream', 'data': {'chunk': AIMessageChunk(content='', additional_kwargs={'reasoning_content': ' \"'}, response_metadata={}, id='run--b8123484-feb3-41f0-b757-fb0d3c7a7f0b')}, 'run_id': 'b8123484-feb3-41f0-b757-fb0d3c7a7f0b', 'name': 'ChatGroq', 'tags': ['seq:step:1'], 'metadata': {'thread_id': '5', 'langgraph_step': 1, 'langgraph_node': 'SuperBot', 'langgraph_triggers': ('branch:to:SuperBot',), 'langgraph_path': ('__pregel_pull', 'SuperBot'), 'langgraph_checkpoint_ns': 'SuperBot:b278b9ab-9e84-57fd-c6f1-041147194797', 'checkpoint_ns': 'SuperBot:b278b9ab-9e84-57fd-c6f1-041147194797', 'ls_provider': 'groq', 'ls_model_name': 'openai/gpt-oss-20b', 'ls_model_type': 'chat', 'ls_temperature': 0.7}, 'parent_ids': ['62d57d40-f78b-4164-b605-06e64e20e462', '03ff2746-ab75-4258-86d7-aa727dd584ee']}\n",
      "{'event': 'on_chat_model_stream', 'data': {'chunk': AIMessageChunk(content='', additional_kwargs={'reasoning_content': 'Hi'}, response_metadata={}, id='run--b8123484-feb3-41f0-b757-fb0d3c7a7f0b')}, 'run_id': 'b8123484-feb3-41f0-b757-fb0d3c7a7f0b', 'name': 'ChatGroq', 'tags': ['seq:step:1'], 'metadata': {'thread_id': '5', 'langgraph_step': 1, 'langgraph_node': 'SuperBot', 'langgraph_triggers': ('branch:to:SuperBot',), 'langgraph_path': ('__pregel_pull', 'SuperBot'), 'langgraph_checkpoint_ns': 'SuperBot:b278b9ab-9e84-57fd-c6f1-041147194797', 'checkpoint_ns': 'SuperBot:b278b9ab-9e84-57fd-c6f1-041147194797', 'ls_provider': 'groq', 'ls_model_name': 'openai/gpt-oss-20b', 'ls_model_type': 'chat', 'ls_temperature': 0.7}, 'parent_ids': ['62d57d40-f78b-4164-b605-06e64e20e462', '03ff2746-ab75-4258-86d7-aa727dd584ee']}\n",
      "{'event': 'on_chat_model_stream', 'data': {'chunk': AIMessageChunk(content='', additional_kwargs={'reasoning_content': ' my'}, response_metadata={}, id='run--b8123484-feb3-41f0-b757-fb0d3c7a7f0b')}, 'run_id': 'b8123484-feb3-41f0-b757-fb0d3c7a7f0b', 'name': 'ChatGroq', 'tags': ['seq:step:1'], 'metadata': {'thread_id': '5', 'langgraph_step': 1, 'langgraph_node': 'SuperBot', 'langgraph_triggers': ('branch:to:SuperBot',), 'langgraph_path': ('__pregel_pull', 'SuperBot'), 'langgraph_checkpoint_ns': 'SuperBot:b278b9ab-9e84-57fd-c6f1-041147194797', 'checkpoint_ns': 'SuperBot:b278b9ab-9e84-57fd-c6f1-041147194797', 'ls_provider': 'groq', 'ls_model_name': 'openai/gpt-oss-20b', 'ls_model_type': 'chat', 'ls_temperature': 0.7}, 'parent_ids': ['62d57d40-f78b-4164-b605-06e64e20e462', '03ff2746-ab75-4258-86d7-aa727dd584ee']}\n",
      "{'event': 'on_chat_model_stream', 'data': {'chunk': AIMessageChunk(content='', additional_kwargs={'reasoning_content': ' name'}, response_metadata={}, id='run--b8123484-feb3-41f0-b757-fb0d3c7a7f0b')}, 'run_id': 'b8123484-feb3-41f0-b757-fb0d3c7a7f0b', 'name': 'ChatGroq', 'tags': ['seq:step:1'], 'metadata': {'thread_id': '5', 'langgraph_step': 1, 'langgraph_node': 'SuperBot', 'langgraph_triggers': ('branch:to:SuperBot',), 'langgraph_path': ('__pregel_pull', 'SuperBot'), 'langgraph_checkpoint_ns': 'SuperBot:b278b9ab-9e84-57fd-c6f1-041147194797', 'checkpoint_ns': 'SuperBot:b278b9ab-9e84-57fd-c6f1-041147194797', 'ls_provider': 'groq', 'ls_model_name': 'openai/gpt-oss-20b', 'ls_model_type': 'chat', 'ls_temperature': 0.7}, 'parent_ids': ['62d57d40-f78b-4164-b605-06e64e20e462', '03ff2746-ab75-4258-86d7-aa727dd584ee']}\n",
      "{'event': 'on_chat_model_stream', 'data': {'chunk': AIMessageChunk(content='', additional_kwargs={'reasoning_content': ' is'}, response_metadata={}, id='run--b8123484-feb3-41f0-b757-fb0d3c7a7f0b')}, 'run_id': 'b8123484-feb3-41f0-b757-fb0d3c7a7f0b', 'name': 'ChatGroq', 'tags': ['seq:step:1'], 'metadata': {'thread_id': '5', 'langgraph_step': 1, 'langgraph_node': 'SuperBot', 'langgraph_triggers': ('branch:to:SuperBot',), 'langgraph_path': ('__pregel_pull', 'SuperBot'), 'langgraph_checkpoint_ns': 'SuperBot:b278b9ab-9e84-57fd-c6f1-041147194797', 'checkpoint_ns': 'SuperBot:b278b9ab-9e84-57fd-c6f1-041147194797', 'ls_provider': 'groq', 'ls_model_name': 'openai/gpt-oss-20b', 'ls_model_type': 'chat', 'ls_temperature': 0.7}, 'parent_ids': ['62d57d40-f78b-4164-b605-06e64e20e462', '03ff2746-ab75-4258-86d7-aa727dd584ee']}\n",
      "{'event': 'on_chat_model_stream', 'data': {'chunk': AIMessageChunk(content='', additional_kwargs={'reasoning_content': ' n'}, response_metadata={}, id='run--b8123484-feb3-41f0-b757-fb0d3c7a7f0b')}, 'run_id': 'b8123484-feb3-41f0-b757-fb0d3c7a7f0b', 'name': 'ChatGroq', 'tags': ['seq:step:1'], 'metadata': {'thread_id': '5', 'langgraph_step': 1, 'langgraph_node': 'SuperBot', 'langgraph_triggers': ('branch:to:SuperBot',), 'langgraph_path': ('__pregel_pull', 'SuperBot'), 'langgraph_checkpoint_ns': 'SuperBot:b278b9ab-9e84-57fd-c6f1-041147194797', 'checkpoint_ns': 'SuperBot:b278b9ab-9e84-57fd-c6f1-041147194797', 'ls_provider': 'groq', 'ls_model_name': 'openai/gpt-oss-20b', 'ls_model_type': 'chat', 'ls_temperature': 0.7}, 'parent_ids': ['62d57d40-f78b-4164-b605-06e64e20e462', '03ff2746-ab75-4258-86d7-aa727dd584ee']}\n",
      "{'event': 'on_chat_model_stream', 'data': {'chunk': AIMessageChunk(content='', additional_kwargs={'reasoning_content': 'ancy'}, response_metadata={}, id='run--b8123484-feb3-41f0-b757-fb0d3c7a7f0b')}, 'run_id': 'b8123484-feb3-41f0-b757-fb0d3c7a7f0b', 'name': 'ChatGroq', 'tags': ['seq:step:1'], 'metadata': {'thread_id': '5', 'langgraph_step': 1, 'langgraph_node': 'SuperBot', 'langgraph_triggers': ('branch:to:SuperBot',), 'langgraph_path': ('__pregel_pull', 'SuperBot'), 'langgraph_checkpoint_ns': 'SuperBot:b278b9ab-9e84-57fd-c6f1-041147194797', 'checkpoint_ns': 'SuperBot:b278b9ab-9e84-57fd-c6f1-041147194797', 'ls_provider': 'groq', 'ls_model_name': 'openai/gpt-oss-20b', 'ls_model_type': 'chat', 'ls_temperature': 0.7}, 'parent_ids': ['62d57d40-f78b-4164-b605-06e64e20e462', '03ff2746-ab75-4258-86d7-aa727dd584ee']}\n",
      "{'event': 'on_chat_model_stream', 'data': {'chunk': AIMessageChunk(content='', additional_kwargs={'reasoning_content': ' and'}, response_metadata={}, id='run--b8123484-feb3-41f0-b757-fb0d3c7a7f0b')}, 'run_id': 'b8123484-feb3-41f0-b757-fb0d3c7a7f0b', 'name': 'ChatGroq', 'tags': ['seq:step:1'], 'metadata': {'thread_id': '5', 'langgraph_step': 1, 'langgraph_node': 'SuperBot', 'langgraph_triggers': ('branch:to:SuperBot',), 'langgraph_path': ('__pregel_pull', 'SuperBot'), 'langgraph_checkpoint_ns': 'SuperBot:b278b9ab-9e84-57fd-c6f1-041147194797', 'checkpoint_ns': 'SuperBot:b278b9ab-9e84-57fd-c6f1-041147194797', 'ls_provider': 'groq', 'ls_model_name': 'openai/gpt-oss-20b', 'ls_model_type': 'chat', 'ls_temperature': 0.7}, 'parent_ids': ['62d57d40-f78b-4164-b605-06e64e20e462', '03ff2746-ab75-4258-86d7-aa727dd584ee']}\n",
      "{'event': 'on_chat_model_stream', 'data': {'chunk': AIMessageChunk(content='', additional_kwargs={'reasoning_content': ' I'}, response_metadata={}, id='run--b8123484-feb3-41f0-b757-fb0d3c7a7f0b')}, 'run_id': 'b8123484-feb3-41f0-b757-fb0d3c7a7f0b', 'name': 'ChatGroq', 'tags': ['seq:step:1'], 'metadata': {'thread_id': '5', 'langgraph_step': 1, 'langgraph_node': 'SuperBot', 'langgraph_triggers': ('branch:to:SuperBot',), 'langgraph_path': ('__pregel_pull', 'SuperBot'), 'langgraph_checkpoint_ns': 'SuperBot:b278b9ab-9e84-57fd-c6f1-041147194797', 'checkpoint_ns': 'SuperBot:b278b9ab-9e84-57fd-c6f1-041147194797', 'ls_provider': 'groq', 'ls_model_name': 'openai/gpt-oss-20b', 'ls_model_type': 'chat', 'ls_temperature': 0.7}, 'parent_ids': ['62d57d40-f78b-4164-b605-06e64e20e462', '03ff2746-ab75-4258-86d7-aa727dd584ee']}\n",
      "{'event': 'on_chat_model_stream', 'data': {'chunk': AIMessageChunk(content='', additional_kwargs={'reasoning_content': ' like'}, response_metadata={}, id='run--b8123484-feb3-41f0-b757-fb0d3c7a7f0b')}, 'run_id': 'b8123484-feb3-41f0-b757-fb0d3c7a7f0b', 'name': 'ChatGroq', 'tags': ['seq:step:1'], 'metadata': {'thread_id': '5', 'langgraph_step': 1, 'langgraph_node': 'SuperBot', 'langgraph_triggers': ('branch:to:SuperBot',), 'langgraph_path': ('__pregel_pull', 'SuperBot'), 'langgraph_checkpoint_ns': 'SuperBot:b278b9ab-9e84-57fd-c6f1-041147194797', 'checkpoint_ns': 'SuperBot:b278b9ab-9e84-57fd-c6f1-041147194797', 'ls_provider': 'groq', 'ls_model_name': 'openai/gpt-oss-20b', 'ls_model_type': 'chat', 'ls_temperature': 0.7}, 'parent_ids': ['62d57d40-f78b-4164-b605-06e64e20e462', '03ff2746-ab75-4258-86d7-aa727dd584ee']}\n",
      "{'event': 'on_chat_model_stream', 'data': {'chunk': AIMessageChunk(content='', additional_kwargs={'reasoning_content': ' singing'}, response_metadata={}, id='run--b8123484-feb3-41f0-b757-fb0d3c7a7f0b')}, 'run_id': 'b8123484-feb3-41f0-b757-fb0d3c7a7f0b', 'name': 'ChatGroq', 'tags': ['seq:step:1'], 'metadata': {'thread_id': '5', 'langgraph_step': 1, 'langgraph_node': 'SuperBot', 'langgraph_triggers': ('branch:to:SuperBot',), 'langgraph_path': ('__pregel_pull', 'SuperBot'), 'langgraph_checkpoint_ns': 'SuperBot:b278b9ab-9e84-57fd-c6f1-041147194797', 'checkpoint_ns': 'SuperBot:b278b9ab-9e84-57fd-c6f1-041147194797', 'ls_provider': 'groq', 'ls_model_name': 'openai/gpt-oss-20b', 'ls_model_type': 'chat', 'ls_temperature': 0.7}, 'parent_ids': ['62d57d40-f78b-4164-b605-06e64e20e462', '03ff2746-ab75-4258-86d7-aa727dd584ee']}\n",
      "{'event': 'on_chat_model_stream', 'data': {'chunk': AIMessageChunk(content='', additional_kwargs={'reasoning_content': '\".'}, response_metadata={}, id='run--b8123484-feb3-41f0-b757-fb0d3c7a7f0b')}, 'run_id': 'b8123484-feb3-41f0-b757-fb0d3c7a7f0b', 'name': 'ChatGroq', 'tags': ['seq:step:1'], 'metadata': {'thread_id': '5', 'langgraph_step': 1, 'langgraph_node': 'SuperBot', 'langgraph_triggers': ('branch:to:SuperBot',), 'langgraph_path': ('__pregel_pull', 'SuperBot'), 'langgraph_checkpoint_ns': 'SuperBot:b278b9ab-9e84-57fd-c6f1-041147194797', 'checkpoint_ns': 'SuperBot:b278b9ab-9e84-57fd-c6f1-041147194797', 'ls_provider': 'groq', 'ls_model_name': 'openai/gpt-oss-20b', 'ls_model_type': 'chat', 'ls_temperature': 0.7}, 'parent_ids': ['62d57d40-f78b-4164-b605-06e64e20e462', '03ff2746-ab75-4258-86d7-aa727dd584ee']}\n",
      "{'event': 'on_chat_model_stream', 'data': {'chunk': AIMessageChunk(content='', additional_kwargs={'reasoning_content': ' They'}, response_metadata={}, id='run--b8123484-feb3-41f0-b757-fb0d3c7a7f0b')}, 'run_id': 'b8123484-feb3-41f0-b757-fb0d3c7a7f0b', 'name': 'ChatGroq', 'tags': ['seq:step:1'], 'metadata': {'thread_id': '5', 'langgraph_step': 1, 'langgraph_node': 'SuperBot', 'langgraph_triggers': ('branch:to:SuperBot',), 'langgraph_path': ('__pregel_pull', 'SuperBot'), 'langgraph_checkpoint_ns': 'SuperBot:b278b9ab-9e84-57fd-c6f1-041147194797', 'checkpoint_ns': 'SuperBot:b278b9ab-9e84-57fd-c6f1-041147194797', 'ls_provider': 'groq', 'ls_model_name': 'openai/gpt-oss-20b', 'ls_model_type': 'chat', 'ls_temperature': 0.7}, 'parent_ids': ['62d57d40-f78b-4164-b605-06e64e20e462', '03ff2746-ab75-4258-86d7-aa727dd584ee']}\n",
      "{'event': 'on_chat_model_stream', 'data': {'chunk': AIMessageChunk(content='', additional_kwargs={'reasoning_content': ' are'}, response_metadata={}, id='run--b8123484-feb3-41f0-b757-fb0d3c7a7f0b')}, 'run_id': 'b8123484-feb3-41f0-b757-fb0d3c7a7f0b', 'name': 'ChatGroq', 'tags': ['seq:step:1'], 'metadata': {'thread_id': '5', 'langgraph_step': 1, 'langgraph_node': 'SuperBot', 'langgraph_triggers': ('branch:to:SuperBot',), 'langgraph_path': ('__pregel_pull', 'SuperBot'), 'langgraph_checkpoint_ns': 'SuperBot:b278b9ab-9e84-57fd-c6f1-041147194797', 'checkpoint_ns': 'SuperBot:b278b9ab-9e84-57fd-c6f1-041147194797', 'ls_provider': 'groq', 'ls_model_name': 'openai/gpt-oss-20b', 'ls_model_type': 'chat', 'ls_temperature': 0.7}, 'parent_ids': ['62d57d40-f78b-4164-b605-06e64e20e462', '03ff2746-ab75-4258-86d7-aa727dd584ee']}\n",
      "{'event': 'on_chat_model_stream', 'data': {'chunk': AIMessageChunk(content='', additional_kwargs={'reasoning_content': ' greeting'}, response_metadata={}, id='run--b8123484-feb3-41f0-b757-fb0d3c7a7f0b')}, 'run_id': 'b8123484-feb3-41f0-b757-fb0d3c7a7f0b', 'name': 'ChatGroq', 'tags': ['seq:step:1'], 'metadata': {'thread_id': '5', 'langgraph_step': 1, 'langgraph_node': 'SuperBot', 'langgraph_triggers': ('branch:to:SuperBot',), 'langgraph_path': ('__pregel_pull', 'SuperBot'), 'langgraph_checkpoint_ns': 'SuperBot:b278b9ab-9e84-57fd-c6f1-041147194797', 'checkpoint_ns': 'SuperBot:b278b9ab-9e84-57fd-c6f1-041147194797', 'ls_provider': 'groq', 'ls_model_name': 'openai/gpt-oss-20b', 'ls_model_type': 'chat', 'ls_temperature': 0.7}, 'parent_ids': ['62d57d40-f78b-4164-b605-06e64e20e462', '03ff2746-ab75-4258-86d7-aa727dd584ee']}\n",
      "{'event': 'on_chat_model_stream', 'data': {'chunk': AIMessageChunk(content='', additional_kwargs={'reasoning_content': ' and'}, response_metadata={}, id='run--b8123484-feb3-41f0-b757-fb0d3c7a7f0b')}, 'run_id': 'b8123484-feb3-41f0-b757-fb0d3c7a7f0b', 'name': 'ChatGroq', 'tags': ['seq:step:1'], 'metadata': {'thread_id': '5', 'langgraph_step': 1, 'langgraph_node': 'SuperBot', 'langgraph_triggers': ('branch:to:SuperBot',), 'langgraph_path': ('__pregel_pull', 'SuperBot'), 'langgraph_checkpoint_ns': 'SuperBot:b278b9ab-9e84-57fd-c6f1-041147194797', 'checkpoint_ns': 'SuperBot:b278b9ab-9e84-57fd-c6f1-041147194797', 'ls_provider': 'groq', 'ls_model_name': 'openai/gpt-oss-20b', 'ls_model_type': 'chat', 'ls_temperature': 0.7}, 'parent_ids': ['62d57d40-f78b-4164-b605-06e64e20e462', '03ff2746-ab75-4258-86d7-aa727dd584ee']}\n",
      "{'event': 'on_chat_model_stream', 'data': {'chunk': AIMessageChunk(content='', additional_kwargs={'reasoning_content': ' providing'}, response_metadata={}, id='run--b8123484-feb3-41f0-b757-fb0d3c7a7f0b')}, 'run_id': 'b8123484-feb3-41f0-b757-fb0d3c7a7f0b', 'name': 'ChatGroq', 'tags': ['seq:step:1'], 'metadata': {'thread_id': '5', 'langgraph_step': 1, 'langgraph_node': 'SuperBot', 'langgraph_triggers': ('branch:to:SuperBot',), 'langgraph_path': ('__pregel_pull', 'SuperBot'), 'langgraph_checkpoint_ns': 'SuperBot:b278b9ab-9e84-57fd-c6f1-041147194797', 'checkpoint_ns': 'SuperBot:b278b9ab-9e84-57fd-c6f1-041147194797', 'ls_provider': 'groq', 'ls_model_name': 'openai/gpt-oss-20b', 'ls_model_type': 'chat', 'ls_temperature': 0.7}, 'parent_ids': ['62d57d40-f78b-4164-b605-06e64e20e462', '03ff2746-ab75-4258-86d7-aa727dd584ee']}\n",
      "{'event': 'on_chat_model_stream', 'data': {'chunk': AIMessageChunk(content='', additional_kwargs={'reasoning_content': ' info'}, response_metadata={}, id='run--b8123484-feb3-41f0-b757-fb0d3c7a7f0b')}, 'run_id': 'b8123484-feb3-41f0-b757-fb0d3c7a7f0b', 'name': 'ChatGroq', 'tags': ['seq:step:1'], 'metadata': {'thread_id': '5', 'langgraph_step': 1, 'langgraph_node': 'SuperBot', 'langgraph_triggers': ('branch:to:SuperBot',), 'langgraph_path': ('__pregel_pull', 'SuperBot'), 'langgraph_checkpoint_ns': 'SuperBot:b278b9ab-9e84-57fd-c6f1-041147194797', 'checkpoint_ns': 'SuperBot:b278b9ab-9e84-57fd-c6f1-041147194797', 'ls_provider': 'groq', 'ls_model_name': 'openai/gpt-oss-20b', 'ls_model_type': 'chat', 'ls_temperature': 0.7}, 'parent_ids': ['62d57d40-f78b-4164-b605-06e64e20e462', '03ff2746-ab75-4258-86d7-aa727dd584ee']}\n",
      "{'event': 'on_chat_model_stream', 'data': {'chunk': AIMessageChunk(content='', additional_kwargs={'reasoning_content': '.'}, response_metadata={}, id='run--b8123484-feb3-41f0-b757-fb0d3c7a7f0b')}, 'run_id': 'b8123484-feb3-41f0-b757-fb0d3c7a7f0b', 'name': 'ChatGroq', 'tags': ['seq:step:1'], 'metadata': {'thread_id': '5', 'langgraph_step': 1, 'langgraph_node': 'SuperBot', 'langgraph_triggers': ('branch:to:SuperBot',), 'langgraph_path': ('__pregel_pull', 'SuperBot'), 'langgraph_checkpoint_ns': 'SuperBot:b278b9ab-9e84-57fd-c6f1-041147194797', 'checkpoint_ns': 'SuperBot:b278b9ab-9e84-57fd-c6f1-041147194797', 'ls_provider': 'groq', 'ls_model_name': 'openai/gpt-oss-20b', 'ls_model_type': 'chat', 'ls_temperature': 0.7}, 'parent_ids': ['62d57d40-f78b-4164-b605-06e64e20e462', '03ff2746-ab75-4258-86d7-aa727dd584ee']}\n",
      "{'event': 'on_chat_model_stream', 'data': {'chunk': AIMessageChunk(content='', additional_kwargs={'reasoning_content': ' The'}, response_metadata={}, id='run--b8123484-feb3-41f0-b757-fb0d3c7a7f0b')}, 'run_id': 'b8123484-feb3-41f0-b757-fb0d3c7a7f0b', 'name': 'ChatGroq', 'tags': ['seq:step:1'], 'metadata': {'thread_id': '5', 'langgraph_step': 1, 'langgraph_node': 'SuperBot', 'langgraph_triggers': ('branch:to:SuperBot',), 'langgraph_path': ('__pregel_pull', 'SuperBot'), 'langgraph_checkpoint_ns': 'SuperBot:b278b9ab-9e84-57fd-c6f1-041147194797', 'checkpoint_ns': 'SuperBot:b278b9ab-9e84-57fd-c6f1-041147194797', 'ls_provider': 'groq', 'ls_model_name': 'openai/gpt-oss-20b', 'ls_model_type': 'chat', 'ls_temperature': 0.7}, 'parent_ids': ['62d57d40-f78b-4164-b605-06e64e20e462', '03ff2746-ab75-4258-86d7-aa727dd584ee']}\n",
      "{'event': 'on_chat_model_stream', 'data': {'chunk': AIMessageChunk(content='', additional_kwargs={'reasoning_content': ' user'}, response_metadata={}, id='run--b8123484-feb3-41f0-b757-fb0d3c7a7f0b')}, 'run_id': 'b8123484-feb3-41f0-b757-fb0d3c7a7f0b', 'name': 'ChatGroq', 'tags': ['seq:step:1'], 'metadata': {'thread_id': '5', 'langgraph_step': 1, 'langgraph_node': 'SuperBot', 'langgraph_triggers': ('branch:to:SuperBot',), 'langgraph_path': ('__pregel_pull', 'SuperBot'), 'langgraph_checkpoint_ns': 'SuperBot:b278b9ab-9e84-57fd-c6f1-041147194797', 'checkpoint_ns': 'SuperBot:b278b9ab-9e84-57fd-c6f1-041147194797', 'ls_provider': 'groq', 'ls_model_name': 'openai/gpt-oss-20b', 'ls_model_type': 'chat', 'ls_temperature': 0.7}, 'parent_ids': ['62d57d40-f78b-4164-b605-06e64e20e462', '03ff2746-ab75-4258-86d7-aa727dd584ee']}\n",
      "{'event': 'on_chat_model_stream', 'data': {'chunk': AIMessageChunk(content='', additional_kwargs={'reasoning_content': ' might'}, response_metadata={}, id='run--b8123484-feb3-41f0-b757-fb0d3c7a7f0b')}, 'run_id': 'b8123484-feb3-41f0-b757-fb0d3c7a7f0b', 'name': 'ChatGroq', 'tags': ['seq:step:1'], 'metadata': {'thread_id': '5', 'langgraph_step': 1, 'langgraph_node': 'SuperBot', 'langgraph_triggers': ('branch:to:SuperBot',), 'langgraph_path': ('__pregel_pull', 'SuperBot'), 'langgraph_checkpoint_ns': 'SuperBot:b278b9ab-9e84-57fd-c6f1-041147194797', 'checkpoint_ns': 'SuperBot:b278b9ab-9e84-57fd-c6f1-041147194797', 'ls_provider': 'groq', 'ls_model_name': 'openai/gpt-oss-20b', 'ls_model_type': 'chat', 'ls_temperature': 0.7}, 'parent_ids': ['62d57d40-f78b-4164-b605-06e64e20e462', '03ff2746-ab75-4258-86d7-aa727dd584ee']}\n",
      "{'event': 'on_chat_model_stream', 'data': {'chunk': AIMessageChunk(content='', additional_kwargs={'reasoning_content': ' want'}, response_metadata={}, id='run--b8123484-feb3-41f0-b757-fb0d3c7a7f0b')}, 'run_id': 'b8123484-feb3-41f0-b757-fb0d3c7a7f0b', 'name': 'ChatGroq', 'tags': ['seq:step:1'], 'metadata': {'thread_id': '5', 'langgraph_step': 1, 'langgraph_node': 'SuperBot', 'langgraph_triggers': ('branch:to:SuperBot',), 'langgraph_path': ('__pregel_pull', 'SuperBot'), 'langgraph_checkpoint_ns': 'SuperBot:b278b9ab-9e84-57fd-c6f1-041147194797', 'checkpoint_ns': 'SuperBot:b278b9ab-9e84-57fd-c6f1-041147194797', 'ls_provider': 'groq', 'ls_model_name': 'openai/gpt-oss-20b', 'ls_model_type': 'chat', 'ls_temperature': 0.7}, 'parent_ids': ['62d57d40-f78b-4164-b605-06e64e20e462', '03ff2746-ab75-4258-86d7-aa727dd584ee']}\n",
      "{'event': 'on_chat_model_stream', 'data': {'chunk': AIMessageChunk(content='', additional_kwargs={'reasoning_content': ' a'}, response_metadata={}, id='run--b8123484-feb3-41f0-b757-fb0d3c7a7f0b')}, 'run_id': 'b8123484-feb3-41f0-b757-fb0d3c7a7f0b', 'name': 'ChatGroq', 'tags': ['seq:step:1'], 'metadata': {'thread_id': '5', 'langgraph_step': 1, 'langgraph_node': 'SuperBot', 'langgraph_triggers': ('branch:to:SuperBot',), 'langgraph_path': ('__pregel_pull', 'SuperBot'), 'langgraph_checkpoint_ns': 'SuperBot:b278b9ab-9e84-57fd-c6f1-041147194797', 'checkpoint_ns': 'SuperBot:b278b9ab-9e84-57fd-c6f1-041147194797', 'ls_provider': 'groq', 'ls_model_name': 'openai/gpt-oss-20b', 'ls_model_type': 'chat', 'ls_temperature': 0.7}, 'parent_ids': ['62d57d40-f78b-4164-b605-06e64e20e462', '03ff2746-ab75-4258-86d7-aa727dd584ee']}\n",
      "{'event': 'on_chat_model_stream', 'data': {'chunk': AIMessageChunk(content='', additional_kwargs={'reasoning_content': ' conversation'}, response_metadata={}, id='run--b8123484-feb3-41f0-b757-fb0d3c7a7f0b')}, 'run_id': 'b8123484-feb3-41f0-b757-fb0d3c7a7f0b', 'name': 'ChatGroq', 'tags': ['seq:step:1'], 'metadata': {'thread_id': '5', 'langgraph_step': 1, 'langgraph_node': 'SuperBot', 'langgraph_triggers': ('branch:to:SuperBot',), 'langgraph_path': ('__pregel_pull', 'SuperBot'), 'langgraph_checkpoint_ns': 'SuperBot:b278b9ab-9e84-57fd-c6f1-041147194797', 'checkpoint_ns': 'SuperBot:b278b9ab-9e84-57fd-c6f1-041147194797', 'ls_provider': 'groq', 'ls_model_name': 'openai/gpt-oss-20b', 'ls_model_type': 'chat', 'ls_temperature': 0.7}, 'parent_ids': ['62d57d40-f78b-4164-b605-06e64e20e462', '03ff2746-ab75-4258-86d7-aa727dd584ee']}\n",
      "{'event': 'on_chat_model_stream', 'data': {'chunk': AIMessageChunk(content='', additional_kwargs={'reasoning_content': '.'}, response_metadata={}, id='run--b8123484-feb3-41f0-b757-fb0d3c7a7f0b')}, 'run_id': 'b8123484-feb3-41f0-b757-fb0d3c7a7f0b', 'name': 'ChatGroq', 'tags': ['seq:step:1'], 'metadata': {'thread_id': '5', 'langgraph_step': 1, 'langgraph_node': 'SuperBot', 'langgraph_triggers': ('branch:to:SuperBot',), 'langgraph_path': ('__pregel_pull', 'SuperBot'), 'langgraph_checkpoint_ns': 'SuperBot:b278b9ab-9e84-57fd-c6f1-041147194797', 'checkpoint_ns': 'SuperBot:b278b9ab-9e84-57fd-c6f1-041147194797', 'ls_provider': 'groq', 'ls_model_name': 'openai/gpt-oss-20b', 'ls_model_type': 'chat', 'ls_temperature': 0.7}, 'parent_ids': ['62d57d40-f78b-4164-b605-06e64e20e462', '03ff2746-ab75-4258-86d7-aa727dd584ee']}\n",
      "{'event': 'on_chat_model_stream', 'data': {'chunk': AIMessageChunk(content='', additional_kwargs={'reasoning_content': ' According'}, response_metadata={}, id='run--b8123484-feb3-41f0-b757-fb0d3c7a7f0b')}, 'run_id': 'b8123484-feb3-41f0-b757-fb0d3c7a7f0b', 'name': 'ChatGroq', 'tags': ['seq:step:1'], 'metadata': {'thread_id': '5', 'langgraph_step': 1, 'langgraph_node': 'SuperBot', 'langgraph_triggers': ('branch:to:SuperBot',), 'langgraph_path': ('__pregel_pull', 'SuperBot'), 'langgraph_checkpoint_ns': 'SuperBot:b278b9ab-9e84-57fd-c6f1-041147194797', 'checkpoint_ns': 'SuperBot:b278b9ab-9e84-57fd-c6f1-041147194797', 'ls_provider': 'groq', 'ls_model_name': 'openai/gpt-oss-20b', 'ls_model_type': 'chat', 'ls_temperature': 0.7}, 'parent_ids': ['62d57d40-f78b-4164-b605-06e64e20e462', '03ff2746-ab75-4258-86d7-aa727dd584ee']}\n",
      "{'event': 'on_chat_model_stream', 'data': {'chunk': AIMessageChunk(content='', additional_kwargs={'reasoning_content': ' to'}, response_metadata={}, id='run--b8123484-feb3-41f0-b757-fb0d3c7a7f0b')}, 'run_id': 'b8123484-feb3-41f0-b757-fb0d3c7a7f0b', 'name': 'ChatGroq', 'tags': ['seq:step:1'], 'metadata': {'thread_id': '5', 'langgraph_step': 1, 'langgraph_node': 'SuperBot', 'langgraph_triggers': ('branch:to:SuperBot',), 'langgraph_path': ('__pregel_pull', 'SuperBot'), 'langgraph_checkpoint_ns': 'SuperBot:b278b9ab-9e84-57fd-c6f1-041147194797', 'checkpoint_ns': 'SuperBot:b278b9ab-9e84-57fd-c6f1-041147194797', 'ls_provider': 'groq', 'ls_model_name': 'openai/gpt-oss-20b', 'ls_model_type': 'chat', 'ls_temperature': 0.7}, 'parent_ids': ['62d57d40-f78b-4164-b605-06e64e20e462', '03ff2746-ab75-4258-86d7-aa727dd584ee']}\n",
      "{'event': 'on_chat_model_stream', 'data': {'chunk': AIMessageChunk(content='', additional_kwargs={'reasoning_content': ' policy'}, response_metadata={}, id='run--b8123484-feb3-41f0-b757-fb0d3c7a7f0b')}, 'run_id': 'b8123484-feb3-41f0-b757-fb0d3c7a7f0b', 'name': 'ChatGroq', 'tags': ['seq:step:1'], 'metadata': {'thread_id': '5', 'langgraph_step': 1, 'langgraph_node': 'SuperBot', 'langgraph_triggers': ('branch:to:SuperBot',), 'langgraph_path': ('__pregel_pull', 'SuperBot'), 'langgraph_checkpoint_ns': 'SuperBot:b278b9ab-9e84-57fd-c6f1-041147194797', 'checkpoint_ns': 'SuperBot:b278b9ab-9e84-57fd-c6f1-041147194797', 'ls_provider': 'groq', 'ls_model_name': 'openai/gpt-oss-20b', 'ls_model_type': 'chat', 'ls_temperature': 0.7}, 'parent_ids': ['62d57d40-f78b-4164-b605-06e64e20e462', '03ff2746-ab75-4258-86d7-aa727dd584ee']}\n",
      "{'event': 'on_chat_model_stream', 'data': {'chunk': AIMessageChunk(content='', additional_kwargs={'reasoning_content': ':'}, response_metadata={}, id='run--b8123484-feb3-41f0-b757-fb0d3c7a7f0b')}, 'run_id': 'b8123484-feb3-41f0-b757-fb0d3c7a7f0b', 'name': 'ChatGroq', 'tags': ['seq:step:1'], 'metadata': {'thread_id': '5', 'langgraph_step': 1, 'langgraph_node': 'SuperBot', 'langgraph_triggers': ('branch:to:SuperBot',), 'langgraph_path': ('__pregel_pull', 'SuperBot'), 'langgraph_checkpoint_ns': 'SuperBot:b278b9ab-9e84-57fd-c6f1-041147194797', 'checkpoint_ns': 'SuperBot:b278b9ab-9e84-57fd-c6f1-041147194797', 'ls_provider': 'groq', 'ls_model_name': 'openai/gpt-oss-20b', 'ls_model_type': 'chat', 'ls_temperature': 0.7}, 'parent_ids': ['62d57d40-f78b-4164-b605-06e64e20e462', '03ff2746-ab75-4258-86d7-aa727dd584ee']}\n",
      "{'event': 'on_chat_model_stream', 'data': {'chunk': AIMessageChunk(content='', additional_kwargs={'reasoning_content': ' no'}, response_metadata={}, id='run--b8123484-feb3-41f0-b757-fb0d3c7a7f0b')}, 'run_id': 'b8123484-feb3-41f0-b757-fb0d3c7a7f0b', 'name': 'ChatGroq', 'tags': ['seq:step:1'], 'metadata': {'thread_id': '5', 'langgraph_step': 1, 'langgraph_node': 'SuperBot', 'langgraph_triggers': ('branch:to:SuperBot',), 'langgraph_path': ('__pregel_pull', 'SuperBot'), 'langgraph_checkpoint_ns': 'SuperBot:b278b9ab-9e84-57fd-c6f1-041147194797', 'checkpoint_ns': 'SuperBot:b278b9ab-9e84-57fd-c6f1-041147194797', 'ls_provider': 'groq', 'ls_model_name': 'openai/gpt-oss-20b', 'ls_model_type': 'chat', 'ls_temperature': 0.7}, 'parent_ids': ['62d57d40-f78b-4164-b605-06e64e20e462', '03ff2746-ab75-4258-86d7-aa727dd584ee']}\n",
      "{'event': 'on_chat_model_stream', 'data': {'chunk': AIMessageChunk(content='', additional_kwargs={'reasoning_content': ' dis'}, response_metadata={}, id='run--b8123484-feb3-41f0-b757-fb0d3c7a7f0b')}, 'run_id': 'b8123484-feb3-41f0-b757-fb0d3c7a7f0b', 'name': 'ChatGroq', 'tags': ['seq:step:1'], 'metadata': {'thread_id': '5', 'langgraph_step': 1, 'langgraph_node': 'SuperBot', 'langgraph_triggers': ('branch:to:SuperBot',), 'langgraph_path': ('__pregel_pull', 'SuperBot'), 'langgraph_checkpoint_ns': 'SuperBot:b278b9ab-9e84-57fd-c6f1-041147194797', 'checkpoint_ns': 'SuperBot:b278b9ab-9e84-57fd-c6f1-041147194797', 'ls_provider': 'groq', 'ls_model_name': 'openai/gpt-oss-20b', 'ls_model_type': 'chat', 'ls_temperature': 0.7}, 'parent_ids': ['62d57d40-f78b-4164-b605-06e64e20e462', '03ff2746-ab75-4258-86d7-aa727dd584ee']}\n",
      "{'event': 'on_chat_model_stream', 'data': {'chunk': AIMessageChunk(content='', additional_kwargs={'reasoning_content': 'allowed'}, response_metadata={}, id='run--b8123484-feb3-41f0-b757-fb0d3c7a7f0b')}, 'run_id': 'b8123484-feb3-41f0-b757-fb0d3c7a7f0b', 'name': 'ChatGroq', 'tags': ['seq:step:1'], 'metadata': {'thread_id': '5', 'langgraph_step': 1, 'langgraph_node': 'SuperBot', 'langgraph_triggers': ('branch:to:SuperBot',), 'langgraph_path': ('__pregel_pull', 'SuperBot'), 'langgraph_checkpoint_ns': 'SuperBot:b278b9ab-9e84-57fd-c6f1-041147194797', 'checkpoint_ns': 'SuperBot:b278b9ab-9e84-57fd-c6f1-041147194797', 'ls_provider': 'groq', 'ls_model_name': 'openai/gpt-oss-20b', 'ls_model_type': 'chat', 'ls_temperature': 0.7}, 'parent_ids': ['62d57d40-f78b-4164-b605-06e64e20e462', '03ff2746-ab75-4258-86d7-aa727dd584ee']}\n",
      "{'event': 'on_chat_model_stream', 'data': {'chunk': AIMessageChunk(content='', additional_kwargs={'reasoning_content': ' content'}, response_metadata={}, id='run--b8123484-feb3-41f0-b757-fb0d3c7a7f0b')}, 'run_id': 'b8123484-feb3-41f0-b757-fb0d3c7a7f0b', 'name': 'ChatGroq', 'tags': ['seq:step:1'], 'metadata': {'thread_id': '5', 'langgraph_step': 1, 'langgraph_node': 'SuperBot', 'langgraph_triggers': ('branch:to:SuperBot',), 'langgraph_path': ('__pregel_pull', 'SuperBot'), 'langgraph_checkpoint_ns': 'SuperBot:b278b9ab-9e84-57fd-c6f1-041147194797', 'checkpoint_ns': 'SuperBot:b278b9ab-9e84-57fd-c6f1-041147194797', 'ls_provider': 'groq', 'ls_model_name': 'openai/gpt-oss-20b', 'ls_model_type': 'chat', 'ls_temperature': 0.7}, 'parent_ids': ['62d57d40-f78b-4164-b605-06e64e20e462', '03ff2746-ab75-4258-86d7-aa727dd584ee']}\n",
      "{'event': 'on_chat_model_stream', 'data': {'chunk': AIMessageChunk(content='', additional_kwargs={'reasoning_content': '.'}, response_metadata={}, id='run--b8123484-feb3-41f0-b757-fb0d3c7a7f0b')}, 'run_id': 'b8123484-feb3-41f0-b757-fb0d3c7a7f0b', 'name': 'ChatGroq', 'tags': ['seq:step:1'], 'metadata': {'thread_id': '5', 'langgraph_step': 1, 'langgraph_node': 'SuperBot', 'langgraph_triggers': ('branch:to:SuperBot',), 'langgraph_path': ('__pregel_pull', 'SuperBot'), 'langgraph_checkpoint_ns': 'SuperBot:b278b9ab-9e84-57fd-c6f1-041147194797', 'checkpoint_ns': 'SuperBot:b278b9ab-9e84-57fd-c6f1-041147194797', 'ls_provider': 'groq', 'ls_model_name': 'openai/gpt-oss-20b', 'ls_model_type': 'chat', 'ls_temperature': 0.7}, 'parent_ids': ['62d57d40-f78b-4164-b605-06e64e20e462', '03ff2746-ab75-4258-86d7-aa727dd584ee']}\n",
      "{'event': 'on_chat_model_stream', 'data': {'chunk': AIMessageChunk(content='', additional_kwargs={'reasoning_content': ' So'}, response_metadata={}, id='run--b8123484-feb3-41f0-b757-fb0d3c7a7f0b')}, 'run_id': 'b8123484-feb3-41f0-b757-fb0d3c7a7f0b', 'name': 'ChatGroq', 'tags': ['seq:step:1'], 'metadata': {'thread_id': '5', 'langgraph_step': 1, 'langgraph_node': 'SuperBot', 'langgraph_triggers': ('branch:to:SuperBot',), 'langgraph_path': ('__pregel_pull', 'SuperBot'), 'langgraph_checkpoint_ns': 'SuperBot:b278b9ab-9e84-57fd-c6f1-041147194797', 'checkpoint_ns': 'SuperBot:b278b9ab-9e84-57fd-c6f1-041147194797', 'ls_provider': 'groq', 'ls_model_name': 'openai/gpt-oss-20b', 'ls_model_type': 'chat', 'ls_temperature': 0.7}, 'parent_ids': ['62d57d40-f78b-4164-b605-06e64e20e462', '03ff2746-ab75-4258-86d7-aa727dd584ee']}\n",
      "{'event': 'on_chat_model_stream', 'data': {'chunk': AIMessageChunk(content='', additional_kwargs={'reasoning_content': ' we'}, response_metadata={}, id='run--b8123484-feb3-41f0-b757-fb0d3c7a7f0b')}, 'run_id': 'b8123484-feb3-41f0-b757-fb0d3c7a7f0b', 'name': 'ChatGroq', 'tags': ['seq:step:1'], 'metadata': {'thread_id': '5', 'langgraph_step': 1, 'langgraph_node': 'SuperBot', 'langgraph_triggers': ('branch:to:SuperBot',), 'langgraph_path': ('__pregel_pull', 'SuperBot'), 'langgraph_checkpoint_ns': 'SuperBot:b278b9ab-9e84-57fd-c6f1-041147194797', 'checkpoint_ns': 'SuperBot:b278b9ab-9e84-57fd-c6f1-041147194797', 'ls_provider': 'groq', 'ls_model_name': 'openai/gpt-oss-20b', 'ls_model_type': 'chat', 'ls_temperature': 0.7}, 'parent_ids': ['62d57d40-f78b-4164-b605-06e64e20e462', '03ff2746-ab75-4258-86d7-aa727dd584ee']}\n",
      "{'event': 'on_chat_model_stream', 'data': {'chunk': AIMessageChunk(content='', additional_kwargs={'reasoning_content': ' can'}, response_metadata={}, id='run--b8123484-feb3-41f0-b757-fb0d3c7a7f0b')}, 'run_id': 'b8123484-feb3-41f0-b757-fb0d3c7a7f0b', 'name': 'ChatGroq', 'tags': ['seq:step:1'], 'metadata': {'thread_id': '5', 'langgraph_step': 1, 'langgraph_node': 'SuperBot', 'langgraph_triggers': ('branch:to:SuperBot',), 'langgraph_path': ('__pregel_pull', 'SuperBot'), 'langgraph_checkpoint_ns': 'SuperBot:b278b9ab-9e84-57fd-c6f1-041147194797', 'checkpoint_ns': 'SuperBot:b278b9ab-9e84-57fd-c6f1-041147194797', 'ls_provider': 'groq', 'ls_model_name': 'openai/gpt-oss-20b', 'ls_model_type': 'chat', 'ls_temperature': 0.7}, 'parent_ids': ['62d57d40-f78b-4164-b605-06e64e20e462', '03ff2746-ab75-4258-86d7-aa727dd584ee']}\n",
      "{'event': 'on_chat_model_stream', 'data': {'chunk': AIMessageChunk(content='', additional_kwargs={'reasoning_content': ' respond'}, response_metadata={}, id='run--b8123484-feb3-41f0-b757-fb0d3c7a7f0b')}, 'run_id': 'b8123484-feb3-41f0-b757-fb0d3c7a7f0b', 'name': 'ChatGroq', 'tags': ['seq:step:1'], 'metadata': {'thread_id': '5', 'langgraph_step': 1, 'langgraph_node': 'SuperBot', 'langgraph_triggers': ('branch:to:SuperBot',), 'langgraph_path': ('__pregel_pull', 'SuperBot'), 'langgraph_checkpoint_ns': 'SuperBot:b278b9ab-9e84-57fd-c6f1-041147194797', 'checkpoint_ns': 'SuperBot:b278b9ab-9e84-57fd-c6f1-041147194797', 'ls_provider': 'groq', 'ls_model_name': 'openai/gpt-oss-20b', 'ls_model_type': 'chat', 'ls_temperature': 0.7}, 'parent_ids': ['62d57d40-f78b-4164-b605-06e64e20e462', '03ff2746-ab75-4258-86d7-aa727dd584ee']}\n",
      "{'event': 'on_chat_model_stream', 'data': {'chunk': AIMessageChunk(content='', additional_kwargs={'reasoning_content': '.'}, response_metadata={}, id='run--b8123484-feb3-41f0-b757-fb0d3c7a7f0b')}, 'run_id': 'b8123484-feb3-41f0-b757-fb0d3c7a7f0b', 'name': 'ChatGroq', 'tags': ['seq:step:1'], 'metadata': {'thread_id': '5', 'langgraph_step': 1, 'langgraph_node': 'SuperBot', 'langgraph_triggers': ('branch:to:SuperBot',), 'langgraph_path': ('__pregel_pull', 'SuperBot'), 'langgraph_checkpoint_ns': 'SuperBot:b278b9ab-9e84-57fd-c6f1-041147194797', 'checkpoint_ns': 'SuperBot:b278b9ab-9e84-57fd-c6f1-041147194797', 'ls_provider': 'groq', 'ls_model_name': 'openai/gpt-oss-20b', 'ls_model_type': 'chat', 'ls_temperature': 0.7}, 'parent_ids': ['62d57d40-f78b-4164-b605-06e64e20e462', '03ff2746-ab75-4258-86d7-aa727dd584ee']}\n",
      "{'event': 'on_chat_model_stream', 'data': {'chunk': AIMessageChunk(content='', additional_kwargs={'reasoning_content': ' Should'}, response_metadata={}, id='run--b8123484-feb3-41f0-b757-fb0d3c7a7f0b')}, 'run_id': 'b8123484-feb3-41f0-b757-fb0d3c7a7f0b', 'name': 'ChatGroq', 'tags': ['seq:step:1'], 'metadata': {'thread_id': '5', 'langgraph_step': 1, 'langgraph_node': 'SuperBot', 'langgraph_triggers': ('branch:to:SuperBot',), 'langgraph_path': ('__pregel_pull', 'SuperBot'), 'langgraph_checkpoint_ns': 'SuperBot:b278b9ab-9e84-57fd-c6f1-041147194797', 'checkpoint_ns': 'SuperBot:b278b9ab-9e84-57fd-c6f1-041147194797', 'ls_provider': 'groq', 'ls_model_name': 'openai/gpt-oss-20b', 'ls_model_type': 'chat', 'ls_temperature': 0.7}, 'parent_ids': ['62d57d40-f78b-4164-b605-06e64e20e462', '03ff2746-ab75-4258-86d7-aa727dd584ee']}\n",
      "{'event': 'on_chat_model_stream', 'data': {'chunk': AIMessageChunk(content='', additional_kwargs={'reasoning_content': ' we'}, response_metadata={}, id='run--b8123484-feb3-41f0-b757-fb0d3c7a7f0b')}, 'run_id': 'b8123484-feb3-41f0-b757-fb0d3c7a7f0b', 'name': 'ChatGroq', 'tags': ['seq:step:1'], 'metadata': {'thread_id': '5', 'langgraph_step': 1, 'langgraph_node': 'SuperBot', 'langgraph_triggers': ('branch:to:SuperBot',), 'langgraph_path': ('__pregel_pull', 'SuperBot'), 'langgraph_checkpoint_ns': 'SuperBot:b278b9ab-9e84-57fd-c6f1-041147194797', 'checkpoint_ns': 'SuperBot:b278b9ab-9e84-57fd-c6f1-041147194797', 'ls_provider': 'groq', 'ls_model_name': 'openai/gpt-oss-20b', 'ls_model_type': 'chat', 'ls_temperature': 0.7}, 'parent_ids': ['62d57d40-f78b-4164-b605-06e64e20e462', '03ff2746-ab75-4258-86d7-aa727dd584ee']}\n",
      "{'event': 'on_chat_model_stream', 'data': {'chunk': AIMessageChunk(content='', additional_kwargs={'reasoning_content': ' ask'}, response_metadata={}, id='run--b8123484-feb3-41f0-b757-fb0d3c7a7f0b')}, 'run_id': 'b8123484-feb3-41f0-b757-fb0d3c7a7f0b', 'name': 'ChatGroq', 'tags': ['seq:step:1'], 'metadata': {'thread_id': '5', 'langgraph_step': 1, 'langgraph_node': 'SuperBot', 'langgraph_triggers': ('branch:to:SuperBot',), 'langgraph_path': ('__pregel_pull', 'SuperBot'), 'langgraph_checkpoint_ns': 'SuperBot:b278b9ab-9e84-57fd-c6f1-041147194797', 'checkpoint_ns': 'SuperBot:b278b9ab-9e84-57fd-c6f1-041147194797', 'ls_provider': 'groq', 'ls_model_name': 'openai/gpt-oss-20b', 'ls_model_type': 'chat', 'ls_temperature': 0.7}, 'parent_ids': ['62d57d40-f78b-4164-b605-06e64e20e462', '03ff2746-ab75-4258-86d7-aa727dd584ee']}\n",
      "{'event': 'on_chat_model_stream', 'data': {'chunk': AIMessageChunk(content='', additional_kwargs={'reasoning_content': ' what'}, response_metadata={}, id='run--b8123484-feb3-41f0-b757-fb0d3c7a7f0b')}, 'run_id': 'b8123484-feb3-41f0-b757-fb0d3c7a7f0b', 'name': 'ChatGroq', 'tags': ['seq:step:1'], 'metadata': {'thread_id': '5', 'langgraph_step': 1, 'langgraph_node': 'SuperBot', 'langgraph_triggers': ('branch:to:SuperBot',), 'langgraph_path': ('__pregel_pull', 'SuperBot'), 'langgraph_checkpoint_ns': 'SuperBot:b278b9ab-9e84-57fd-c6f1-041147194797', 'checkpoint_ns': 'SuperBot:b278b9ab-9e84-57fd-c6f1-041147194797', 'ls_provider': 'groq', 'ls_model_name': 'openai/gpt-oss-20b', 'ls_model_type': 'chat', 'ls_temperature': 0.7}, 'parent_ids': ['62d57d40-f78b-4164-b605-06e64e20e462', '03ff2746-ab75-4258-86d7-aa727dd584ee']}\n",
      "{'event': 'on_chat_model_stream', 'data': {'chunk': AIMessageChunk(content='', additional_kwargs={'reasoning_content': \" they'd\"}, response_metadata={}, id='run--b8123484-feb3-41f0-b757-fb0d3c7a7f0b')}, 'run_id': 'b8123484-feb3-41f0-b757-fb0d3c7a7f0b', 'name': 'ChatGroq', 'tags': ['seq:step:1'], 'metadata': {'thread_id': '5', 'langgraph_step': 1, 'langgraph_node': 'SuperBot', 'langgraph_triggers': ('branch:to:SuperBot',), 'langgraph_path': ('__pregel_pull', 'SuperBot'), 'langgraph_checkpoint_ns': 'SuperBot:b278b9ab-9e84-57fd-c6f1-041147194797', 'checkpoint_ns': 'SuperBot:b278b9ab-9e84-57fd-c6f1-041147194797', 'ls_provider': 'groq', 'ls_model_name': 'openai/gpt-oss-20b', 'ls_model_type': 'chat', 'ls_temperature': 0.7}, 'parent_ids': ['62d57d40-f78b-4164-b605-06e64e20e462', '03ff2746-ab75-4258-86d7-aa727dd584ee']}\n",
      "{'event': 'on_chat_model_stream', 'data': {'chunk': AIMessageChunk(content='', additional_kwargs={'reasoning_content': ' like'}, response_metadata={}, id='run--b8123484-feb3-41f0-b757-fb0d3c7a7f0b')}, 'run_id': 'b8123484-feb3-41f0-b757-fb0d3c7a7f0b', 'name': 'ChatGroq', 'tags': ['seq:step:1'], 'metadata': {'thread_id': '5', 'langgraph_step': 1, 'langgraph_node': 'SuperBot', 'langgraph_triggers': ('branch:to:SuperBot',), 'langgraph_path': ('__pregel_pull', 'SuperBot'), 'langgraph_checkpoint_ns': 'SuperBot:b278b9ab-9e84-57fd-c6f1-041147194797', 'checkpoint_ns': 'SuperBot:b278b9ab-9e84-57fd-c6f1-041147194797', 'ls_provider': 'groq', 'ls_model_name': 'openai/gpt-oss-20b', 'ls_model_type': 'chat', 'ls_temperature': 0.7}, 'parent_ids': ['62d57d40-f78b-4164-b605-06e64e20e462', '03ff2746-ab75-4258-86d7-aa727dd584ee']}\n",
      "{'event': 'on_chat_model_stream', 'data': {'chunk': AIMessageChunk(content='', additional_kwargs={'reasoning_content': ' to'}, response_metadata={}, id='run--b8123484-feb3-41f0-b757-fb0d3c7a7f0b')}, 'run_id': 'b8123484-feb3-41f0-b757-fb0d3c7a7f0b', 'name': 'ChatGroq', 'tags': ['seq:step:1'], 'metadata': {'thread_id': '5', 'langgraph_step': 1, 'langgraph_node': 'SuperBot', 'langgraph_triggers': ('branch:to:SuperBot',), 'langgraph_path': ('__pregel_pull', 'SuperBot'), 'langgraph_checkpoint_ns': 'SuperBot:b278b9ab-9e84-57fd-c6f1-041147194797', 'checkpoint_ns': 'SuperBot:b278b9ab-9e84-57fd-c6f1-041147194797', 'ls_provider': 'groq', 'ls_model_name': 'openai/gpt-oss-20b', 'ls_model_type': 'chat', 'ls_temperature': 0.7}, 'parent_ids': ['62d57d40-f78b-4164-b605-06e64e20e462', '03ff2746-ab75-4258-86d7-aa727dd584ee']}\n",
      "{'event': 'on_chat_model_stream', 'data': {'chunk': AIMessageChunk(content='', additional_kwargs={'reasoning_content': ' talk'}, response_metadata={}, id='run--b8123484-feb3-41f0-b757-fb0d3c7a7f0b')}, 'run_id': 'b8123484-feb3-41f0-b757-fb0d3c7a7f0b', 'name': 'ChatGroq', 'tags': ['seq:step:1'], 'metadata': {'thread_id': '5', 'langgraph_step': 1, 'langgraph_node': 'SuperBot', 'langgraph_triggers': ('branch:to:SuperBot',), 'langgraph_path': ('__pregel_pull', 'SuperBot'), 'langgraph_checkpoint_ns': 'SuperBot:b278b9ab-9e84-57fd-c6f1-041147194797', 'checkpoint_ns': 'SuperBot:b278b9ab-9e84-57fd-c6f1-041147194797', 'ls_provider': 'groq', 'ls_model_name': 'openai/gpt-oss-20b', 'ls_model_type': 'chat', 'ls_temperature': 0.7}, 'parent_ids': ['62d57d40-f78b-4164-b605-06e64e20e462', '03ff2746-ab75-4258-86d7-aa727dd584ee']}\n",
      "{'event': 'on_chat_model_stream', 'data': {'chunk': AIMessageChunk(content='', additional_kwargs={'reasoning_content': ' about'}, response_metadata={}, id='run--b8123484-feb3-41f0-b757-fb0d3c7a7f0b')}, 'run_id': 'b8123484-feb3-41f0-b757-fb0d3c7a7f0b', 'name': 'ChatGroq', 'tags': ['seq:step:1'], 'metadata': {'thread_id': '5', 'langgraph_step': 1, 'langgraph_node': 'SuperBot', 'langgraph_triggers': ('branch:to:SuperBot',), 'langgraph_path': ('__pregel_pull', 'SuperBot'), 'langgraph_checkpoint_ns': 'SuperBot:b278b9ab-9e84-57fd-c6f1-041147194797', 'checkpoint_ns': 'SuperBot:b278b9ab-9e84-57fd-c6f1-041147194797', 'ls_provider': 'groq', 'ls_model_name': 'openai/gpt-oss-20b', 'ls_model_type': 'chat', 'ls_temperature': 0.7}, 'parent_ids': ['62d57d40-f78b-4164-b605-06e64e20e462', '03ff2746-ab75-4258-86d7-aa727dd584ee']}\n",
      "{'event': 'on_chat_model_stream', 'data': {'chunk': AIMessageChunk(content='', additional_kwargs={'reasoning_content': '?'}, response_metadata={}, id='run--b8123484-feb3-41f0-b757-fb0d3c7a7f0b')}, 'run_id': 'b8123484-feb3-41f0-b757-fb0d3c7a7f0b', 'name': 'ChatGroq', 'tags': ['seq:step:1'], 'metadata': {'thread_id': '5', 'langgraph_step': 1, 'langgraph_node': 'SuperBot', 'langgraph_triggers': ('branch:to:SuperBot',), 'langgraph_path': ('__pregel_pull', 'SuperBot'), 'langgraph_checkpoint_ns': 'SuperBot:b278b9ab-9e84-57fd-c6f1-041147194797', 'checkpoint_ns': 'SuperBot:b278b9ab-9e84-57fd-c6f1-041147194797', 'ls_provider': 'groq', 'ls_model_name': 'openai/gpt-oss-20b', 'ls_model_type': 'chat', 'ls_temperature': 0.7}, 'parent_ids': ['62d57d40-f78b-4164-b605-06e64e20e462', '03ff2746-ab75-4258-86d7-aa727dd584ee']}\n",
      "{'event': 'on_chat_model_stream', 'data': {'chunk': AIMessageChunk(content='', additional_kwargs={'reasoning_content': ' We'}, response_metadata={}, id='run--b8123484-feb3-41f0-b757-fb0d3c7a7f0b')}, 'run_id': 'b8123484-feb3-41f0-b757-fb0d3c7a7f0b', 'name': 'ChatGroq', 'tags': ['seq:step:1'], 'metadata': {'thread_id': '5', 'langgraph_step': 1, 'langgraph_node': 'SuperBot', 'langgraph_triggers': ('branch:to:SuperBot',), 'langgraph_path': ('__pregel_pull', 'SuperBot'), 'langgraph_checkpoint_ns': 'SuperBot:b278b9ab-9e84-57fd-c6f1-041147194797', 'checkpoint_ns': 'SuperBot:b278b9ab-9e84-57fd-c6f1-041147194797', 'ls_provider': 'groq', 'ls_model_name': 'openai/gpt-oss-20b', 'ls_model_type': 'chat', 'ls_temperature': 0.7}, 'parent_ids': ['62d57d40-f78b-4164-b605-06e64e20e462', '03ff2746-ab75-4258-86d7-aa727dd584ee']}\n",
      "{'event': 'on_chat_model_stream', 'data': {'chunk': AIMessageChunk(content='', additional_kwargs={'reasoning_content': ' can'}, response_metadata={}, id='run--b8123484-feb3-41f0-b757-fb0d3c7a7f0b')}, 'run_id': 'b8123484-feb3-41f0-b757-fb0d3c7a7f0b', 'name': 'ChatGroq', 'tags': ['seq:step:1'], 'metadata': {'thread_id': '5', 'langgraph_step': 1, 'langgraph_node': 'SuperBot', 'langgraph_triggers': ('branch:to:SuperBot',), 'langgraph_path': ('__pregel_pull', 'SuperBot'), 'langgraph_checkpoint_ns': 'SuperBot:b278b9ab-9e84-57fd-c6f1-041147194797', 'checkpoint_ns': 'SuperBot:b278b9ab-9e84-57fd-c6f1-041147194797', 'ls_provider': 'groq', 'ls_model_name': 'openai/gpt-oss-20b', 'ls_model_type': 'chat', 'ls_temperature': 0.7}, 'parent_ids': ['62d57d40-f78b-4164-b605-06e64e20e462', '03ff2746-ab75-4258-86d7-aa727dd584ee']}\n",
      "{'event': 'on_chat_model_stream', 'data': {'chunk': AIMessageChunk(content='', additional_kwargs={'reasoning_content': ' be'}, response_metadata={}, id='run--b8123484-feb3-41f0-b757-fb0d3c7a7f0b')}, 'run_id': 'b8123484-feb3-41f0-b757-fb0d3c7a7f0b', 'name': 'ChatGroq', 'tags': ['seq:step:1'], 'metadata': {'thread_id': '5', 'langgraph_step': 1, 'langgraph_node': 'SuperBot', 'langgraph_triggers': ('branch:to:SuperBot',), 'langgraph_path': ('__pregel_pull', 'SuperBot'), 'langgraph_checkpoint_ns': 'SuperBot:b278b9ab-9e84-57fd-c6f1-041147194797', 'checkpoint_ns': 'SuperBot:b278b9ab-9e84-57fd-c6f1-041147194797', 'ls_provider': 'groq', 'ls_model_name': 'openai/gpt-oss-20b', 'ls_model_type': 'chat', 'ls_temperature': 0.7}, 'parent_ids': ['62d57d40-f78b-4164-b605-06e64e20e462', '03ff2746-ab75-4258-86d7-aa727dd584ee']}\n",
      "{'event': 'on_chat_model_stream', 'data': {'chunk': AIMessageChunk(content='', additional_kwargs={'reasoning_content': ' friendly'}, response_metadata={}, id='run--b8123484-feb3-41f0-b757-fb0d3c7a7f0b')}, 'run_id': 'b8123484-feb3-41f0-b757-fb0d3c7a7f0b', 'name': 'ChatGroq', 'tags': ['seq:step:1'], 'metadata': {'thread_id': '5', 'langgraph_step': 1, 'langgraph_node': 'SuperBot', 'langgraph_triggers': ('branch:to:SuperBot',), 'langgraph_path': ('__pregel_pull', 'SuperBot'), 'langgraph_checkpoint_ns': 'SuperBot:b278b9ab-9e84-57fd-c6f1-041147194797', 'checkpoint_ns': 'SuperBot:b278b9ab-9e84-57fd-c6f1-041147194797', 'ls_provider': 'groq', 'ls_model_name': 'openai/gpt-oss-20b', 'ls_model_type': 'chat', 'ls_temperature': 0.7}, 'parent_ids': ['62d57d40-f78b-4164-b605-06e64e20e462', '03ff2746-ab75-4258-86d7-aa727dd584ee']}\n",
      "{'event': 'on_chat_model_stream', 'data': {'chunk': AIMessageChunk(content='', additional_kwargs={'reasoning_content': '.'}, response_metadata={}, id='run--b8123484-feb3-41f0-b757-fb0d3c7a7f0b')}, 'run_id': 'b8123484-feb3-41f0-b757-fb0d3c7a7f0b', 'name': 'ChatGroq', 'tags': ['seq:step:1'], 'metadata': {'thread_id': '5', 'langgraph_step': 1, 'langgraph_node': 'SuperBot', 'langgraph_triggers': ('branch:to:SuperBot',), 'langgraph_path': ('__pregel_pull', 'SuperBot'), 'langgraph_checkpoint_ns': 'SuperBot:b278b9ab-9e84-57fd-c6f1-041147194797', 'checkpoint_ns': 'SuperBot:b278b9ab-9e84-57fd-c6f1-041147194797', 'ls_provider': 'groq', 'ls_model_name': 'openai/gpt-oss-20b', 'ls_model_type': 'chat', 'ls_temperature': 0.7}, 'parent_ids': ['62d57d40-f78b-4164-b605-06e64e20e462', '03ff2746-ab75-4258-86d7-aa727dd584ee']}\n",
      "{'event': 'on_chat_model_stream', 'data': {'chunk': AIMessageChunk(content='', additional_kwargs={'reasoning_content': ' Probably'}, response_metadata={}, id='run--b8123484-feb3-41f0-b757-fb0d3c7a7f0b')}, 'run_id': 'b8123484-feb3-41f0-b757-fb0d3c7a7f0b', 'name': 'ChatGroq', 'tags': ['seq:step:1'], 'metadata': {'thread_id': '5', 'langgraph_step': 1, 'langgraph_node': 'SuperBot', 'langgraph_triggers': ('branch:to:SuperBot',), 'langgraph_path': ('__pregel_pull', 'SuperBot'), 'langgraph_checkpoint_ns': 'SuperBot:b278b9ab-9e84-57fd-c6f1-041147194797', 'checkpoint_ns': 'SuperBot:b278b9ab-9e84-57fd-c6f1-041147194797', 'ls_provider': 'groq', 'ls_model_name': 'openai/gpt-oss-20b', 'ls_model_type': 'chat', 'ls_temperature': 0.7}, 'parent_ids': ['62d57d40-f78b-4164-b605-06e64e20e462', '03ff2746-ab75-4258-86d7-aa727dd584ee']}\n",
      "{'event': 'on_chat_model_stream', 'data': {'chunk': AIMessageChunk(content='', additional_kwargs={'reasoning_content': ' respond'}, response_metadata={}, id='run--b8123484-feb3-41f0-b757-fb0d3c7a7f0b')}, 'run_id': 'b8123484-feb3-41f0-b757-fb0d3c7a7f0b', 'name': 'ChatGroq', 'tags': ['seq:step:1'], 'metadata': {'thread_id': '5', 'langgraph_step': 1, 'langgraph_node': 'SuperBot', 'langgraph_triggers': ('branch:to:SuperBot',), 'langgraph_path': ('__pregel_pull', 'SuperBot'), 'langgraph_checkpoint_ns': 'SuperBot:b278b9ab-9e84-57fd-c6f1-041147194797', 'checkpoint_ns': 'SuperBot:b278b9ab-9e84-57fd-c6f1-041147194797', 'ls_provider': 'groq', 'ls_model_name': 'openai/gpt-oss-20b', 'ls_model_type': 'chat', 'ls_temperature': 0.7}, 'parent_ids': ['62d57d40-f78b-4164-b605-06e64e20e462', '03ff2746-ab75-4258-86d7-aa727dd584ee']}\n",
      "{'event': 'on_chat_model_stream', 'data': {'chunk': AIMessageChunk(content='', additional_kwargs={'reasoning_content': ' with'}, response_metadata={}, id='run--b8123484-feb3-41f0-b757-fb0d3c7a7f0b')}, 'run_id': 'b8123484-feb3-41f0-b757-fb0d3c7a7f0b', 'name': 'ChatGroq', 'tags': ['seq:step:1'], 'metadata': {'thread_id': '5', 'langgraph_step': 1, 'langgraph_node': 'SuperBot', 'langgraph_triggers': ('branch:to:SuperBot',), 'langgraph_path': ('__pregel_pull', 'SuperBot'), 'langgraph_checkpoint_ns': 'SuperBot:b278b9ab-9e84-57fd-c6f1-041147194797', 'checkpoint_ns': 'SuperBot:b278b9ab-9e84-57fd-c6f1-041147194797', 'ls_provider': 'groq', 'ls_model_name': 'openai/gpt-oss-20b', 'ls_model_type': 'chat', 'ls_temperature': 0.7}, 'parent_ids': ['62d57d40-f78b-4164-b605-06e64e20e462', '03ff2746-ab75-4258-86d7-aa727dd584ee']}\n",
      "{'event': 'on_chat_model_stream', 'data': {'chunk': AIMessageChunk(content='', additional_kwargs={'reasoning_content': ' greeting'}, response_metadata={}, id='run--b8123484-feb3-41f0-b757-fb0d3c7a7f0b')}, 'run_id': 'b8123484-feb3-41f0-b757-fb0d3c7a7f0b', 'name': 'ChatGroq', 'tags': ['seq:step:1'], 'metadata': {'thread_id': '5', 'langgraph_step': 1, 'langgraph_node': 'SuperBot', 'langgraph_triggers': ('branch:to:SuperBot',), 'langgraph_path': ('__pregel_pull', 'SuperBot'), 'langgraph_checkpoint_ns': 'SuperBot:b278b9ab-9e84-57fd-c6f1-041147194797', 'checkpoint_ns': 'SuperBot:b278b9ab-9e84-57fd-c6f1-041147194797', 'ls_provider': 'groq', 'ls_model_name': 'openai/gpt-oss-20b', 'ls_model_type': 'chat', 'ls_temperature': 0.7}, 'parent_ids': ['62d57d40-f78b-4164-b605-06e64e20e462', '03ff2746-ab75-4258-86d7-aa727dd584ee']}\n",
      "{'event': 'on_chat_model_stream', 'data': {'chunk': AIMessageChunk(content='', additional_kwargs={'reasoning_content': ' and'}, response_metadata={}, id='run--b8123484-feb3-41f0-b757-fb0d3c7a7f0b')}, 'run_id': 'b8123484-feb3-41f0-b757-fb0d3c7a7f0b', 'name': 'ChatGroq', 'tags': ['seq:step:1'], 'metadata': {'thread_id': '5', 'langgraph_step': 1, 'langgraph_node': 'SuperBot', 'langgraph_triggers': ('branch:to:SuperBot',), 'langgraph_path': ('__pregel_pull', 'SuperBot'), 'langgraph_checkpoint_ns': 'SuperBot:b278b9ab-9e84-57fd-c6f1-041147194797', 'checkpoint_ns': 'SuperBot:b278b9ab-9e84-57fd-c6f1-041147194797', 'ls_provider': 'groq', 'ls_model_name': 'openai/gpt-oss-20b', 'ls_model_type': 'chat', 'ls_temperature': 0.7}, 'parent_ids': ['62d57d40-f78b-4164-b605-06e64e20e462', '03ff2746-ab75-4258-86d7-aa727dd584ee']}\n",
      "{'event': 'on_chat_model_stream', 'data': {'chunk': AIMessageChunk(content='', additional_kwargs={'reasoning_content': ' ask'}, response_metadata={}, id='run--b8123484-feb3-41f0-b757-fb0d3c7a7f0b')}, 'run_id': 'b8123484-feb3-41f0-b757-fb0d3c7a7f0b', 'name': 'ChatGroq', 'tags': ['seq:step:1'], 'metadata': {'thread_id': '5', 'langgraph_step': 1, 'langgraph_node': 'SuperBot', 'langgraph_triggers': ('branch:to:SuperBot',), 'langgraph_path': ('__pregel_pull', 'SuperBot'), 'langgraph_checkpoint_ns': 'SuperBot:b278b9ab-9e84-57fd-c6f1-041147194797', 'checkpoint_ns': 'SuperBot:b278b9ab-9e84-57fd-c6f1-041147194797', 'ls_provider': 'groq', 'ls_model_name': 'openai/gpt-oss-20b', 'ls_model_type': 'chat', 'ls_temperature': 0.7}, 'parent_ids': ['62d57d40-f78b-4164-b605-06e64e20e462', '03ff2746-ab75-4258-86d7-aa727dd584ee']}\n",
      "{'event': 'on_chat_model_stream', 'data': {'chunk': AIMessageChunk(content='', additional_kwargs={'reasoning_content': ' about'}, response_metadata={}, id='run--b8123484-feb3-41f0-b757-fb0d3c7a7f0b')}, 'run_id': 'b8123484-feb3-41f0-b757-fb0d3c7a7f0b', 'name': 'ChatGroq', 'tags': ['seq:step:1'], 'metadata': {'thread_id': '5', 'langgraph_step': 1, 'langgraph_node': 'SuperBot', 'langgraph_triggers': ('branch:to:SuperBot',), 'langgraph_path': ('__pregel_pull', 'SuperBot'), 'langgraph_checkpoint_ns': 'SuperBot:b278b9ab-9e84-57fd-c6f1-041147194797', 'checkpoint_ns': 'SuperBot:b278b9ab-9e84-57fd-c6f1-041147194797', 'ls_provider': 'groq', 'ls_model_name': 'openai/gpt-oss-20b', 'ls_model_type': 'chat', 'ls_temperature': 0.7}, 'parent_ids': ['62d57d40-f78b-4164-b605-06e64e20e462', '03ff2746-ab75-4258-86d7-aa727dd584ee']}\n",
      "{'event': 'on_chat_model_stream', 'data': {'chunk': AIMessageChunk(content='', additional_kwargs={'reasoning_content': ' singing'}, response_metadata={}, id='run--b8123484-feb3-41f0-b757-fb0d3c7a7f0b')}, 'run_id': 'b8123484-feb3-41f0-b757-fb0d3c7a7f0b', 'name': 'ChatGroq', 'tags': ['seq:step:1'], 'metadata': {'thread_id': '5', 'langgraph_step': 1, 'langgraph_node': 'SuperBot', 'langgraph_triggers': ('branch:to:SuperBot',), 'langgraph_path': ('__pregel_pull', 'SuperBot'), 'langgraph_checkpoint_ns': 'SuperBot:b278b9ab-9e84-57fd-c6f1-041147194797', 'checkpoint_ns': 'SuperBot:b278b9ab-9e84-57fd-c6f1-041147194797', 'ls_provider': 'groq', 'ls_model_name': 'openai/gpt-oss-20b', 'ls_model_type': 'chat', 'ls_temperature': 0.7}, 'parent_ids': ['62d57d40-f78b-4164-b605-06e64e20e462', '03ff2746-ab75-4258-86d7-aa727dd584ee']}\n",
      "{'event': 'on_chat_model_stream', 'data': {'chunk': AIMessageChunk(content='', additional_kwargs={'reasoning_content': '.'}, response_metadata={}, id='run--b8123484-feb3-41f0-b757-fb0d3c7a7f0b')}, 'run_id': 'b8123484-feb3-41f0-b757-fb0d3c7a7f0b', 'name': 'ChatGroq', 'tags': ['seq:step:1'], 'metadata': {'thread_id': '5', 'langgraph_step': 1, 'langgraph_node': 'SuperBot', 'langgraph_triggers': ('branch:to:SuperBot',), 'langgraph_path': ('__pregel_pull', 'SuperBot'), 'langgraph_checkpoint_ns': 'SuperBot:b278b9ab-9e84-57fd-c6f1-041147194797', 'checkpoint_ns': 'SuperBot:b278b9ab-9e84-57fd-c6f1-041147194797', 'ls_provider': 'groq', 'ls_model_name': 'openai/gpt-oss-20b', 'ls_model_type': 'chat', 'ls_temperature': 0.7}, 'parent_ids': ['62d57d40-f78b-4164-b605-06e64e20e462', '03ff2746-ab75-4258-86d7-aa727dd584ee']}\n",
      "{'event': 'on_chat_model_stream', 'data': {'chunk': AIMessageChunk(content='Hi', additional_kwargs={}, response_metadata={}, id='run--b8123484-feb3-41f0-b757-fb0d3c7a7f0b')}, 'run_id': 'b8123484-feb3-41f0-b757-fb0d3c7a7f0b', 'name': 'ChatGroq', 'tags': ['seq:step:1'], 'metadata': {'thread_id': '5', 'langgraph_step': 1, 'langgraph_node': 'SuperBot', 'langgraph_triggers': ('branch:to:SuperBot',), 'langgraph_path': ('__pregel_pull', 'SuperBot'), 'langgraph_checkpoint_ns': 'SuperBot:b278b9ab-9e84-57fd-c6f1-041147194797', 'checkpoint_ns': 'SuperBot:b278b9ab-9e84-57fd-c6f1-041147194797', 'ls_provider': 'groq', 'ls_model_name': 'openai/gpt-oss-20b', 'ls_model_type': 'chat', 'ls_temperature': 0.7}, 'parent_ids': ['62d57d40-f78b-4164-b605-06e64e20e462', '03ff2746-ab75-4258-86d7-aa727dd584ee']}\n",
      "{'event': 'on_chat_model_stream', 'data': {'chunk': AIMessageChunk(content=' Nancy', additional_kwargs={}, response_metadata={}, id='run--b8123484-feb3-41f0-b757-fb0d3c7a7f0b')}, 'run_id': 'b8123484-feb3-41f0-b757-fb0d3c7a7f0b', 'name': 'ChatGroq', 'tags': ['seq:step:1'], 'metadata': {'thread_id': '5', 'langgraph_step': 1, 'langgraph_node': 'SuperBot', 'langgraph_triggers': ('branch:to:SuperBot',), 'langgraph_path': ('__pregel_pull', 'SuperBot'), 'langgraph_checkpoint_ns': 'SuperBot:b278b9ab-9e84-57fd-c6f1-041147194797', 'checkpoint_ns': 'SuperBot:b278b9ab-9e84-57fd-c6f1-041147194797', 'ls_provider': 'groq', 'ls_model_name': 'openai/gpt-oss-20b', 'ls_model_type': 'chat', 'ls_temperature': 0.7}, 'parent_ids': ['62d57d40-f78b-4164-b605-06e64e20e462', '03ff2746-ab75-4258-86d7-aa727dd584ee']}\n",
      "{'event': 'on_chat_model_stream', 'data': {'chunk': AIMessageChunk(content='!', additional_kwargs={}, response_metadata={}, id='run--b8123484-feb3-41f0-b757-fb0d3c7a7f0b')}, 'run_id': 'b8123484-feb3-41f0-b757-fb0d3c7a7f0b', 'name': 'ChatGroq', 'tags': ['seq:step:1'], 'metadata': {'thread_id': '5', 'langgraph_step': 1, 'langgraph_node': 'SuperBot', 'langgraph_triggers': ('branch:to:SuperBot',), 'langgraph_path': ('__pregel_pull', 'SuperBot'), 'langgraph_checkpoint_ns': 'SuperBot:b278b9ab-9e84-57fd-c6f1-041147194797', 'checkpoint_ns': 'SuperBot:b278b9ab-9e84-57fd-c6f1-041147194797', 'ls_provider': 'groq', 'ls_model_name': 'openai/gpt-oss-20b', 'ls_model_type': 'chat', 'ls_temperature': 0.7}, 'parent_ids': ['62d57d40-f78b-4164-b605-06e64e20e462', '03ff2746-ab75-4258-86d7-aa727dd584ee']}\n",
      "{'event': 'on_chat_model_stream', 'data': {'chunk': AIMessageChunk(content=' 🎶', additional_kwargs={}, response_metadata={}, id='run--b8123484-feb3-41f0-b757-fb0d3c7a7f0b')}, 'run_id': 'b8123484-feb3-41f0-b757-fb0d3c7a7f0b', 'name': 'ChatGroq', 'tags': ['seq:step:1'], 'metadata': {'thread_id': '5', 'langgraph_step': 1, 'langgraph_node': 'SuperBot', 'langgraph_triggers': ('branch:to:SuperBot',), 'langgraph_path': ('__pregel_pull', 'SuperBot'), 'langgraph_checkpoint_ns': 'SuperBot:b278b9ab-9e84-57fd-c6f1-041147194797', 'checkpoint_ns': 'SuperBot:b278b9ab-9e84-57fd-c6f1-041147194797', 'ls_provider': 'groq', 'ls_model_name': 'openai/gpt-oss-20b', 'ls_model_type': 'chat', 'ls_temperature': 0.7}, 'parent_ids': ['62d57d40-f78b-4164-b605-06e64e20e462', '03ff2746-ab75-4258-86d7-aa727dd584ee']}\n",
      "{'event': 'on_chat_model_stream', 'data': {'chunk': AIMessageChunk(content=' It', additional_kwargs={}, response_metadata={}, id='run--b8123484-feb3-41f0-b757-fb0d3c7a7f0b')}, 'run_id': 'b8123484-feb3-41f0-b757-fb0d3c7a7f0b', 'name': 'ChatGroq', 'tags': ['seq:step:1'], 'metadata': {'thread_id': '5', 'langgraph_step': 1, 'langgraph_node': 'SuperBot', 'langgraph_triggers': ('branch:to:SuperBot',), 'langgraph_path': ('__pregel_pull', 'SuperBot'), 'langgraph_checkpoint_ns': 'SuperBot:b278b9ab-9e84-57fd-c6f1-041147194797', 'checkpoint_ns': 'SuperBot:b278b9ab-9e84-57fd-c6f1-041147194797', 'ls_provider': 'groq', 'ls_model_name': 'openai/gpt-oss-20b', 'ls_model_type': 'chat', 'ls_temperature': 0.7}, 'parent_ids': ['62d57d40-f78b-4164-b605-06e64e20e462', '03ff2746-ab75-4258-86d7-aa727dd584ee']}\n",
      "{'event': 'on_chat_model_stream', 'data': {'chunk': AIMessageChunk(content='’s', additional_kwargs={}, response_metadata={}, id='run--b8123484-feb3-41f0-b757-fb0d3c7a7f0b')}, 'run_id': 'b8123484-feb3-41f0-b757-fb0d3c7a7f0b', 'name': 'ChatGroq', 'tags': ['seq:step:1'], 'metadata': {'thread_id': '5', 'langgraph_step': 1, 'langgraph_node': 'SuperBot', 'langgraph_triggers': ('branch:to:SuperBot',), 'langgraph_path': ('__pregel_pull', 'SuperBot'), 'langgraph_checkpoint_ns': 'SuperBot:b278b9ab-9e84-57fd-c6f1-041147194797', 'checkpoint_ns': 'SuperBot:b278b9ab-9e84-57fd-c6f1-041147194797', 'ls_provider': 'groq', 'ls_model_name': 'openai/gpt-oss-20b', 'ls_model_type': 'chat', 'ls_temperature': 0.7}, 'parent_ids': ['62d57d40-f78b-4164-b605-06e64e20e462', '03ff2746-ab75-4258-86d7-aa727dd584ee']}\n",
      "{'event': 'on_chat_model_stream', 'data': {'chunk': AIMessageChunk(content=' great', additional_kwargs={}, response_metadata={}, id='run--b8123484-feb3-41f0-b757-fb0d3c7a7f0b')}, 'run_id': 'b8123484-feb3-41f0-b757-fb0d3c7a7f0b', 'name': 'ChatGroq', 'tags': ['seq:step:1'], 'metadata': {'thread_id': '5', 'langgraph_step': 1, 'langgraph_node': 'SuperBot', 'langgraph_triggers': ('branch:to:SuperBot',), 'langgraph_path': ('__pregel_pull', 'SuperBot'), 'langgraph_checkpoint_ns': 'SuperBot:b278b9ab-9e84-57fd-c6f1-041147194797', 'checkpoint_ns': 'SuperBot:b278b9ab-9e84-57fd-c6f1-041147194797', 'ls_provider': 'groq', 'ls_model_name': 'openai/gpt-oss-20b', 'ls_model_type': 'chat', 'ls_temperature': 0.7}, 'parent_ids': ['62d57d40-f78b-4164-b605-06e64e20e462', '03ff2746-ab75-4258-86d7-aa727dd584ee']}\n",
      "{'event': 'on_chat_model_stream', 'data': {'chunk': AIMessageChunk(content=' to', additional_kwargs={}, response_metadata={}, id='run--b8123484-feb3-41f0-b757-fb0d3c7a7f0b')}, 'run_id': 'b8123484-feb3-41f0-b757-fb0d3c7a7f0b', 'name': 'ChatGroq', 'tags': ['seq:step:1'], 'metadata': {'thread_id': '5', 'langgraph_step': 1, 'langgraph_node': 'SuperBot', 'langgraph_triggers': ('branch:to:SuperBot',), 'langgraph_path': ('__pregel_pull', 'SuperBot'), 'langgraph_checkpoint_ns': 'SuperBot:b278b9ab-9e84-57fd-c6f1-041147194797', 'checkpoint_ns': 'SuperBot:b278b9ab-9e84-57fd-c6f1-041147194797', 'ls_provider': 'groq', 'ls_model_name': 'openai/gpt-oss-20b', 'ls_model_type': 'chat', 'ls_temperature': 0.7}, 'parent_ids': ['62d57d40-f78b-4164-b605-06e64e20e462', '03ff2746-ab75-4258-86d7-aa727dd584ee']}\n",
      "{'event': 'on_chat_model_stream', 'data': {'chunk': AIMessageChunk(content=' meet', additional_kwargs={}, response_metadata={}, id='run--b8123484-feb3-41f0-b757-fb0d3c7a7f0b')}, 'run_id': 'b8123484-feb3-41f0-b757-fb0d3c7a7f0b', 'name': 'ChatGroq', 'tags': ['seq:step:1'], 'metadata': {'thread_id': '5', 'langgraph_step': 1, 'langgraph_node': 'SuperBot', 'langgraph_triggers': ('branch:to:SuperBot',), 'langgraph_path': ('__pregel_pull', 'SuperBot'), 'langgraph_checkpoint_ns': 'SuperBot:b278b9ab-9e84-57fd-c6f1-041147194797', 'checkpoint_ns': 'SuperBot:b278b9ab-9e84-57fd-c6f1-041147194797', 'ls_provider': 'groq', 'ls_model_name': 'openai/gpt-oss-20b', 'ls_model_type': 'chat', 'ls_temperature': 0.7}, 'parent_ids': ['62d57d40-f78b-4164-b605-06e64e20e462', '03ff2746-ab75-4258-86d7-aa727dd584ee']}\n",
      "{'event': 'on_chat_model_stream', 'data': {'chunk': AIMessageChunk(content=' a', additional_kwargs={}, response_metadata={}, id='run--b8123484-feb3-41f0-b757-fb0d3c7a7f0b')}, 'run_id': 'b8123484-feb3-41f0-b757-fb0d3c7a7f0b', 'name': 'ChatGroq', 'tags': ['seq:step:1'], 'metadata': {'thread_id': '5', 'langgraph_step': 1, 'langgraph_node': 'SuperBot', 'langgraph_triggers': ('branch:to:SuperBot',), 'langgraph_path': ('__pregel_pull', 'SuperBot'), 'langgraph_checkpoint_ns': 'SuperBot:b278b9ab-9e84-57fd-c6f1-041147194797', 'checkpoint_ns': 'SuperBot:b278b9ab-9e84-57fd-c6f1-041147194797', 'ls_provider': 'groq', 'ls_model_name': 'openai/gpt-oss-20b', 'ls_model_type': 'chat', 'ls_temperature': 0.7}, 'parent_ids': ['62d57d40-f78b-4164-b605-06e64e20e462', '03ff2746-ab75-4258-86d7-aa727dd584ee']}\n",
      "{'event': 'on_chat_model_stream', 'data': {'chunk': AIMessageChunk(content=' fellow', additional_kwargs={}, response_metadata={}, id='run--b8123484-feb3-41f0-b757-fb0d3c7a7f0b')}, 'run_id': 'b8123484-feb3-41f0-b757-fb0d3c7a7f0b', 'name': 'ChatGroq', 'tags': ['seq:step:1'], 'metadata': {'thread_id': '5', 'langgraph_step': 1, 'langgraph_node': 'SuperBot', 'langgraph_triggers': ('branch:to:SuperBot',), 'langgraph_path': ('__pregel_pull', 'SuperBot'), 'langgraph_checkpoint_ns': 'SuperBot:b278b9ab-9e84-57fd-c6f1-041147194797', 'checkpoint_ns': 'SuperBot:b278b9ab-9e84-57fd-c6f1-041147194797', 'ls_provider': 'groq', 'ls_model_name': 'openai/gpt-oss-20b', 'ls_model_type': 'chat', 'ls_temperature': 0.7}, 'parent_ids': ['62d57d40-f78b-4164-b605-06e64e20e462', '03ff2746-ab75-4258-86d7-aa727dd584ee']}\n",
      "{'event': 'on_chat_model_stream', 'data': {'chunk': AIMessageChunk(content=' music', additional_kwargs={}, response_metadata={}, id='run--b8123484-feb3-41f0-b757-fb0d3c7a7f0b')}, 'run_id': 'b8123484-feb3-41f0-b757-fb0d3c7a7f0b', 'name': 'ChatGroq', 'tags': ['seq:step:1'], 'metadata': {'thread_id': '5', 'langgraph_step': 1, 'langgraph_node': 'SuperBot', 'langgraph_triggers': ('branch:to:SuperBot',), 'langgraph_path': ('__pregel_pull', 'SuperBot'), 'langgraph_checkpoint_ns': 'SuperBot:b278b9ab-9e84-57fd-c6f1-041147194797', 'checkpoint_ns': 'SuperBot:b278b9ab-9e84-57fd-c6f1-041147194797', 'ls_provider': 'groq', 'ls_model_name': 'openai/gpt-oss-20b', 'ls_model_type': 'chat', 'ls_temperature': 0.7}, 'parent_ids': ['62d57d40-f78b-4164-b605-06e64e20e462', '03ff2746-ab75-4258-86d7-aa727dd584ee']}\n",
      "{'event': 'on_chat_model_stream', 'data': {'chunk': AIMessageChunk(content=' lover', additional_kwargs={}, response_metadata={}, id='run--b8123484-feb3-41f0-b757-fb0d3c7a7f0b')}, 'run_id': 'b8123484-feb3-41f0-b757-fb0d3c7a7f0b', 'name': 'ChatGroq', 'tags': ['seq:step:1'], 'metadata': {'thread_id': '5', 'langgraph_step': 1, 'langgraph_node': 'SuperBot', 'langgraph_triggers': ('branch:to:SuperBot',), 'langgraph_path': ('__pregel_pull', 'SuperBot'), 'langgraph_checkpoint_ns': 'SuperBot:b278b9ab-9e84-57fd-c6f1-041147194797', 'checkpoint_ns': 'SuperBot:b278b9ab-9e84-57fd-c6f1-041147194797', 'ls_provider': 'groq', 'ls_model_name': 'openai/gpt-oss-20b', 'ls_model_type': 'chat', 'ls_temperature': 0.7}, 'parent_ids': ['62d57d40-f78b-4164-b605-06e64e20e462', '03ff2746-ab75-4258-86d7-aa727dd584ee']}\n",
      "{'event': 'on_chat_model_stream', 'data': {'chunk': AIMessageChunk(content='.', additional_kwargs={}, response_metadata={}, id='run--b8123484-feb3-41f0-b757-fb0d3c7a7f0b')}, 'run_id': 'b8123484-feb3-41f0-b757-fb0d3c7a7f0b', 'name': 'ChatGroq', 'tags': ['seq:step:1'], 'metadata': {'thread_id': '5', 'langgraph_step': 1, 'langgraph_node': 'SuperBot', 'langgraph_triggers': ('branch:to:SuperBot',), 'langgraph_path': ('__pregel_pull', 'SuperBot'), 'langgraph_checkpoint_ns': 'SuperBot:b278b9ab-9e84-57fd-c6f1-041147194797', 'checkpoint_ns': 'SuperBot:b278b9ab-9e84-57fd-c6f1-041147194797', 'ls_provider': 'groq', 'ls_model_name': 'openai/gpt-oss-20b', 'ls_model_type': 'chat', 'ls_temperature': 0.7}, 'parent_ids': ['62d57d40-f78b-4164-b605-06e64e20e462', '03ff2746-ab75-4258-86d7-aa727dd584ee']}\n",
      "{'event': 'on_chat_model_stream', 'data': {'chunk': AIMessageChunk(content=' What', additional_kwargs={}, response_metadata={}, id='run--b8123484-feb3-41f0-b757-fb0d3c7a7f0b')}, 'run_id': 'b8123484-feb3-41f0-b757-fb0d3c7a7f0b', 'name': 'ChatGroq', 'tags': ['seq:step:1'], 'metadata': {'thread_id': '5', 'langgraph_step': 1, 'langgraph_node': 'SuperBot', 'langgraph_triggers': ('branch:to:SuperBot',), 'langgraph_path': ('__pregel_pull', 'SuperBot'), 'langgraph_checkpoint_ns': 'SuperBot:b278b9ab-9e84-57fd-c6f1-041147194797', 'checkpoint_ns': 'SuperBot:b278b9ab-9e84-57fd-c6f1-041147194797', 'ls_provider': 'groq', 'ls_model_name': 'openai/gpt-oss-20b', 'ls_model_type': 'chat', 'ls_temperature': 0.7}, 'parent_ids': ['62d57d40-f78b-4164-b605-06e64e20e462', '03ff2746-ab75-4258-86d7-aa727dd584ee']}\n",
      "{'event': 'on_chat_model_stream', 'data': {'chunk': AIMessageChunk(content=' kind', additional_kwargs={}, response_metadata={}, id='run--b8123484-feb3-41f0-b757-fb0d3c7a7f0b')}, 'run_id': 'b8123484-feb3-41f0-b757-fb0d3c7a7f0b', 'name': 'ChatGroq', 'tags': ['seq:step:1'], 'metadata': {'thread_id': '5', 'langgraph_step': 1, 'langgraph_node': 'SuperBot', 'langgraph_triggers': ('branch:to:SuperBot',), 'langgraph_path': ('__pregel_pull', 'SuperBot'), 'langgraph_checkpoint_ns': 'SuperBot:b278b9ab-9e84-57fd-c6f1-041147194797', 'checkpoint_ns': 'SuperBot:b278b9ab-9e84-57fd-c6f1-041147194797', 'ls_provider': 'groq', 'ls_model_name': 'openai/gpt-oss-20b', 'ls_model_type': 'chat', 'ls_temperature': 0.7}, 'parent_ids': ['62d57d40-f78b-4164-b605-06e64e20e462', '03ff2746-ab75-4258-86d7-aa727dd584ee']}\n",
      "{'event': 'on_chat_model_stream', 'data': {'chunk': AIMessageChunk(content=' of', additional_kwargs={}, response_metadata={}, id='run--b8123484-feb3-41f0-b757-fb0d3c7a7f0b')}, 'run_id': 'b8123484-feb3-41f0-b757-fb0d3c7a7f0b', 'name': 'ChatGroq', 'tags': ['seq:step:1'], 'metadata': {'thread_id': '5', 'langgraph_step': 1, 'langgraph_node': 'SuperBot', 'langgraph_triggers': ('branch:to:SuperBot',), 'langgraph_path': ('__pregel_pull', 'SuperBot'), 'langgraph_checkpoint_ns': 'SuperBot:b278b9ab-9e84-57fd-c6f1-041147194797', 'checkpoint_ns': 'SuperBot:b278b9ab-9e84-57fd-c6f1-041147194797', 'ls_provider': 'groq', 'ls_model_name': 'openai/gpt-oss-20b', 'ls_model_type': 'chat', 'ls_temperature': 0.7}, 'parent_ids': ['62d57d40-f78b-4164-b605-06e64e20e462', '03ff2746-ab75-4258-86d7-aa727dd584ee']}\n",
      "{'event': 'on_chat_model_stream', 'data': {'chunk': AIMessageChunk(content=' singing', additional_kwargs={}, response_metadata={}, id='run--b8123484-feb3-41f0-b757-fb0d3c7a7f0b')}, 'run_id': 'b8123484-feb3-41f0-b757-fb0d3c7a7f0b', 'name': 'ChatGroq', 'tags': ['seq:step:1'], 'metadata': {'thread_id': '5', 'langgraph_step': 1, 'langgraph_node': 'SuperBot', 'langgraph_triggers': ('branch:to:SuperBot',), 'langgraph_path': ('__pregel_pull', 'SuperBot'), 'langgraph_checkpoint_ns': 'SuperBot:b278b9ab-9e84-57fd-c6f1-041147194797', 'checkpoint_ns': 'SuperBot:b278b9ab-9e84-57fd-c6f1-041147194797', 'ls_provider': 'groq', 'ls_model_name': 'openai/gpt-oss-20b', 'ls_model_type': 'chat', 'ls_temperature': 0.7}, 'parent_ids': ['62d57d40-f78b-4164-b605-06e64e20e462', '03ff2746-ab75-4258-86d7-aa727dd584ee']}\n",
      "{'event': 'on_chat_model_stream', 'data': {'chunk': AIMessageChunk(content=' do', additional_kwargs={}, response_metadata={}, id='run--b8123484-feb3-41f0-b757-fb0d3c7a7f0b')}, 'run_id': 'b8123484-feb3-41f0-b757-fb0d3c7a7f0b', 'name': 'ChatGroq', 'tags': ['seq:step:1'], 'metadata': {'thread_id': '5', 'langgraph_step': 1, 'langgraph_node': 'SuperBot', 'langgraph_triggers': ('branch:to:SuperBot',), 'langgraph_path': ('__pregel_pull', 'SuperBot'), 'langgraph_checkpoint_ns': 'SuperBot:b278b9ab-9e84-57fd-c6f1-041147194797', 'checkpoint_ns': 'SuperBot:b278b9ab-9e84-57fd-c6f1-041147194797', 'ls_provider': 'groq', 'ls_model_name': 'openai/gpt-oss-20b', 'ls_model_type': 'chat', 'ls_temperature': 0.7}, 'parent_ids': ['62d57d40-f78b-4164-b605-06e64e20e462', '03ff2746-ab75-4258-86d7-aa727dd584ee']}\n",
      "{'event': 'on_chat_model_stream', 'data': {'chunk': AIMessageChunk(content=' you', additional_kwargs={}, response_metadata={}, id='run--b8123484-feb3-41f0-b757-fb0d3c7a7f0b')}, 'run_id': 'b8123484-feb3-41f0-b757-fb0d3c7a7f0b', 'name': 'ChatGroq', 'tags': ['seq:step:1'], 'metadata': {'thread_id': '5', 'langgraph_step': 1, 'langgraph_node': 'SuperBot', 'langgraph_triggers': ('branch:to:SuperBot',), 'langgraph_path': ('__pregel_pull', 'SuperBot'), 'langgraph_checkpoint_ns': 'SuperBot:b278b9ab-9e84-57fd-c6f1-041147194797', 'checkpoint_ns': 'SuperBot:b278b9ab-9e84-57fd-c6f1-041147194797', 'ls_provider': 'groq', 'ls_model_name': 'openai/gpt-oss-20b', 'ls_model_type': 'chat', 'ls_temperature': 0.7}, 'parent_ids': ['62d57d40-f78b-4164-b605-06e64e20e462', '03ff2746-ab75-4258-86d7-aa727dd584ee']}\n",
      "{'event': 'on_chat_model_stream', 'data': {'chunk': AIMessageChunk(content=' enjoy', additional_kwargs={}, response_metadata={}, id='run--b8123484-feb3-41f0-b757-fb0d3c7a7f0b')}, 'run_id': 'b8123484-feb3-41f0-b757-fb0d3c7a7f0b', 'name': 'ChatGroq', 'tags': ['seq:step:1'], 'metadata': {'thread_id': '5', 'langgraph_step': 1, 'langgraph_node': 'SuperBot', 'langgraph_triggers': ('branch:to:SuperBot',), 'langgraph_path': ('__pregel_pull', 'SuperBot'), 'langgraph_checkpoint_ns': 'SuperBot:b278b9ab-9e84-57fd-c6f1-041147194797', 'checkpoint_ns': 'SuperBot:b278b9ab-9e84-57fd-c6f1-041147194797', 'ls_provider': 'groq', 'ls_model_name': 'openai/gpt-oss-20b', 'ls_model_type': 'chat', 'ls_temperature': 0.7}, 'parent_ids': ['62d57d40-f78b-4164-b605-06e64e20e462', '03ff2746-ab75-4258-86d7-aa727dd584ee']}\n",
      "{'event': 'on_chat_model_stream', 'data': {'chunk': AIMessageChunk(content='—', additional_kwargs={}, response_metadata={}, id='run--b8123484-feb3-41f0-b757-fb0d3c7a7f0b')}, 'run_id': 'b8123484-feb3-41f0-b757-fb0d3c7a7f0b', 'name': 'ChatGroq', 'tags': ['seq:step:1'], 'metadata': {'thread_id': '5', 'langgraph_step': 1, 'langgraph_node': 'SuperBot', 'langgraph_triggers': ('branch:to:SuperBot',), 'langgraph_path': ('__pregel_pull', 'SuperBot'), 'langgraph_checkpoint_ns': 'SuperBot:b278b9ab-9e84-57fd-c6f1-041147194797', 'checkpoint_ns': 'SuperBot:b278b9ab-9e84-57fd-c6f1-041147194797', 'ls_provider': 'groq', 'ls_model_name': 'openai/gpt-oss-20b', 'ls_model_type': 'chat', 'ls_temperature': 0.7}, 'parent_ids': ['62d57d40-f78b-4164-b605-06e64e20e462', '03ff2746-ab75-4258-86d7-aa727dd584ee']}\n",
      "{'event': 'on_chat_model_stream', 'data': {'chunk': AIMessageChunk(content='class', additional_kwargs={}, response_metadata={}, id='run--b8123484-feb3-41f0-b757-fb0d3c7a7f0b')}, 'run_id': 'b8123484-feb3-41f0-b757-fb0d3c7a7f0b', 'name': 'ChatGroq', 'tags': ['seq:step:1'], 'metadata': {'thread_id': '5', 'langgraph_step': 1, 'langgraph_node': 'SuperBot', 'langgraph_triggers': ('branch:to:SuperBot',), 'langgraph_path': ('__pregel_pull', 'SuperBot'), 'langgraph_checkpoint_ns': 'SuperBot:b278b9ab-9e84-57fd-c6f1-041147194797', 'checkpoint_ns': 'SuperBot:b278b9ab-9e84-57fd-c6f1-041147194797', 'ls_provider': 'groq', 'ls_model_name': 'openai/gpt-oss-20b', 'ls_model_type': 'chat', 'ls_temperature': 0.7}, 'parent_ids': ['62d57d40-f78b-4164-b605-06e64e20e462', '03ff2746-ab75-4258-86d7-aa727dd584ee']}\n",
      "{'event': 'on_chat_model_stream', 'data': {'chunk': AIMessageChunk(content='ical', additional_kwargs={}, response_metadata={}, id='run--b8123484-feb3-41f0-b757-fb0d3c7a7f0b')}, 'run_id': 'b8123484-feb3-41f0-b757-fb0d3c7a7f0b', 'name': 'ChatGroq', 'tags': ['seq:step:1'], 'metadata': {'thread_id': '5', 'langgraph_step': 1, 'langgraph_node': 'SuperBot', 'langgraph_triggers': ('branch:to:SuperBot',), 'langgraph_path': ('__pregel_pull', 'SuperBot'), 'langgraph_checkpoint_ns': 'SuperBot:b278b9ab-9e84-57fd-c6f1-041147194797', 'checkpoint_ns': 'SuperBot:b278b9ab-9e84-57fd-c6f1-041147194797', 'ls_provider': 'groq', 'ls_model_name': 'openai/gpt-oss-20b', 'ls_model_type': 'chat', 'ls_temperature': 0.7}, 'parent_ids': ['62d57d40-f78b-4164-b605-06e64e20e462', '03ff2746-ab75-4258-86d7-aa727dd584ee']}\n",
      "{'event': 'on_chat_model_stream', 'data': {'chunk': AIMessageChunk(content=',', additional_kwargs={}, response_metadata={}, id='run--b8123484-feb3-41f0-b757-fb0d3c7a7f0b')}, 'run_id': 'b8123484-feb3-41f0-b757-fb0d3c7a7f0b', 'name': 'ChatGroq', 'tags': ['seq:step:1'], 'metadata': {'thread_id': '5', 'langgraph_step': 1, 'langgraph_node': 'SuperBot', 'langgraph_triggers': ('branch:to:SuperBot',), 'langgraph_path': ('__pregel_pull', 'SuperBot'), 'langgraph_checkpoint_ns': 'SuperBot:b278b9ab-9e84-57fd-c6f1-041147194797', 'checkpoint_ns': 'SuperBot:b278b9ab-9e84-57fd-c6f1-041147194797', 'ls_provider': 'groq', 'ls_model_name': 'openai/gpt-oss-20b', 'ls_model_type': 'chat', 'ls_temperature': 0.7}, 'parent_ids': ['62d57d40-f78b-4164-b605-06e64e20e462', '03ff2746-ab75-4258-86d7-aa727dd584ee']}\n",
      "{'event': 'on_chat_model_stream', 'data': {'chunk': AIMessageChunk(content=' pop', additional_kwargs={}, response_metadata={}, id='run--b8123484-feb3-41f0-b757-fb0d3c7a7f0b')}, 'run_id': 'b8123484-feb3-41f0-b757-fb0d3c7a7f0b', 'name': 'ChatGroq', 'tags': ['seq:step:1'], 'metadata': {'thread_id': '5', 'langgraph_step': 1, 'langgraph_node': 'SuperBot', 'langgraph_triggers': ('branch:to:SuperBot',), 'langgraph_path': ('__pregel_pull', 'SuperBot'), 'langgraph_checkpoint_ns': 'SuperBot:b278b9ab-9e84-57fd-c6f1-041147194797', 'checkpoint_ns': 'SuperBot:b278b9ab-9e84-57fd-c6f1-041147194797', 'ls_provider': 'groq', 'ls_model_name': 'openai/gpt-oss-20b', 'ls_model_type': 'chat', 'ls_temperature': 0.7}, 'parent_ids': ['62d57d40-f78b-4164-b605-06e64e20e462', '03ff2746-ab75-4258-86d7-aa727dd584ee']}\n",
      "{'event': 'on_chat_model_stream', 'data': {'chunk': AIMessageChunk(content=',', additional_kwargs={}, response_metadata={}, id='run--b8123484-feb3-41f0-b757-fb0d3c7a7f0b')}, 'run_id': 'b8123484-feb3-41f0-b757-fb0d3c7a7f0b', 'name': 'ChatGroq', 'tags': ['seq:step:1'], 'metadata': {'thread_id': '5', 'langgraph_step': 1, 'langgraph_node': 'SuperBot', 'langgraph_triggers': ('branch:to:SuperBot',), 'langgraph_path': ('__pregel_pull', 'SuperBot'), 'langgraph_checkpoint_ns': 'SuperBot:b278b9ab-9e84-57fd-c6f1-041147194797', 'checkpoint_ns': 'SuperBot:b278b9ab-9e84-57fd-c6f1-041147194797', 'ls_provider': 'groq', 'ls_model_name': 'openai/gpt-oss-20b', 'ls_model_type': 'chat', 'ls_temperature': 0.7}, 'parent_ids': ['62d57d40-f78b-4164-b605-06e64e20e462', '03ff2746-ab75-4258-86d7-aa727dd584ee']}\n",
      "{'event': 'on_chat_model_stream', 'data': {'chunk': AIMessageChunk(content=' karaoke', additional_kwargs={}, response_metadata={}, id='run--b8123484-feb3-41f0-b757-fb0d3c7a7f0b')}, 'run_id': 'b8123484-feb3-41f0-b757-fb0d3c7a7f0b', 'name': 'ChatGroq', 'tags': ['seq:step:1'], 'metadata': {'thread_id': '5', 'langgraph_step': 1, 'langgraph_node': 'SuperBot', 'langgraph_triggers': ('branch:to:SuperBot',), 'langgraph_path': ('__pregel_pull', 'SuperBot'), 'langgraph_checkpoint_ns': 'SuperBot:b278b9ab-9e84-57fd-c6f1-041147194797', 'checkpoint_ns': 'SuperBot:b278b9ab-9e84-57fd-c6f1-041147194797', 'ls_provider': 'groq', 'ls_model_name': 'openai/gpt-oss-20b', 'ls_model_type': 'chat', 'ls_temperature': 0.7}, 'parent_ids': ['62d57d40-f78b-4164-b605-06e64e20e462', '03ff2746-ab75-4258-86d7-aa727dd584ee']}\n",
      "{'event': 'on_chat_model_stream', 'data': {'chunk': AIMessageChunk(content=',', additional_kwargs={}, response_metadata={}, id='run--b8123484-feb3-41f0-b757-fb0d3c7a7f0b')}, 'run_id': 'b8123484-feb3-41f0-b757-fb0d3c7a7f0b', 'name': 'ChatGroq', 'tags': ['seq:step:1'], 'metadata': {'thread_id': '5', 'langgraph_step': 1, 'langgraph_node': 'SuperBot', 'langgraph_triggers': ('branch:to:SuperBot',), 'langgraph_path': ('__pregel_pull', 'SuperBot'), 'langgraph_checkpoint_ns': 'SuperBot:b278b9ab-9e84-57fd-c6f1-041147194797', 'checkpoint_ns': 'SuperBot:b278b9ab-9e84-57fd-c6f1-041147194797', 'ls_provider': 'groq', 'ls_model_name': 'openai/gpt-oss-20b', 'ls_model_type': 'chat', 'ls_temperature': 0.7}, 'parent_ids': ['62d57d40-f78b-4164-b605-06e64e20e462', '03ff2746-ab75-4258-86d7-aa727dd584ee']}\n",
      "{'event': 'on_chat_model_stream', 'data': {'chunk': AIMessageChunk(content=' or', additional_kwargs={}, response_metadata={}, id='run--b8123484-feb3-41f0-b757-fb0d3c7a7f0b')}, 'run_id': 'b8123484-feb3-41f0-b757-fb0d3c7a7f0b', 'name': 'ChatGroq', 'tags': ['seq:step:1'], 'metadata': {'thread_id': '5', 'langgraph_step': 1, 'langgraph_node': 'SuperBot', 'langgraph_triggers': ('branch:to:SuperBot',), 'langgraph_path': ('__pregel_pull', 'SuperBot'), 'langgraph_checkpoint_ns': 'SuperBot:b278b9ab-9e84-57fd-c6f1-041147194797', 'checkpoint_ns': 'SuperBot:b278b9ab-9e84-57fd-c6f1-041147194797', 'ls_provider': 'groq', 'ls_model_name': 'openai/gpt-oss-20b', 'ls_model_type': 'chat', 'ls_temperature': 0.7}, 'parent_ids': ['62d57d40-f78b-4164-b605-06e64e20e462', '03ff2746-ab75-4258-86d7-aa727dd584ee']}\n",
      "{'event': 'on_chat_model_stream', 'data': {'chunk': AIMessageChunk(content=' something', additional_kwargs={}, response_metadata={}, id='run--b8123484-feb3-41f0-b757-fb0d3c7a7f0b')}, 'run_id': 'b8123484-feb3-41f0-b757-fb0d3c7a7f0b', 'name': 'ChatGroq', 'tags': ['seq:step:1'], 'metadata': {'thread_id': '5', 'langgraph_step': 1, 'langgraph_node': 'SuperBot', 'langgraph_triggers': ('branch:to:SuperBot',), 'langgraph_path': ('__pregel_pull', 'SuperBot'), 'langgraph_checkpoint_ns': 'SuperBot:b278b9ab-9e84-57fd-c6f1-041147194797', 'checkpoint_ns': 'SuperBot:b278b9ab-9e84-57fd-c6f1-041147194797', 'ls_provider': 'groq', 'ls_model_name': 'openai/gpt-oss-20b', 'ls_model_type': 'chat', 'ls_temperature': 0.7}, 'parent_ids': ['62d57d40-f78b-4164-b605-06e64e20e462', '03ff2746-ab75-4258-86d7-aa727dd584ee']}\n",
      "{'event': 'on_chat_model_stream', 'data': {'chunk': AIMessageChunk(content=' else', additional_kwargs={}, response_metadata={}, id='run--b8123484-feb3-41f0-b757-fb0d3c7a7f0b')}, 'run_id': 'b8123484-feb3-41f0-b757-fb0d3c7a7f0b', 'name': 'ChatGroq', 'tags': ['seq:step:1'], 'metadata': {'thread_id': '5', 'langgraph_step': 1, 'langgraph_node': 'SuperBot', 'langgraph_triggers': ('branch:to:SuperBot',), 'langgraph_path': ('__pregel_pull', 'SuperBot'), 'langgraph_checkpoint_ns': 'SuperBot:b278b9ab-9e84-57fd-c6f1-041147194797', 'checkpoint_ns': 'SuperBot:b278b9ab-9e84-57fd-c6f1-041147194797', 'ls_provider': 'groq', 'ls_model_name': 'openai/gpt-oss-20b', 'ls_model_type': 'chat', 'ls_temperature': 0.7}, 'parent_ids': ['62d57d40-f78b-4164-b605-06e64e20e462', '03ff2746-ab75-4258-86d7-aa727dd584ee']}\n",
      "{'event': 'on_chat_model_stream', 'data': {'chunk': AIMessageChunk(content='?', additional_kwargs={}, response_metadata={}, id='run--b8123484-feb3-41f0-b757-fb0d3c7a7f0b')}, 'run_id': 'b8123484-feb3-41f0-b757-fb0d3c7a7f0b', 'name': 'ChatGroq', 'tags': ['seq:step:1'], 'metadata': {'thread_id': '5', 'langgraph_step': 1, 'langgraph_node': 'SuperBot', 'langgraph_triggers': ('branch:to:SuperBot',), 'langgraph_path': ('__pregel_pull', 'SuperBot'), 'langgraph_checkpoint_ns': 'SuperBot:b278b9ab-9e84-57fd-c6f1-041147194797', 'checkpoint_ns': 'SuperBot:b278b9ab-9e84-57fd-c6f1-041147194797', 'ls_provider': 'groq', 'ls_model_name': 'openai/gpt-oss-20b', 'ls_model_type': 'chat', 'ls_temperature': 0.7}, 'parent_ids': ['62d57d40-f78b-4164-b605-06e64e20e462', '03ff2746-ab75-4258-86d7-aa727dd584ee']}\n",
      "{'event': 'on_chat_model_stream', 'data': {'chunk': AIMessageChunk(content=' Do', additional_kwargs={}, response_metadata={}, id='run--b8123484-feb3-41f0-b757-fb0d3c7a7f0b')}, 'run_id': 'b8123484-feb3-41f0-b757-fb0d3c7a7f0b', 'name': 'ChatGroq', 'tags': ['seq:step:1'], 'metadata': {'thread_id': '5', 'langgraph_step': 1, 'langgraph_node': 'SuperBot', 'langgraph_triggers': ('branch:to:SuperBot',), 'langgraph_path': ('__pregel_pull', 'SuperBot'), 'langgraph_checkpoint_ns': 'SuperBot:b278b9ab-9e84-57fd-c6f1-041147194797', 'checkpoint_ns': 'SuperBot:b278b9ab-9e84-57fd-c6f1-041147194797', 'ls_provider': 'groq', 'ls_model_name': 'openai/gpt-oss-20b', 'ls_model_type': 'chat', 'ls_temperature': 0.7}, 'parent_ids': ['62d57d40-f78b-4164-b605-06e64e20e462', '03ff2746-ab75-4258-86d7-aa727dd584ee']}\n",
      "{'event': 'on_chat_model_stream', 'data': {'chunk': AIMessageChunk(content=' you', additional_kwargs={}, response_metadata={}, id='run--b8123484-feb3-41f0-b757-fb0d3c7a7f0b')}, 'run_id': 'b8123484-feb3-41f0-b757-fb0d3c7a7f0b', 'name': 'ChatGroq', 'tags': ['seq:step:1'], 'metadata': {'thread_id': '5', 'langgraph_step': 1, 'langgraph_node': 'SuperBot', 'langgraph_triggers': ('branch:to:SuperBot',), 'langgraph_path': ('__pregel_pull', 'SuperBot'), 'langgraph_checkpoint_ns': 'SuperBot:b278b9ab-9e84-57fd-c6f1-041147194797', 'checkpoint_ns': 'SuperBot:b278b9ab-9e84-57fd-c6f1-041147194797', 'ls_provider': 'groq', 'ls_model_name': 'openai/gpt-oss-20b', 'ls_model_type': 'chat', 'ls_temperature': 0.7}, 'parent_ids': ['62d57d40-f78b-4164-b605-06e64e20e462', '03ff2746-ab75-4258-86d7-aa727dd584ee']}\n",
      "{'event': 'on_chat_model_stream', 'data': {'chunk': AIMessageChunk(content=' have', additional_kwargs={}, response_metadata={}, id='run--b8123484-feb3-41f0-b757-fb0d3c7a7f0b')}, 'run_id': 'b8123484-feb3-41f0-b757-fb0d3c7a7f0b', 'name': 'ChatGroq', 'tags': ['seq:step:1'], 'metadata': {'thread_id': '5', 'langgraph_step': 1, 'langgraph_node': 'SuperBot', 'langgraph_triggers': ('branch:to:SuperBot',), 'langgraph_path': ('__pregel_pull', 'SuperBot'), 'langgraph_checkpoint_ns': 'SuperBot:b278b9ab-9e84-57fd-c6f1-041147194797', 'checkpoint_ns': 'SuperBot:b278b9ab-9e84-57fd-c6f1-041147194797', 'ls_provider': 'groq', 'ls_model_name': 'openai/gpt-oss-20b', 'ls_model_type': 'chat', 'ls_temperature': 0.7}, 'parent_ids': ['62d57d40-f78b-4164-b605-06e64e20e462', '03ff2746-ab75-4258-86d7-aa727dd584ee']}\n",
      "{'event': 'on_chat_model_stream', 'data': {'chunk': AIMessageChunk(content=' a', additional_kwargs={}, response_metadata={}, id='run--b8123484-feb3-41f0-b757-fb0d3c7a7f0b')}, 'run_id': 'b8123484-feb3-41f0-b757-fb0d3c7a7f0b', 'name': 'ChatGroq', 'tags': ['seq:step:1'], 'metadata': {'thread_id': '5', 'langgraph_step': 1, 'langgraph_node': 'SuperBot', 'langgraph_triggers': ('branch:to:SuperBot',), 'langgraph_path': ('__pregel_pull', 'SuperBot'), 'langgraph_checkpoint_ns': 'SuperBot:b278b9ab-9e84-57fd-c6f1-041147194797', 'checkpoint_ns': 'SuperBot:b278b9ab-9e84-57fd-c6f1-041147194797', 'ls_provider': 'groq', 'ls_model_name': 'openai/gpt-oss-20b', 'ls_model_type': 'chat', 'ls_temperature': 0.7}, 'parent_ids': ['62d57d40-f78b-4164-b605-06e64e20e462', '03ff2746-ab75-4258-86d7-aa727dd584ee']}\n",
      "{'event': 'on_chat_model_stream', 'data': {'chunk': AIMessageChunk(content=' favorite', additional_kwargs={}, response_metadata={}, id='run--b8123484-feb3-41f0-b757-fb0d3c7a7f0b')}, 'run_id': 'b8123484-feb3-41f0-b757-fb0d3c7a7f0b', 'name': 'ChatGroq', 'tags': ['seq:step:1'], 'metadata': {'thread_id': '5', 'langgraph_step': 1, 'langgraph_node': 'SuperBot', 'langgraph_triggers': ('branch:to:SuperBot',), 'langgraph_path': ('__pregel_pull', 'SuperBot'), 'langgraph_checkpoint_ns': 'SuperBot:b278b9ab-9e84-57fd-c6f1-041147194797', 'checkpoint_ns': 'SuperBot:b278b9ab-9e84-57fd-c6f1-041147194797', 'ls_provider': 'groq', 'ls_model_name': 'openai/gpt-oss-20b', 'ls_model_type': 'chat', 'ls_temperature': 0.7}, 'parent_ids': ['62d57d40-f78b-4164-b605-06e64e20e462', '03ff2746-ab75-4258-86d7-aa727dd584ee']}\n",
      "{'event': 'on_chat_model_stream', 'data': {'chunk': AIMessageChunk(content=' song', additional_kwargs={}, response_metadata={}, id='run--b8123484-feb3-41f0-b757-fb0d3c7a7f0b')}, 'run_id': 'b8123484-feb3-41f0-b757-fb0d3c7a7f0b', 'name': 'ChatGroq', 'tags': ['seq:step:1'], 'metadata': {'thread_id': '5', 'langgraph_step': 1, 'langgraph_node': 'SuperBot', 'langgraph_triggers': ('branch:to:SuperBot',), 'langgraph_path': ('__pregel_pull', 'SuperBot'), 'langgraph_checkpoint_ns': 'SuperBot:b278b9ab-9e84-57fd-c6f1-041147194797', 'checkpoint_ns': 'SuperBot:b278b9ab-9e84-57fd-c6f1-041147194797', 'ls_provider': 'groq', 'ls_model_name': 'openai/gpt-oss-20b', 'ls_model_type': 'chat', 'ls_temperature': 0.7}, 'parent_ids': ['62d57d40-f78b-4164-b605-06e64e20e462', '03ff2746-ab75-4258-86d7-aa727dd584ee']}\n",
      "{'event': 'on_chat_model_stream', 'data': {'chunk': AIMessageChunk(content=' or', additional_kwargs={}, response_metadata={}, id='run--b8123484-feb3-41f0-b757-fb0d3c7a7f0b')}, 'run_id': 'b8123484-feb3-41f0-b757-fb0d3c7a7f0b', 'name': 'ChatGroq', 'tags': ['seq:step:1'], 'metadata': {'thread_id': '5', 'langgraph_step': 1, 'langgraph_node': 'SuperBot', 'langgraph_triggers': ('branch:to:SuperBot',), 'langgraph_path': ('__pregel_pull', 'SuperBot'), 'langgraph_checkpoint_ns': 'SuperBot:b278b9ab-9e84-57fd-c6f1-041147194797', 'checkpoint_ns': 'SuperBot:b278b9ab-9e84-57fd-c6f1-041147194797', 'ls_provider': 'groq', 'ls_model_name': 'openai/gpt-oss-20b', 'ls_model_type': 'chat', 'ls_temperature': 0.7}, 'parent_ids': ['62d57d40-f78b-4164-b605-06e64e20e462', '03ff2746-ab75-4258-86d7-aa727dd584ee']}\n",
      "{'event': 'on_chat_model_stream', 'data': {'chunk': AIMessageChunk(content=' artist', additional_kwargs={}, response_metadata={}, id='run--b8123484-feb3-41f0-b757-fb0d3c7a7f0b')}, 'run_id': 'b8123484-feb3-41f0-b757-fb0d3c7a7f0b', 'name': 'ChatGroq', 'tags': ['seq:step:1'], 'metadata': {'thread_id': '5', 'langgraph_step': 1, 'langgraph_node': 'SuperBot', 'langgraph_triggers': ('branch:to:SuperBot',), 'langgraph_path': ('__pregel_pull', 'SuperBot'), 'langgraph_checkpoint_ns': 'SuperBot:b278b9ab-9e84-57fd-c6f1-041147194797', 'checkpoint_ns': 'SuperBot:b278b9ab-9e84-57fd-c6f1-041147194797', 'ls_provider': 'groq', 'ls_model_name': 'openai/gpt-oss-20b', 'ls_model_type': 'chat', 'ls_temperature': 0.7}, 'parent_ids': ['62d57d40-f78b-4164-b605-06e64e20e462', '03ff2746-ab75-4258-86d7-aa727dd584ee']}\n",
      "{'event': 'on_chat_model_stream', 'data': {'chunk': AIMessageChunk(content=' you', additional_kwargs={}, response_metadata={}, id='run--b8123484-feb3-41f0-b757-fb0d3c7a7f0b')}, 'run_id': 'b8123484-feb3-41f0-b757-fb0d3c7a7f0b', 'name': 'ChatGroq', 'tags': ['seq:step:1'], 'metadata': {'thread_id': '5', 'langgraph_step': 1, 'langgraph_node': 'SuperBot', 'langgraph_triggers': ('branch:to:SuperBot',), 'langgraph_path': ('__pregel_pull', 'SuperBot'), 'langgraph_checkpoint_ns': 'SuperBot:b278b9ab-9e84-57fd-c6f1-041147194797', 'checkpoint_ns': 'SuperBot:b278b9ab-9e84-57fd-c6f1-041147194797', 'ls_provider': 'groq', 'ls_model_name': 'openai/gpt-oss-20b', 'ls_model_type': 'chat', 'ls_temperature': 0.7}, 'parent_ids': ['62d57d40-f78b-4164-b605-06e64e20e462', '03ff2746-ab75-4258-86d7-aa727dd584ee']}\n",
      "{'event': 'on_chat_model_stream', 'data': {'chunk': AIMessageChunk(content=' like', additional_kwargs={}, response_metadata={}, id='run--b8123484-feb3-41f0-b757-fb0d3c7a7f0b')}, 'run_id': 'b8123484-feb3-41f0-b757-fb0d3c7a7f0b', 'name': 'ChatGroq', 'tags': ['seq:step:1'], 'metadata': {'thread_id': '5', 'langgraph_step': 1, 'langgraph_node': 'SuperBot', 'langgraph_triggers': ('branch:to:SuperBot',), 'langgraph_path': ('__pregel_pull', 'SuperBot'), 'langgraph_checkpoint_ns': 'SuperBot:b278b9ab-9e84-57fd-c6f1-041147194797', 'checkpoint_ns': 'SuperBot:b278b9ab-9e84-57fd-c6f1-041147194797', 'ls_provider': 'groq', 'ls_model_name': 'openai/gpt-oss-20b', 'ls_model_type': 'chat', 'ls_temperature': 0.7}, 'parent_ids': ['62d57d40-f78b-4164-b605-06e64e20e462', '03ff2746-ab75-4258-86d7-aa727dd584ee']}\n",
      "{'event': 'on_chat_model_stream', 'data': {'chunk': AIMessageChunk(content=' to', additional_kwargs={}, response_metadata={}, id='run--b8123484-feb3-41f0-b757-fb0d3c7a7f0b')}, 'run_id': 'b8123484-feb3-41f0-b757-fb0d3c7a7f0b', 'name': 'ChatGroq', 'tags': ['seq:step:1'], 'metadata': {'thread_id': '5', 'langgraph_step': 1, 'langgraph_node': 'SuperBot', 'langgraph_triggers': ('branch:to:SuperBot',), 'langgraph_path': ('__pregel_pull', 'SuperBot'), 'langgraph_checkpoint_ns': 'SuperBot:b278b9ab-9e84-57fd-c6f1-041147194797', 'checkpoint_ns': 'SuperBot:b278b9ab-9e84-57fd-c6f1-041147194797', 'ls_provider': 'groq', 'ls_model_name': 'openai/gpt-oss-20b', 'ls_model_type': 'chat', 'ls_temperature': 0.7}, 'parent_ids': ['62d57d40-f78b-4164-b605-06e64e20e462', '03ff2746-ab75-4258-86d7-aa727dd584ee']}\n",
      "{'event': 'on_chat_model_stream', 'data': {'chunk': AIMessageChunk(content=' perform', additional_kwargs={}, response_metadata={}, id='run--b8123484-feb3-41f0-b757-fb0d3c7a7f0b')}, 'run_id': 'b8123484-feb3-41f0-b757-fb0d3c7a7f0b', 'name': 'ChatGroq', 'tags': ['seq:step:1'], 'metadata': {'thread_id': '5', 'langgraph_step': 1, 'langgraph_node': 'SuperBot', 'langgraph_triggers': ('branch:to:SuperBot',), 'langgraph_path': ('__pregel_pull', 'SuperBot'), 'langgraph_checkpoint_ns': 'SuperBot:b278b9ab-9e84-57fd-c6f1-041147194797', 'checkpoint_ns': 'SuperBot:b278b9ab-9e84-57fd-c6f1-041147194797', 'ls_provider': 'groq', 'ls_model_name': 'openai/gpt-oss-20b', 'ls_model_type': 'chat', 'ls_temperature': 0.7}, 'parent_ids': ['62d57d40-f78b-4164-b605-06e64e20e462', '03ff2746-ab75-4258-86d7-aa727dd584ee']}\n",
      "{'event': 'on_chat_model_stream', 'data': {'chunk': AIMessageChunk(content='?', additional_kwargs={}, response_metadata={}, id='run--b8123484-feb3-41f0-b757-fb0d3c7a7f0b')}, 'run_id': 'b8123484-feb3-41f0-b757-fb0d3c7a7f0b', 'name': 'ChatGroq', 'tags': ['seq:step:1'], 'metadata': {'thread_id': '5', 'langgraph_step': 1, 'langgraph_node': 'SuperBot', 'langgraph_triggers': ('branch:to:SuperBot',), 'langgraph_path': ('__pregel_pull', 'SuperBot'), 'langgraph_checkpoint_ns': 'SuperBot:b278b9ab-9e84-57fd-c6f1-041147194797', 'checkpoint_ns': 'SuperBot:b278b9ab-9e84-57fd-c6f1-041147194797', 'ls_provider': 'groq', 'ls_model_name': 'openai/gpt-oss-20b', 'ls_model_type': 'chat', 'ls_temperature': 0.7}, 'parent_ids': ['62d57d40-f78b-4164-b605-06e64e20e462', '03ff2746-ab75-4258-86d7-aa727dd584ee']}\n",
      "{'event': 'on_chat_model_stream', 'data': {'chunk': AIMessageChunk(content='', additional_kwargs={}, response_metadata={'finish_reason': 'stop', 'model_name': 'openai/gpt-oss-20b', 'system_fingerprint': 'fp_80501ff3a1', 'service_tier': 'on_demand'}, id='run--b8123484-feb3-41f0-b757-fb0d3c7a7f0b', usage_metadata={'input_tokens': 81, 'output_tokens': 124, 'total_tokens': 205})}, 'run_id': 'b8123484-feb3-41f0-b757-fb0d3c7a7f0b', 'name': 'ChatGroq', 'tags': ['seq:step:1'], 'metadata': {'thread_id': '5', 'langgraph_step': 1, 'langgraph_node': 'SuperBot', 'langgraph_triggers': ('branch:to:SuperBot',), 'langgraph_path': ('__pregel_pull', 'SuperBot'), 'langgraph_checkpoint_ns': 'SuperBot:b278b9ab-9e84-57fd-c6f1-041147194797', 'checkpoint_ns': 'SuperBot:b278b9ab-9e84-57fd-c6f1-041147194797', 'ls_provider': 'groq', 'ls_model_name': 'openai/gpt-oss-20b', 'ls_model_type': 'chat', 'ls_temperature': 0.7}, 'parent_ids': ['62d57d40-f78b-4164-b605-06e64e20e462', '03ff2746-ab75-4258-86d7-aa727dd584ee']}\n",
      "{'event': 'on_chat_model_end', 'data': {'output': AIMessage(content='Hi Nancy! 🎶 It’s great to meet a fellow music lover. What kind of singing do you enjoy—classical, pop, karaoke, or something else? Do you have a favorite song or artist you like to perform?', additional_kwargs={'reasoning_content': 'User says: \"Hi my name is nancy and I like singing\". They are greeting and providing info. The user might want a conversation. According to policy: no disallowed content. So we can respond. Should we ask what they\\'d like to talk about? We can be friendly. Probably respond with greeting and ask about singing.'}, response_metadata={'finish_reason': 'stop', 'model_name': 'openai/gpt-oss-20b', 'system_fingerprint': 'fp_80501ff3a1', 'service_tier': 'on_demand'}, id='run--b8123484-feb3-41f0-b757-fb0d3c7a7f0b', usage_metadata={'input_tokens': 81, 'output_tokens': 124, 'total_tokens': 205}), 'input': {'messages': [[HumanMessage(content='Hi my name is nancy and I like singing', additional_kwargs={}, response_metadata={}, id='3f287582-e7b1-48ff-974d-e0ad58915108')]]}}, 'run_id': 'b8123484-feb3-41f0-b757-fb0d3c7a7f0b', 'name': 'ChatGroq', 'tags': ['seq:step:1'], 'metadata': {'thread_id': '5', 'langgraph_step': 1, 'langgraph_node': 'SuperBot', 'langgraph_triggers': ('branch:to:SuperBot',), 'langgraph_path': ('__pregel_pull', 'SuperBot'), 'langgraph_checkpoint_ns': 'SuperBot:b278b9ab-9e84-57fd-c6f1-041147194797', 'checkpoint_ns': 'SuperBot:b278b9ab-9e84-57fd-c6f1-041147194797', 'ls_provider': 'groq', 'ls_model_name': 'openai/gpt-oss-20b', 'ls_model_type': 'chat', 'ls_temperature': 0.7}, 'parent_ids': ['62d57d40-f78b-4164-b605-06e64e20e462', '03ff2746-ab75-4258-86d7-aa727dd584ee']}\n",
      "{'event': 'on_chain_stream', 'run_id': '03ff2746-ab75-4258-86d7-aa727dd584ee', 'name': 'SuperBot', 'tags': ['graph:step:1'], 'metadata': {'thread_id': '5', 'langgraph_step': 1, 'langgraph_node': 'SuperBot', 'langgraph_triggers': ('branch:to:SuperBot',), 'langgraph_path': ('__pregel_pull', 'SuperBot'), 'langgraph_checkpoint_ns': 'SuperBot:b278b9ab-9e84-57fd-c6f1-041147194797'}, 'data': {'chunk': {'messages': [AIMessage(content='Hi Nancy! 🎶 It’s great to meet a fellow music lover. What kind of singing do you enjoy—classical, pop, karaoke, or something else? Do you have a favorite song or artist you like to perform?', additional_kwargs={'reasoning_content': 'User says: \"Hi my name is nancy and I like singing\". They are greeting and providing info. The user might want a conversation. According to policy: no disallowed content. So we can respond. Should we ask what they\\'d like to talk about? We can be friendly. Probably respond with greeting and ask about singing.'}, response_metadata={'finish_reason': 'stop', 'model_name': 'openai/gpt-oss-20b', 'system_fingerprint': 'fp_80501ff3a1', 'service_tier': 'on_demand'}, id='run--b8123484-feb3-41f0-b757-fb0d3c7a7f0b', usage_metadata={'input_tokens': 81, 'output_tokens': 124, 'total_tokens': 205})]}}, 'parent_ids': ['62d57d40-f78b-4164-b605-06e64e20e462']}\n",
      "{'event': 'on_chain_end', 'data': {'output': {'messages': [AIMessage(content='Hi Nancy! 🎶 It’s great to meet a fellow music lover. What kind of singing do you enjoy—classical, pop, karaoke, or something else? Do you have a favorite song or artist you like to perform?', additional_kwargs={'reasoning_content': 'User says: \"Hi my name is nancy and I like singing\". They are greeting and providing info. The user might want a conversation. According to policy: no disallowed content. So we can respond. Should we ask what they\\'d like to talk about? We can be friendly. Probably respond with greeting and ask about singing.'}, response_metadata={'finish_reason': 'stop', 'model_name': 'openai/gpt-oss-20b', 'system_fingerprint': 'fp_80501ff3a1', 'service_tier': 'on_demand'}, id='run--b8123484-feb3-41f0-b757-fb0d3c7a7f0b', usage_metadata={'input_tokens': 81, 'output_tokens': 124, 'total_tokens': 205})]}, 'input': {'messages': [HumanMessage(content='Hi my name is nancy and I like singing', additional_kwargs={}, response_metadata={}, id='3f287582-e7b1-48ff-974d-e0ad58915108')]}}, 'run_id': '03ff2746-ab75-4258-86d7-aa727dd584ee', 'name': 'SuperBot', 'tags': ['graph:step:1'], 'metadata': {'thread_id': '5', 'langgraph_step': 1, 'langgraph_node': 'SuperBot', 'langgraph_triggers': ('branch:to:SuperBot',), 'langgraph_path': ('__pregel_pull', 'SuperBot'), 'langgraph_checkpoint_ns': 'SuperBot:b278b9ab-9e84-57fd-c6f1-041147194797'}, 'parent_ids': ['62d57d40-f78b-4164-b605-06e64e20e462']}\n",
      "{'event': 'on_chain_stream', 'run_id': '62d57d40-f78b-4164-b605-06e64e20e462', 'name': 'LangGraph', 'tags': [], 'metadata': {'thread_id': '5'}, 'data': {'chunk': {'SuperBot': {'messages': [AIMessage(content='Hi Nancy! 🎶 It’s great to meet a fellow music lover. What kind of singing do you enjoy—classical, pop, karaoke, or something else? Do you have a favorite song or artist you like to perform?', additional_kwargs={'reasoning_content': 'User says: \"Hi my name is nancy and I like singing\". They are greeting and providing info. The user might want a conversation. According to policy: no disallowed content. So we can respond. Should we ask what they\\'d like to talk about? We can be friendly. Probably respond with greeting and ask about singing.'}, response_metadata={'finish_reason': 'stop', 'model_name': 'openai/gpt-oss-20b', 'system_fingerprint': 'fp_80501ff3a1', 'service_tier': 'on_demand'}, id='run--b8123484-feb3-41f0-b757-fb0d3c7a7f0b', usage_metadata={'input_tokens': 81, 'output_tokens': 124, 'total_tokens': 205})]}}}, 'parent_ids': []}\n",
      "{'event': 'on_chain_end', 'data': {'output': {'messages': [HumanMessage(content='Hi my name is nancy and I like singing', additional_kwargs={}, response_metadata={}, id='3f287582-e7b1-48ff-974d-e0ad58915108'), AIMessage(content='Hi Nancy! 🎶 It’s great to meet a fellow music lover. What kind of singing do you enjoy—classical, pop, karaoke, or something else? Do you have a favorite song or artist you like to perform?', additional_kwargs={'reasoning_content': 'User says: \"Hi my name is nancy and I like singing\". They are greeting and providing info. The user might want a conversation. According to policy: no disallowed content. So we can respond. Should we ask what they\\'d like to talk about? We can be friendly. Probably respond with greeting and ask about singing.'}, response_metadata={'finish_reason': 'stop', 'model_name': 'openai/gpt-oss-20b', 'system_fingerprint': 'fp_80501ff3a1', 'service_tier': 'on_demand'}, id='run--b8123484-feb3-41f0-b757-fb0d3c7a7f0b', usage_metadata={'input_tokens': 81, 'output_tokens': 124, 'total_tokens': 205})]}}, 'run_id': '62d57d40-f78b-4164-b605-06e64e20e462', 'name': 'LangGraph', 'tags': [], 'metadata': {'thread_id': '5'}, 'parent_ids': []}\n"
     ]
    }
   ],
   "source": [
    "config={'configurable':{'thread_id':'5'}}\n",
    "\n",
    "async for chunk in graph.astream_events({'messages':'Hi my name is nancy and I like singing'},config,version='v2'):\n",
    "    print(chunk)"
   ]
  },
  {
   "cell_type": "markdown",
   "id": "7187441b",
   "metadata": {},
   "source": [
    "## Human In the Loop (Human Feedback)\n"
   ]
  },
  {
   "cell_type": "code",
   "execution_count": 95,
   "id": "6c61ceb4",
   "metadata": {},
   "outputs": [
    {
     "data": {
      "text/plain": [
       "ChatGroq(client=<groq.resources.chat.completions.Completions object at 0x7f2584a58170>, async_client=<groq.resources.chat.completions.AsyncCompletions object at 0x7f252ef16450>, model_name='openai/gpt-oss-20b', model_kwargs={}, groq_api_key=SecretStr('**********'))"
      ]
     },
     "execution_count": 95,
     "metadata": {},
     "output_type": "execute_result"
    }
   ],
   "source": [
    "from langchain_groq import ChatGroq\n",
    "llm=ChatGroq(model='openai/gpt-oss-20b')\n",
    "llm"
   ]
  },
  {
   "cell_type": "code",
   "execution_count": 96,
   "id": "3b9acc92",
   "metadata": {},
   "outputs": [
    {
     "data": {
      "image/png": "[encoded data removed]",
      "text/plain": [
       "<IPython.core.display.Image object>"
      ]
     },
     "metadata": {},
     "output_type": "display_data"
    }
   ],
   "source": [
    "from typing import Annotated\n",
    "from langchain_tavily import TavilySearch\n",
    "from langchain_core.tools import tool\n",
    "from typing_extensions import TypedDict\n",
    "from langgraph.checkpoint.memory import MemorySaver\n",
    "from langgraph.graph import StateGraph,START,END\n",
    "from langgraph.graph.message import add_messages\n",
    "from langgraph.prebuilt import ToolNode,tools_condition\n",
    "from langgraph.types import Command, interrupt\n",
    "\n",
    "class State(TypedDict):\n",
    "    messages: Annotated[list,add_messages]\n",
    "\n",
    "graph_builder=StateGraph(State)\n",
    "\n",
    "@tool\n",
    "def human_assistance(query:str):\n",
    "    \"\"\"\n",
    "    Triggers an interruption in the agent's workflow to request external\n",
    "    human help or clarification based on the given query.\n",
    "    \"\"\" # <-- FIX: This docstring is required by @tool\n",
    "    human_response=interrupt({'query':query})\n",
    "    return human_response['data']\n",
    "\n",
    "tool=TavilySearch(max_results=2)\n",
    "tools=[tool,human_assistance]\n",
    "llm_with_tools=llm.bind_tools(tools)\n",
    "\n",
    "def chatbot(state:State):\n",
    "    message=llm_with_tools.invoke(state['messages'])\n",
    "    return {'messages':[message]}\n",
    "\n",
    "graph_builder.add_node('chatbot',chatbot)\n",
    "tool_node=ToolNode(tools=tools)\n",
    "graph_builder.add_node('tools',tool_node)\n",
    "graph_builder.add_conditional_edges(\n",
    "    # Start node\n",
    "    'chatbot',\n",
    "    # Condition function (checks if a tool call was made)\n",
    "    tools_condition,\n",
    "    # Mapping of results: If true (tool call), go to 'tools'. If false (no tool call), go to END.\n",
    "    {'tools': 'tools', END: END}\n",
    ") \n",
    "\n",
    "# Edge from ToolNode back to Chatbot for tool results\n",
    "graph_builder.add_edge('tools','chatbot')\n",
    "\n",
    "# Starting Edge\n",
    "graph_builder.add_edge(START,'chatbot')\n",
    "\n",
    "# Compile the graph\n",
    "graph=graph_builder.compile(checkpointer=memory) \n",
    "display(Image(graph.get_graph().draw_mermaid_png()))"
   ]
  },
  {
   "cell_type": "code",
   "execution_count": 97,
   "id": "de3b7ea8",
   "metadata": {},
   "outputs": [
    {
     "data": {
      "text/plain": [
       "<generator object Pregel.stream at 0x5608e8c0a860>"
      ]
     },
     "execution_count": 97,
     "metadata": {},
     "output_type": "execute_result"
    }
   ],
   "source": [
    "user_input='I need some expert guidance for building an AI agent. Could you request assistnace for me?'\n",
    "config={'configurable':{'thread_id':'6'}}\n",
    "\n",
    "events=graph.stream({'messages':user_input},config,stream_mode='values')\n",
    "\n",
    "events"
   ]
  },
  {
   "cell_type": "code",
   "execution_count": 98,
   "id": "1d2d406b",
   "metadata": {},
   "outputs": [
    {
     "name": "stdout",
     "output_type": "stream",
     "text": [
      "{'messages': [HumanMessage(content='I need some expert guidance for building an AI agent. Could you request assistnace for me?', additional_kwargs={}, response_metadata={}, id='b1ce6a6d-bf33-4d63-9283-4785ae2a5625'), HumanMessage(content='I need some expert guidance for building an AI agent. Could you request assistnace for me?', additional_kwargs={}, response_metadata={}, id='3ef89e10-149a-4173-be0b-43637ea89579'), HumanMessage(content='I need some expert guidance for building an AI agent. Could you request assistnace for me?', additional_kwargs={}, response_metadata={}, id='786dc71a-dba8-4bc0-b90e-abd021da0ac4'), HumanMessage(content='I need some expert guidance for building an AI agent. Could you request assistnace for me?', additional_kwargs={}, response_metadata={}, id='3991a362-7edb-4203-ac8b-d217cb756a58'), HumanMessage(content='I need some expert guidance for building an AI agent. Could you request assistnace for me?', additional_kwargs={}, response_metadata={}, id='896ef07a-bbe6-41da-992e-1445a66e2cd5'), HumanMessage(content='I need some expert guidance for building an AI agent. Could you request assistnace for me?', additional_kwargs={}, response_metadata={}, id='78ed572d-50c6-4e65-af20-5817dba302d8'), HumanMessage(content='I need some expert guidance for building an AI agent. Could you request assistnace for me?', additional_kwargs={}, response_metadata={}, id='73c6c57f-90d1-4e26-803b-5fb83555f453'), HumanMessage(content='I need some expert guidance for building an AI agent. Could you request assistnace for me?', additional_kwargs={}, response_metadata={}, id='4293a3f7-0e23-49fe-b600-5c426b56fd97'), AIMessage(content='', additional_kwargs={'reasoning_content': 'The user is repeatedly asking: \"I need some expert guidance for building an AI agent. Could you request assistance for me?\" The user wants the assistant to request assistance. That likely means we should trigger the human_assistance function. According to the function, we should pass query: \"I need some expert guidance for building an AI agent. Could you request assistance for me?\" But maybe we can shorten the query to something like \"Expert guidance for building an AI agent\" or \"Help with building an AI agent\". The user is basically asking the assistant to request assistance on their behalf. The function human_assistance expects a query string. So we should call it. Let\\'s produce a call to the function.', 'tool_calls': [{'id': 'fc_bc1292c8-811d-478d-9055-0d46b3888947', 'function': {'arguments': '{\"query\":\"Expert guidance for building an AI agent\"}', 'name': 'human_assistance'}, 'type': 'function'}]}, response_metadata={'token_usage': {'completion_tokens': 173, 'prompt_tokens': 1584, 'total_tokens': 1757, 'completion_time': 0.168930168, 'prompt_time': 0.020329826, 'queue_time': 0.090772355, 'total_time': 0.189259994, 'prompt_tokens_details': {'cached_tokens': 1280}}, 'model_name': 'openai/gpt-oss-20b', 'system_fingerprint': 'fp_77f8660d1d', 'service_tier': 'on_demand', 'finish_reason': 'tool_calls', 'logprobs': None}, id='run--1ee1ffc5-2f6c-49fa-869e-493f0882b5c6-0', tool_calls=[{'name': 'human_assistance', 'args': {'query': 'Expert guidance for building an AI agent'}, 'id': 'fc_bc1292c8-811d-478d-9055-0d46b3888947', 'type': 'tool_call'}], usage_metadata={'input_tokens': 1584, 'output_tokens': 173, 'total_tokens': 1757}), HumanMessage(content='I need some expert guidance for building an AI agent. Could you request assistnace for me?', additional_kwargs={}, response_metadata={}, id='ee79206e-60c8-41c8-883a-f69a6f996652')]}\n",
      "{'messages': [HumanMessage(content='I need some expert guidance for building an AI agent. Could you request assistnace for me?', additional_kwargs={}, response_metadata={}, id='b1ce6a6d-bf33-4d63-9283-4785ae2a5625'), HumanMessage(content='I need some expert guidance for building an AI agent. Could you request assistnace for me?', additional_kwargs={}, response_metadata={}, id='3ef89e10-149a-4173-be0b-43637ea89579'), HumanMessage(content='I need some expert guidance for building an AI agent. Could you request assistnace for me?', additional_kwargs={}, response_metadata={}, id='786dc71a-dba8-4bc0-b90e-abd021da0ac4'), HumanMessage(content='I need some expert guidance for building an AI agent. Could you request assistnace for me?', additional_kwargs={}, response_metadata={}, id='3991a362-7edb-4203-ac8b-d217cb756a58'), HumanMessage(content='I need some expert guidance for building an AI agent. Could you request assistnace for me?', additional_kwargs={}, response_metadata={}, id='896ef07a-bbe6-41da-992e-1445a66e2cd5'), HumanMessage(content='I need some expert guidance for building an AI agent. Could you request assistnace for me?', additional_kwargs={}, response_metadata={}, id='78ed572d-50c6-4e65-af20-5817dba302d8'), HumanMessage(content='I need some expert guidance for building an AI agent. Could you request assistnace for me?', additional_kwargs={}, response_metadata={}, id='73c6c57f-90d1-4e26-803b-5fb83555f453'), HumanMessage(content='I need some expert guidance for building an AI agent. Could you request assistnace for me?', additional_kwargs={}, response_metadata={}, id='4293a3f7-0e23-49fe-b600-5c426b56fd97'), AIMessage(content='', additional_kwargs={'reasoning_content': 'The user is repeatedly asking: \"I need some expert guidance for building an AI agent. Could you request assistance for me?\" The user wants the assistant to request assistance. That likely means we should trigger the human_assistance function. According to the function, we should pass query: \"I need some expert guidance for building an AI agent. Could you request assistance for me?\" But maybe we can shorten the query to something like \"Expert guidance for building an AI agent\" or \"Help with building an AI agent\". The user is basically asking the assistant to request assistance on their behalf. The function human_assistance expects a query string. So we should call it. Let\\'s produce a call to the function.', 'tool_calls': [{'id': 'fc_bc1292c8-811d-478d-9055-0d46b3888947', 'function': {'arguments': '{\"query\":\"Expert guidance for building an AI agent\"}', 'name': 'human_assistance'}, 'type': 'function'}]}, response_metadata={'token_usage': {'completion_tokens': 173, 'prompt_tokens': 1584, 'total_tokens': 1757, 'completion_time': 0.168930168, 'prompt_time': 0.020329826, 'queue_time': 0.090772355, 'total_time': 0.189259994, 'prompt_tokens_details': {'cached_tokens': 1280}}, 'model_name': 'openai/gpt-oss-20b', 'system_fingerprint': 'fp_77f8660d1d', 'service_tier': 'on_demand', 'finish_reason': 'tool_calls', 'logprobs': None}, id='run--1ee1ffc5-2f6c-49fa-869e-493f0882b5c6-0', tool_calls=[{'name': 'human_assistance', 'args': {'query': 'Expert guidance for building an AI agent'}, 'id': 'fc_bc1292c8-811d-478d-9055-0d46b3888947', 'type': 'tool_call'}], usage_metadata={'input_tokens': 1584, 'output_tokens': 173, 'total_tokens': 1757}), HumanMessage(content='I need some expert guidance for building an AI agent. Could you request assistnace for me?', additional_kwargs={}, response_metadata={}, id='ee79206e-60c8-41c8-883a-f69a6f996652'), AIMessage(content='', additional_kwargs={'reasoning_content': 'We need to use the human_assistance function. Provide the query.', 'tool_calls': [{'id': 'fc_08acfe8e-ea6e-4c2f-8d03-a234af7453c9', 'function': {'arguments': '{\"query\":\"Expert guidance for building an AI agent\"}', 'name': 'human_assistance'}, 'type': 'function'}]}, response_metadata={'token_usage': {'completion_tokens': 46, 'prompt_tokens': 1632, 'total_tokens': 1678, 'completion_time': 0.045697551, 'prompt_time': 0.023316542, 'queue_time': 0.089035195, 'total_time': 0.069014093, 'prompt_tokens_details': {'cached_tokens': 1280}}, 'model_name': 'openai/gpt-oss-20b', 'system_fingerprint': 'fp_3d587a02fb', 'service_tier': 'on_demand', 'finish_reason': 'tool_calls', 'logprobs': None}, id='run--db925bd8-f8ac-4d5b-b48f-3c653696b5d1-0', tool_calls=[{'name': 'human_assistance', 'args': {'query': 'Expert guidance for building an AI agent'}, 'id': 'fc_08acfe8e-ea6e-4c2f-8d03-a234af7453c9', 'type': 'tool_call'}], usage_metadata={'input_tokens': 1632, 'output_tokens': 46, 'total_tokens': 1678})]}\n",
      "{'__interrupt__': (Interrupt(value={'query': 'Expert guidance for building an AI agent'}, id='7224363b9bcf37f5189fa3994e20e8bf'),)}\n"
     ]
    }
   ],
   "source": [
    "for event in events:\n",
    "    print(event)\n",
    "    if 'message' in event:\n",
    "        event['messages'][-1].pretty_print()"
   ]
  },
  {
   "cell_type": "code",
   "execution_count": 100,
   "id": "9586bf84",
   "metadata": {},
   "outputs": [
    {
     "name": "stdout",
     "output_type": "stream",
     "text": [
      "{'messages': [HumanMessage(content='I need some expert guidance for building an AI agent. Could you request assistnace for me?', additional_kwargs={}, response_metadata={}, id='b1ce6a6d-bf33-4d63-9283-4785ae2a5625'), HumanMessage(content='I need some expert guidance for building an AI agent. Could you request assistnace for me?', additional_kwargs={}, response_metadata={}, id='3ef89e10-149a-4173-be0b-43637ea89579'), HumanMessage(content='I need some expert guidance for building an AI agent. Could you request assistnace for me?', additional_kwargs={}, response_metadata={}, id='786dc71a-dba8-4bc0-b90e-abd021da0ac4'), HumanMessage(content='I need some expert guidance for building an AI agent. Could you request assistnace for me?', additional_kwargs={}, response_metadata={}, id='3991a362-7edb-4203-ac8b-d217cb756a58'), HumanMessage(content='I need some expert guidance for building an AI agent. Could you request assistnace for me?', additional_kwargs={}, response_metadata={}, id='896ef07a-bbe6-41da-992e-1445a66e2cd5'), HumanMessage(content='I need some expert guidance for building an AI agent. Could you request assistnace for me?', additional_kwargs={}, response_metadata={}, id='78ed572d-50c6-4e65-af20-5817dba302d8'), HumanMessage(content='I need some expert guidance for building an AI agent. Could you request assistnace for me?', additional_kwargs={}, response_metadata={}, id='73c6c57f-90d1-4e26-803b-5fb83555f453'), HumanMessage(content='I need some expert guidance for building an AI agent. Could you request assistnace for me?', additional_kwargs={}, response_metadata={}, id='4293a3f7-0e23-49fe-b600-5c426b56fd97'), AIMessage(content='', additional_kwargs={'reasoning_content': 'The user is repeatedly asking: \"I need some expert guidance for building an AI agent. Could you request assistance for me?\" The user wants the assistant to request assistance. That likely means we should trigger the human_assistance function. According to the function, we should pass query: \"I need some expert guidance for building an AI agent. Could you request assistance for me?\" But maybe we can shorten the query to something like \"Expert guidance for building an AI agent\" or \"Help with building an AI agent\". The user is basically asking the assistant to request assistance on their behalf. The function human_assistance expects a query string. So we should call it. Let\\'s produce a call to the function.', 'tool_calls': [{'id': 'fc_bc1292c8-811d-478d-9055-0d46b3888947', 'function': {'arguments': '{\"query\":\"Expert guidance for building an AI agent\"}', 'name': 'human_assistance'}, 'type': 'function'}]}, response_metadata={'token_usage': {'completion_tokens': 173, 'prompt_tokens': 1584, 'total_tokens': 1757, 'completion_time': 0.168930168, 'prompt_time': 0.020329826, 'queue_time': 0.090772355, 'total_time': 0.189259994, 'prompt_tokens_details': {'cached_tokens': 1280}}, 'model_name': 'openai/gpt-oss-20b', 'system_fingerprint': 'fp_77f8660d1d', 'service_tier': 'on_demand', 'finish_reason': 'tool_calls', 'logprobs': None}, id='run--1ee1ffc5-2f6c-49fa-869e-493f0882b5c6-0', tool_calls=[{'name': 'human_assistance', 'args': {'query': 'Expert guidance for building an AI agent'}, 'id': 'fc_bc1292c8-811d-478d-9055-0d46b3888947', 'type': 'tool_call'}], usage_metadata={'input_tokens': 1584, 'output_tokens': 173, 'total_tokens': 1757}), HumanMessage(content='I need some expert guidance for building an AI agent. Could you request assistnace for me?', additional_kwargs={}, response_metadata={}, id='ee79206e-60c8-41c8-883a-f69a6f996652'), AIMessage(content='', additional_kwargs={'reasoning_content': 'We need to use the human_assistance function. Provide the query.', 'tool_calls': [{'id': 'fc_08acfe8e-ea6e-4c2f-8d03-a234af7453c9', 'function': {'arguments': '{\"query\":\"Expert guidance for building an AI agent\"}', 'name': 'human_assistance'}, 'type': 'function'}]}, response_metadata={'token_usage': {'completion_tokens': 46, 'prompt_tokens': 1632, 'total_tokens': 1678, 'completion_time': 0.045697551, 'prompt_time': 0.023316542, 'queue_time': 0.089035195, 'total_time': 0.069014093, 'prompt_tokens_details': {'cached_tokens': 1280}}, 'model_name': 'openai/gpt-oss-20b', 'system_fingerprint': 'fp_3d587a02fb', 'service_tier': 'on_demand', 'finish_reason': 'tool_calls', 'logprobs': None}, id='run--db925bd8-f8ac-4d5b-b48f-3c653696b5d1-0', tool_calls=[{'name': 'human_assistance', 'args': {'query': 'Expert guidance for building an AI agent'}, 'id': 'fc_08acfe8e-ea6e-4c2f-8d03-a234af7453c9', 'type': 'tool_call'}], usage_metadata={'input_tokens': 1632, 'output_tokens': 46, 'total_tokens': 1678}), HumanMessage(content='I need some expert guidance and assistance for building an AI agent. Could you request assistnace for me?', additional_kwargs={}, response_metadata={}, id='22a68ad2-ae03-441c-af78-5f7b28ca3619')]}\n",
      "{'messages': [HumanMessage(content='I need some expert guidance for building an AI agent. Could you request assistnace for me?', additional_kwargs={}, response_metadata={}, id='b1ce6a6d-bf33-4d63-9283-4785ae2a5625'), HumanMessage(content='I need some expert guidance for building an AI agent. Could you request assistnace for me?', additional_kwargs={}, response_metadata={}, id='3ef89e10-149a-4173-be0b-43637ea89579'), HumanMessage(content='I need some expert guidance for building an AI agent. Could you request assistnace for me?', additional_kwargs={}, response_metadata={}, id='786dc71a-dba8-4bc0-b90e-abd021da0ac4'), HumanMessage(content='I need some expert guidance for building an AI agent. Could you request assistnace for me?', additional_kwargs={}, response_metadata={}, id='3991a362-7edb-4203-ac8b-d217cb756a58'), HumanMessage(content='I need some expert guidance for building an AI agent. Could you request assistnace for me?', additional_kwargs={}, response_metadata={}, id='896ef07a-bbe6-41da-992e-1445a66e2cd5'), HumanMessage(content='I need some expert guidance for building an AI agent. Could you request assistnace for me?', additional_kwargs={}, response_metadata={}, id='78ed572d-50c6-4e65-af20-5817dba302d8'), HumanMessage(content='I need some expert guidance for building an AI agent. Could you request assistnace for me?', additional_kwargs={}, response_metadata={}, id='73c6c57f-90d1-4e26-803b-5fb83555f453'), HumanMessage(content='I need some expert guidance for building an AI agent. Could you request assistnace for me?', additional_kwargs={}, response_metadata={}, id='4293a3f7-0e23-49fe-b600-5c426b56fd97'), AIMessage(content='', additional_kwargs={'reasoning_content': 'The user is repeatedly asking: \"I need some expert guidance for building an AI agent. Could you request assistance for me?\" The user wants the assistant to request assistance. That likely means we should trigger the human_assistance function. According to the function, we should pass query: \"I need some expert guidance for building an AI agent. Could you request assistance for me?\" But maybe we can shorten the query to something like \"Expert guidance for building an AI agent\" or \"Help with building an AI agent\". The user is basically asking the assistant to request assistance on their behalf. The function human_assistance expects a query string. So we should call it. Let\\'s produce a call to the function.', 'tool_calls': [{'id': 'fc_bc1292c8-811d-478d-9055-0d46b3888947', 'function': {'arguments': '{\"query\":\"Expert guidance for building an AI agent\"}', 'name': 'human_assistance'}, 'type': 'function'}]}, response_metadata={'token_usage': {'completion_tokens': 173, 'prompt_tokens': 1584, 'total_tokens': 1757, 'completion_time': 0.168930168, 'prompt_time': 0.020329826, 'queue_time': 0.090772355, 'total_time': 0.189259994, 'prompt_tokens_details': {'cached_tokens': 1280}}, 'model_name': 'openai/gpt-oss-20b', 'system_fingerprint': 'fp_77f8660d1d', 'service_tier': 'on_demand', 'finish_reason': 'tool_calls', 'logprobs': None}, id='run--1ee1ffc5-2f6c-49fa-869e-493f0882b5c6-0', tool_calls=[{'name': 'human_assistance', 'args': {'query': 'Expert guidance for building an AI agent'}, 'id': 'fc_bc1292c8-811d-478d-9055-0d46b3888947', 'type': 'tool_call'}], usage_metadata={'input_tokens': 1584, 'output_tokens': 173, 'total_tokens': 1757}), HumanMessage(content='I need some expert guidance for building an AI agent. Could you request assistnace for me?', additional_kwargs={}, response_metadata={}, id='ee79206e-60c8-41c8-883a-f69a6f996652'), AIMessage(content='', additional_kwargs={'reasoning_content': 'We need to use the human_assistance function. Provide the query.', 'tool_calls': [{'id': 'fc_08acfe8e-ea6e-4c2f-8d03-a234af7453c9', 'function': {'arguments': '{\"query\":\"Expert guidance for building an AI agent\"}', 'name': 'human_assistance'}, 'type': 'function'}]}, response_metadata={'token_usage': {'completion_tokens': 46, 'prompt_tokens': 1632, 'total_tokens': 1678, 'completion_time': 0.045697551, 'prompt_time': 0.023316542, 'queue_time': 0.089035195, 'total_time': 0.069014093, 'prompt_tokens_details': {'cached_tokens': 1280}}, 'model_name': 'openai/gpt-oss-20b', 'system_fingerprint': 'fp_3d587a02fb', 'service_tier': 'on_demand', 'finish_reason': 'tool_calls', 'logprobs': None}, id='run--db925bd8-f8ac-4d5b-b48f-3c653696b5d1-0', tool_calls=[{'name': 'human_assistance', 'args': {'query': 'Expert guidance for building an AI agent'}, 'id': 'fc_08acfe8e-ea6e-4c2f-8d03-a234af7453c9', 'type': 'tool_call'}], usage_metadata={'input_tokens': 1632, 'output_tokens': 46, 'total_tokens': 1678}), HumanMessage(content='I need some expert guidance and assistance for building an AI agent. Could you request assistnace for me?', additional_kwargs={}, response_metadata={}, id='22a68ad2-ae03-441c-af78-5f7b28ca3619'), AIMessage(content='', additional_kwargs={'reasoning_content': 'The user repeatedly asks to request assistance. We should use the human_assistance function to ask for help. The function signature: human_assistance(query: string). We need to pass a query string. Likely something like \"I need expert guidance for building an AI agent.\" Let\\'s call it.', 'tool_calls': [{'id': 'fc_7a04f3f0-f117-4f7e-9006-dce5d71f352f', 'function': {'arguments': '{\"query\":\"I need expert guidance for building an AI agent.\"}', 'name': 'human_assistance'}, 'type': 'function'}]}, response_metadata={'token_usage': {'completion_tokens': 94, 'prompt_tokens': 1682, 'total_tokens': 1776, 'completion_time': 0.095373703, 'prompt_time': 0.029396325, 'queue_time': 0.086838316, 'total_time': 0.124770028, 'prompt_tokens_details': {'cached_tokens': 1280}}, 'model_name': 'openai/gpt-oss-20b', 'system_fingerprint': 'fp_e99e93f2ac', 'service_tier': 'on_demand', 'finish_reason': 'tool_calls', 'logprobs': None}, id='run--37b1120e-b080-4a0d-bd97-4e11cd6ea1e7-0', tool_calls=[{'name': 'human_assistance', 'args': {'query': 'I need expert guidance for building an AI agent.'}, 'id': 'fc_7a04f3f0-f117-4f7e-9006-dce5d71f352f', 'type': 'tool_call'}], usage_metadata={'input_tokens': 1682, 'output_tokens': 94, 'total_tokens': 1776})]}\n",
      "{'__interrupt__': (Interrupt(value={'query': 'I need expert guidance for building an AI agent.'}, id='56366588f15af94aa06d4151ace5da14'),)}\n"
     ]
    }
   ],
   "source": [
    "user_input='I need some expert guidance and assistance for building an AI agent. Could you request assistnace for me?'\n",
    "config={'configurable':{'thread_id':'6'}}\n",
    "\n",
    "events=graph.stream({'messages':user_input},config,stream_mode='values')\n",
    "\n",
    "for event in events:\n",
    "    print(event)\n",
    "    if 'message' in event:\n",
    "        event['messages'][-1].pretty_print()"
   ]
  },
  {
   "cell_type": "code",
   "execution_count": 101,
   "id": "9c41bd72",
   "metadata": {},
   "outputs": [
    {
     "name": "stdout",
     "output_type": "stream",
     "text": [
      "{'messages': [HumanMessage(content='I need some expert guidance for building an AI agent. Could you request assistnace for me?', additional_kwargs={}, response_metadata={}, id='b1ce6a6d-bf33-4d63-9283-4785ae2a5625'), HumanMessage(content='I need some expert guidance for building an AI agent. Could you request assistnace for me?', additional_kwargs={}, response_metadata={}, id='3ef89e10-149a-4173-be0b-43637ea89579'), HumanMessage(content='I need some expert guidance for building an AI agent. Could you request assistnace for me?', additional_kwargs={}, response_metadata={}, id='786dc71a-dba8-4bc0-b90e-abd021da0ac4'), HumanMessage(content='I need some expert guidance for building an AI agent. Could you request assistnace for me?', additional_kwargs={}, response_metadata={}, id='3991a362-7edb-4203-ac8b-d217cb756a58'), HumanMessage(content='I need some expert guidance for building an AI agent. Could you request assistnace for me?', additional_kwargs={}, response_metadata={}, id='896ef07a-bbe6-41da-992e-1445a66e2cd5'), HumanMessage(content='I need some expert guidance for building an AI agent. Could you request assistnace for me?', additional_kwargs={}, response_metadata={}, id='78ed572d-50c6-4e65-af20-5817dba302d8'), HumanMessage(content='I need some expert guidance for building an AI agent. Could you request assistnace for me?', additional_kwargs={}, response_metadata={}, id='73c6c57f-90d1-4e26-803b-5fb83555f453'), HumanMessage(content='I need some expert guidance for building an AI agent. Could you request assistnace for me?', additional_kwargs={}, response_metadata={}, id='4293a3f7-0e23-49fe-b600-5c426b56fd97'), AIMessage(content='', additional_kwargs={'reasoning_content': 'The user is repeatedly asking: \"I need some expert guidance for building an AI agent. Could you request assistance for me?\" The user wants the assistant to request assistance. That likely means we should trigger the human_assistance function. According to the function, we should pass query: \"I need some expert guidance for building an AI agent. Could you request assistance for me?\" But maybe we can shorten the query to something like \"Expert guidance for building an AI agent\" or \"Help with building an AI agent\". The user is basically asking the assistant to request assistance on their behalf. The function human_assistance expects a query string. So we should call it. Let\\'s produce a call to the function.', 'tool_calls': [{'id': 'fc_bc1292c8-811d-478d-9055-0d46b3888947', 'function': {'arguments': '{\"query\":\"Expert guidance for building an AI agent\"}', 'name': 'human_assistance'}, 'type': 'function'}]}, response_metadata={'token_usage': {'completion_tokens': 173, 'prompt_tokens': 1584, 'total_tokens': 1757, 'completion_time': 0.168930168, 'prompt_time': 0.020329826, 'queue_time': 0.090772355, 'total_time': 0.189259994, 'prompt_tokens_details': {'cached_tokens': 1280}}, 'model_name': 'openai/gpt-oss-20b', 'system_fingerprint': 'fp_77f8660d1d', 'service_tier': 'on_demand', 'finish_reason': 'tool_calls', 'logprobs': None}, id='run--1ee1ffc5-2f6c-49fa-869e-493f0882b5c6-0', tool_calls=[{'name': 'human_assistance', 'args': {'query': 'Expert guidance for building an AI agent'}, 'id': 'fc_bc1292c8-811d-478d-9055-0d46b3888947', 'type': 'tool_call'}], usage_metadata={'input_tokens': 1584, 'output_tokens': 173, 'total_tokens': 1757}), HumanMessage(content='I need some expert guidance for building an AI agent. Could you request assistnace for me?', additional_kwargs={}, response_metadata={}, id='ee79206e-60c8-41c8-883a-f69a6f996652'), AIMessage(content='', additional_kwargs={'reasoning_content': 'We need to use the human_assistance function. Provide the query.', 'tool_calls': [{'id': 'fc_08acfe8e-ea6e-4c2f-8d03-a234af7453c9', 'function': {'arguments': '{\"query\":\"Expert guidance for building an AI agent\"}', 'name': 'human_assistance'}, 'type': 'function'}]}, response_metadata={'token_usage': {'completion_tokens': 46, 'prompt_tokens': 1632, 'total_tokens': 1678, 'completion_time': 0.045697551, 'prompt_time': 0.023316542, 'queue_time': 0.089035195, 'total_time': 0.069014093, 'prompt_tokens_details': {'cached_tokens': 1280}}, 'model_name': 'openai/gpt-oss-20b', 'system_fingerprint': 'fp_3d587a02fb', 'service_tier': 'on_demand', 'finish_reason': 'tool_calls', 'logprobs': None}, id='run--db925bd8-f8ac-4d5b-b48f-3c653696b5d1-0', tool_calls=[{'name': 'human_assistance', 'args': {'query': 'Expert guidance for building an AI agent'}, 'id': 'fc_08acfe8e-ea6e-4c2f-8d03-a234af7453c9', 'type': 'tool_call'}], usage_metadata={'input_tokens': 1632, 'output_tokens': 46, 'total_tokens': 1678}), HumanMessage(content='I need some expert guidance and assistance for building an AI agent. Could you request assistnace for me?', additional_kwargs={}, response_metadata={}, id='22a68ad2-ae03-441c-af78-5f7b28ca3619'), AIMessage(content='', additional_kwargs={'reasoning_content': 'The user repeatedly asks to request assistance. We should use the human_assistance function to ask for help. The function signature: human_assistance(query: string). We need to pass a query string. Likely something like \"I need expert guidance for building an AI agent.\" Let\\'s call it.', 'tool_calls': [{'id': 'fc_7a04f3f0-f117-4f7e-9006-dce5d71f352f', 'function': {'arguments': '{\"query\":\"I need expert guidance for building an AI agent.\"}', 'name': 'human_assistance'}, 'type': 'function'}]}, response_metadata={'token_usage': {'completion_tokens': 94, 'prompt_tokens': 1682, 'total_tokens': 1776, 'completion_time': 0.095373703, 'prompt_time': 0.029396325, 'queue_time': 0.086838316, 'total_time': 0.124770028, 'prompt_tokens_details': {'cached_tokens': 1280}}, 'model_name': 'openai/gpt-oss-20b', 'system_fingerprint': 'fp_e99e93f2ac', 'service_tier': 'on_demand', 'finish_reason': 'tool_calls', 'logprobs': None}, id='run--37b1120e-b080-4a0d-bd97-4e11cd6ea1e7-0', tool_calls=[{'name': 'human_assistance', 'args': {'query': 'I need expert guidance for building an AI agent.'}, 'id': 'fc_7a04f3f0-f117-4f7e-9006-dce5d71f352f', 'type': 'tool_call'}], usage_metadata={'input_tokens': 1682, 'output_tokens': 94, 'total_tokens': 1776})]}\n",
      "{'messages': [HumanMessage(content='I need some expert guidance for building an AI agent. Could you request assistnace for me?', additional_kwargs={}, response_metadata={}, id='b1ce6a6d-bf33-4d63-9283-4785ae2a5625'), HumanMessage(content='I need some expert guidance for building an AI agent. Could you request assistnace for me?', additional_kwargs={}, response_metadata={}, id='3ef89e10-149a-4173-be0b-43637ea89579'), HumanMessage(content='I need some expert guidance for building an AI agent. Could you request assistnace for me?', additional_kwargs={}, response_metadata={}, id='786dc71a-dba8-4bc0-b90e-abd021da0ac4'), HumanMessage(content='I need some expert guidance for building an AI agent. Could you request assistnace for me?', additional_kwargs={}, response_metadata={}, id='3991a362-7edb-4203-ac8b-d217cb756a58'), HumanMessage(content='I need some expert guidance for building an AI agent. Could you request assistnace for me?', additional_kwargs={}, response_metadata={}, id='896ef07a-bbe6-41da-992e-1445a66e2cd5'), HumanMessage(content='I need some expert guidance for building an AI agent. Could you request assistnace for me?', additional_kwargs={}, response_metadata={}, id='78ed572d-50c6-4e65-af20-5817dba302d8'), HumanMessage(content='I need some expert guidance for building an AI agent. Could you request assistnace for me?', additional_kwargs={}, response_metadata={}, id='73c6c57f-90d1-4e26-803b-5fb83555f453'), HumanMessage(content='I need some expert guidance for building an AI agent. Could you request assistnace for me?', additional_kwargs={}, response_metadata={}, id='4293a3f7-0e23-49fe-b600-5c426b56fd97'), AIMessage(content='', additional_kwargs={'reasoning_content': 'The user is repeatedly asking: \"I need some expert guidance for building an AI agent. Could you request assistance for me?\" The user wants the assistant to request assistance. That likely means we should trigger the human_assistance function. According to the function, we should pass query: \"I need some expert guidance for building an AI agent. Could you request assistance for me?\" But maybe we can shorten the query to something like \"Expert guidance for building an AI agent\" or \"Help with building an AI agent\". The user is basically asking the assistant to request assistance on their behalf. The function human_assistance expects a query string. So we should call it. Let\\'s produce a call to the function.', 'tool_calls': [{'id': 'fc_bc1292c8-811d-478d-9055-0d46b3888947', 'function': {'arguments': '{\"query\":\"Expert guidance for building an AI agent\"}', 'name': 'human_assistance'}, 'type': 'function'}]}, response_metadata={'token_usage': {'completion_tokens': 173, 'prompt_tokens': 1584, 'total_tokens': 1757, 'completion_time': 0.168930168, 'prompt_time': 0.020329826, 'queue_time': 0.090772355, 'total_time': 0.189259994, 'prompt_tokens_details': {'cached_tokens': 1280}}, 'model_name': 'openai/gpt-oss-20b', 'system_fingerprint': 'fp_77f8660d1d', 'service_tier': 'on_demand', 'finish_reason': 'tool_calls', 'logprobs': None}, id='run--1ee1ffc5-2f6c-49fa-869e-493f0882b5c6-0', tool_calls=[{'name': 'human_assistance', 'args': {'query': 'Expert guidance for building an AI agent'}, 'id': 'fc_bc1292c8-811d-478d-9055-0d46b3888947', 'type': 'tool_call'}], usage_metadata={'input_tokens': 1584, 'output_tokens': 173, 'total_tokens': 1757}), HumanMessage(content='I need some expert guidance for building an AI agent. Could you request assistnace for me?', additional_kwargs={}, response_metadata={}, id='ee79206e-60c8-41c8-883a-f69a6f996652'), AIMessage(content='', additional_kwargs={'reasoning_content': 'We need to use the human_assistance function. Provide the query.', 'tool_calls': [{'id': 'fc_08acfe8e-ea6e-4c2f-8d03-a234af7453c9', 'function': {'arguments': '{\"query\":\"Expert guidance for building an AI agent\"}', 'name': 'human_assistance'}, 'type': 'function'}]}, response_metadata={'token_usage': {'completion_tokens': 46, 'prompt_tokens': 1632, 'total_tokens': 1678, 'completion_time': 0.045697551, 'prompt_time': 0.023316542, 'queue_time': 0.089035195, 'total_time': 0.069014093, 'prompt_tokens_details': {'cached_tokens': 1280}}, 'model_name': 'openai/gpt-oss-20b', 'system_fingerprint': 'fp_3d587a02fb', 'service_tier': 'on_demand', 'finish_reason': 'tool_calls', 'logprobs': None}, id='run--db925bd8-f8ac-4d5b-b48f-3c653696b5d1-0', tool_calls=[{'name': 'human_assistance', 'args': {'query': 'Expert guidance for building an AI agent'}, 'id': 'fc_08acfe8e-ea6e-4c2f-8d03-a234af7453c9', 'type': 'tool_call'}], usage_metadata={'input_tokens': 1632, 'output_tokens': 46, 'total_tokens': 1678}), HumanMessage(content='I need some expert guidance and assistance for building an AI agent. Could you request assistnace for me?', additional_kwargs={}, response_metadata={}, id='22a68ad2-ae03-441c-af78-5f7b28ca3619'), AIMessage(content='', additional_kwargs={'reasoning_content': 'The user repeatedly asks to request assistance. We should use the human_assistance function to ask for help. The function signature: human_assistance(query: string). We need to pass a query string. Likely something like \"I need expert guidance for building an AI agent.\" Let\\'s call it.', 'tool_calls': [{'id': 'fc_7a04f3f0-f117-4f7e-9006-dce5d71f352f', 'function': {'arguments': '{\"query\":\"I need expert guidance for building an AI agent.\"}', 'name': 'human_assistance'}, 'type': 'function'}]}, response_metadata={'token_usage': {'completion_tokens': 94, 'prompt_tokens': 1682, 'total_tokens': 1776, 'completion_time': 0.095373703, 'prompt_time': 0.029396325, 'queue_time': 0.086838316, 'total_time': 0.124770028, 'prompt_tokens_details': {'cached_tokens': 1280}}, 'model_name': 'openai/gpt-oss-20b', 'system_fingerprint': 'fp_e99e93f2ac', 'service_tier': 'on_demand', 'finish_reason': 'tool_calls', 'logprobs': None}, id='run--37b1120e-b080-4a0d-bd97-4e11cd6ea1e7-0', tool_calls=[{'name': 'human_assistance', 'args': {'query': 'I need expert guidance for building an AI agent.'}, 'id': 'fc_7a04f3f0-f117-4f7e-9006-dce5d71f352f', 'type': 'tool_call'}], usage_metadata={'input_tokens': 1682, 'output_tokens': 94, 'total_tokens': 1776}), ToolMessage(content='{\"We the experts are here to help! We\\'d recommend you check out LangGraph to build your agent.It\\'s much more reliable and extensible than simple autonomous agents.\"}', name='human_assistance', id='9c82adf8-b8e0-4668-a7a3-2f022a7f6761', tool_call_id='fc_7a04f3f0-f117-4f7e-9006-dce5d71f352f')]}\n",
      "{'messages': [HumanMessage(content='I need some expert guidance for building an AI agent. Could you request assistnace for me?', additional_kwargs={}, response_metadata={}, id='b1ce6a6d-bf33-4d63-9283-4785ae2a5625'), HumanMessage(content='I need some expert guidance for building an AI agent. Could you request assistnace for me?', additional_kwargs={}, response_metadata={}, id='3ef89e10-149a-4173-be0b-43637ea89579'), HumanMessage(content='I need some expert guidance for building an AI agent. Could you request assistnace for me?', additional_kwargs={}, response_metadata={}, id='786dc71a-dba8-4bc0-b90e-abd021da0ac4'), HumanMessage(content='I need some expert guidance for building an AI agent. Could you request assistnace for me?', additional_kwargs={}, response_metadata={}, id='3991a362-7edb-4203-ac8b-d217cb756a58'), HumanMessage(content='I need some expert guidance for building an AI agent. Could you request assistnace for me?', additional_kwargs={}, response_metadata={}, id='896ef07a-bbe6-41da-992e-1445a66e2cd5'), HumanMessage(content='I need some expert guidance for building an AI agent. Could you request assistnace for me?', additional_kwargs={}, response_metadata={}, id='78ed572d-50c6-4e65-af20-5817dba302d8'), HumanMessage(content='I need some expert guidance for building an AI agent. Could you request assistnace for me?', additional_kwargs={}, response_metadata={}, id='73c6c57f-90d1-4e26-803b-5fb83555f453'), HumanMessage(content='I need some expert guidance for building an AI agent. Could you request assistnace for me?', additional_kwargs={}, response_metadata={}, id='4293a3f7-0e23-49fe-b600-5c426b56fd97'), AIMessage(content='', additional_kwargs={'reasoning_content': 'The user is repeatedly asking: \"I need some expert guidance for building an AI agent. Could you request assistance for me?\" The user wants the assistant to request assistance. That likely means we should trigger the human_assistance function. According to the function, we should pass query: \"I need some expert guidance for building an AI agent. Could you request assistance for me?\" But maybe we can shorten the query to something like \"Expert guidance for building an AI agent\" or \"Help with building an AI agent\". The user is basically asking the assistant to request assistance on their behalf. The function human_assistance expects a query string. So we should call it. Let\\'s produce a call to the function.', 'tool_calls': [{'id': 'fc_bc1292c8-811d-478d-9055-0d46b3888947', 'function': {'arguments': '{\"query\":\"Expert guidance for building an AI agent\"}', 'name': 'human_assistance'}, 'type': 'function'}]}, response_metadata={'token_usage': {'completion_tokens': 173, 'prompt_tokens': 1584, 'total_tokens': 1757, 'completion_time': 0.168930168, 'prompt_time': 0.020329826, 'queue_time': 0.090772355, 'total_time': 0.189259994, 'prompt_tokens_details': {'cached_tokens': 1280}}, 'model_name': 'openai/gpt-oss-20b', 'system_fingerprint': 'fp_77f8660d1d', 'service_tier': 'on_demand', 'finish_reason': 'tool_calls', 'logprobs': None}, id='run--1ee1ffc5-2f6c-49fa-869e-493f0882b5c6-0', tool_calls=[{'name': 'human_assistance', 'args': {'query': 'Expert guidance for building an AI agent'}, 'id': 'fc_bc1292c8-811d-478d-9055-0d46b3888947', 'type': 'tool_call'}], usage_metadata={'input_tokens': 1584, 'output_tokens': 173, 'total_tokens': 1757}), HumanMessage(content='I need some expert guidance for building an AI agent. Could you request assistnace for me?', additional_kwargs={}, response_metadata={}, id='ee79206e-60c8-41c8-883a-f69a6f996652'), AIMessage(content='', additional_kwargs={'reasoning_content': 'We need to use the human_assistance function. Provide the query.', 'tool_calls': [{'id': 'fc_08acfe8e-ea6e-4c2f-8d03-a234af7453c9', 'function': {'arguments': '{\"query\":\"Expert guidance for building an AI agent\"}', 'name': 'human_assistance'}, 'type': 'function'}]}, response_metadata={'token_usage': {'completion_tokens': 46, 'prompt_tokens': 1632, 'total_tokens': 1678, 'completion_time': 0.045697551, 'prompt_time': 0.023316542, 'queue_time': 0.089035195, 'total_time': 0.069014093, 'prompt_tokens_details': {'cached_tokens': 1280}}, 'model_name': 'openai/gpt-oss-20b', 'system_fingerprint': 'fp_3d587a02fb', 'service_tier': 'on_demand', 'finish_reason': 'tool_calls', 'logprobs': None}, id='run--db925bd8-f8ac-4d5b-b48f-3c653696b5d1-0', tool_calls=[{'name': 'human_assistance', 'args': {'query': 'Expert guidance for building an AI agent'}, 'id': 'fc_08acfe8e-ea6e-4c2f-8d03-a234af7453c9', 'type': 'tool_call'}], usage_metadata={'input_tokens': 1632, 'output_tokens': 46, 'total_tokens': 1678}), HumanMessage(content='I need some expert guidance and assistance for building an AI agent. Could you request assistnace for me?', additional_kwargs={}, response_metadata={}, id='22a68ad2-ae03-441c-af78-5f7b28ca3619'), AIMessage(content='', additional_kwargs={'reasoning_content': 'The user repeatedly asks to request assistance. We should use the human_assistance function to ask for help. The function signature: human_assistance(query: string). We need to pass a query string. Likely something like \"I need expert guidance for building an AI agent.\" Let\\'s call it.', 'tool_calls': [{'id': 'fc_7a04f3f0-f117-4f7e-9006-dce5d71f352f', 'function': {'arguments': '{\"query\":\"I need expert guidance for building an AI agent.\"}', 'name': 'human_assistance'}, 'type': 'function'}]}, response_metadata={'token_usage': {'completion_tokens': 94, 'prompt_tokens': 1682, 'total_tokens': 1776, 'completion_time': 0.095373703, 'prompt_time': 0.029396325, 'queue_time': 0.086838316, 'total_time': 0.124770028, 'prompt_tokens_details': {'cached_tokens': 1280}}, 'model_name': 'openai/gpt-oss-20b', 'system_fingerprint': 'fp_e99e93f2ac', 'service_tier': 'on_demand', 'finish_reason': 'tool_calls', 'logprobs': None}, id='run--37b1120e-b080-4a0d-bd97-4e11cd6ea1e7-0', tool_calls=[{'name': 'human_assistance', 'args': {'query': 'I need expert guidance for building an AI agent.'}, 'id': 'fc_7a04f3f0-f117-4f7e-9006-dce5d71f352f', 'type': 'tool_call'}], usage_metadata={'input_tokens': 1682, 'output_tokens': 94, 'total_tokens': 1776}), ToolMessage(content='{\"We the experts are here to help! We\\'d recommend you check out LangGraph to build your agent.It\\'s much more reliable and extensible than simple autonomous agents.\"}', name='human_assistance', id='9c82adf8-b8e0-4668-a7a3-2f022a7f6761', tool_call_id='fc_7a04f3f0-f117-4f7e-9006-dce5d71f352f'), AIMessage(content='We’re happy to help! For building a robust AI agent, we recommend exploring **LangGraph**—a powerful framework that’s both reliable and highly extensible for creating sophisticated agents. If you’d like more detailed guidance or specific resources, just let us know!', additional_kwargs={'reasoning_content': 'We need to respond to user. We have triggered human_assistance. The function returned a message. We should output that.'}, response_metadata={'token_usage': {'completion_tokens': 88, 'prompt_tokens': 1754, 'total_tokens': 1842, 'completion_time': 0.088272214, 'prompt_time': 0.094213898, 'queue_time': 0.086118653, 'total_time': 0.182486112}, 'model_name': 'openai/gpt-oss-20b', 'system_fingerprint': 'fp_c5a89987dc', 'service_tier': 'on_demand', 'finish_reason': 'stop', 'logprobs': None}, id='run--26441828-9d18-4034-b14a-3da56324806c-0', usage_metadata={'input_tokens': 1754, 'output_tokens': 88, 'total_tokens': 1842})]}\n"
     ]
    }
   ],
   "source": [
    "human_response={\n",
    "    \"We the experts are here to help! We'd recommend you check out LangGraph to build your agent.\"\n",
    "    \"It's much more reliable and extensible than simple autonomous agents.\" \n",
    "}\n",
    "\n",
    "human_comand=Command(resume={'data':human_response})\n",
    "\n",
    "events=graph.stream(human_comand,config,stream_mode='values')\n",
    "\n",
    "for event in events:\n",
    "    print(event)\n",
    "    if 'message' in event:\n",
    "        event['messages'][-1].pretty_print()"
   ]
  },
  {
   "cell_type": "markdown",
   "id": "33da4f3f",
   "metadata": {},
   "source": [
    "## MCP Server and MCP Client from scratch"
   ]
  },
  {
   "cell_type": "code",
   "execution_count": null,
   "id": "3b38218f",
   "metadata": {},
   "outputs": [],
   "source": [
    "from langchain_mcp_adapters.client import MultiServerMCPClient\n",
    "from langgraph.prebuilt import create_react_agent\n",
    "from langchain_groq import ChatGroq\n",
    "#from dotenv import load_dotenv\n",
    "#load_dotenv()\n",
    "import asyncio\n",
    "import os\n",
    "\n",
    "async def main():\n",
    "    client=MultiServerMCPClient(\n",
    "        {\n",
    "            'math':{\n",
    "                'command':'python',\n",
    "                'args':['mathserver.py'],\n",
    "                'transport':'stdio'\n",
    "            }, \n",
    "            'weather':{\n",
    "                'url':'http://localhost:8000/mcp',\n",
    "                'transport':'streamable_http'\n",
    "            }\n",
    "        }\n",
    "    )\n",
    "\n",
    "    tools=await client.get_tools()\n",
    "    model=ChatGroq(model='llama3-8b-8192-groq')\n",
    "    agent=create_react_agent(\n",
    "        model,tools\n",
    "    )\n",
    "\n",
    "    math_response=await agent.ainvoke(\n",
    "        {'messages':[{'role':'user','content':'What is (3+5) x 12?'}]}\n",
    "    )\n",
    "\n",
    "    print(\"Math response:\",math_response['messages'][-1].content)\n",
    "\n",
    "    await client.aclose() \n",
    "\n",
    "await main()"
   ]
  }
 ],
 "metadata": {
  "kernelspec": {
   "display_name": ".venv",
   "language": "python",
   "name": "python3"
  },
  "language_info": {
   "codemirror_mode": {
    "name": "ipython",
    "version": 3
   },
   "file_extension": ".py",
   "mimetype": "text/x-python",
   "name": "python",
   "nbconvert_exporter": "python",
   "pygments_lexer": "ipython3",
   "version": "3.13.7"
  }
 },
 "nbformat": 4,
 "nbformat_minor": 5
}
